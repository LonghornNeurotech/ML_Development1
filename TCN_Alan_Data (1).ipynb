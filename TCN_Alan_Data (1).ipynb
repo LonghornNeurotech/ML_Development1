{
  "nbformat": 4,
  "nbformat_minor": 0,
  "metadata": {
    "colab": {
      "provenance": [],
      "collapsed_sections": [
        "yY5McP--__GX",
        "Tx9vC3GJAGtz"
      ]
    },
    "kernelspec": {
      "name": "python3",
      "display_name": "Python 3"
    },
    "language_info": {
      "name": "python"
    }
  },
  "cells": [
    {
      "cell_type": "code",
      "execution_count": null,
      "metadata": {
        "id": "IWtYCPYjvh96"
      },
      "outputs": [],
      "source": [
        "import numpy as np\n",
        "import pandas as pd\n",
        "import torch\n",
        "import scipy\n",
        "from torch.utils.data import TensorDataset as TData\n",
        "from torch.utils.data import DataLoader as DL\n",
        "import matplotlib.pyplot as plt\n",
        "import pickle\n",
        "import os\n",
        "\n",
        "import torch\n",
        "import torch.nn as nn\n",
        "import torch.optim as optim\n",
        "\n",
        "if torch.cuda.is_available():\n",
        "  device = torch.device(\"cuda\")\n",
        "else:\n",
        "  device = torch.device(\"cpu\")\n",
        "\n",
        "root = '/content/drive/MyDrive/LHNT_pickles/'"
      ]
    },
    {
      "cell_type": "code",
      "source": [
        "from google.colab import drive\n",
        "drive.mount('/content/drive')"
      ],
      "metadata": {
        "colab": {
          "base_uri": "https://localhost:8080/"
        },
        "id": "n_tJPlNNO8cL",
        "outputId": "e5e30aa2-6410-4943-841e-f540a5a06645"
      },
      "execution_count": null,
      "outputs": [
        {
          "output_type": "stream",
          "name": "stdout",
          "text": [
            "Mounted at /content/drive\n"
          ]
        }
      ]
    },
    {
      "cell_type": "markdown",
      "source": [
        "# **Data Preprocessing**"
      ],
      "metadata": {
        "id": "F_wsXbsM9oBp"
      }
    },
    {
      "cell_type": "code",
      "source": [
        "# Base folder containing the files\n",
        "# right_session_folder = os.path.join(root, \"alan_f_right/session_1\")\n",
        "\n",
        "# Initialize a dictionary to store the loaded signals\n",
        "right_eeg_data = {}\n",
        "\n",
        "# Iterate through files labeled in increments of two\n",
        "for j in range(1, 5):\n",
        "  right_session_folder = os.path.join(root, f\"alan_f_right/session_{j}\")\n",
        "  for i in range(2, 21, 2):  # Adjust the range as needed\n",
        "      file_path = os.path.join(right_session_folder, f\"right_{i}.pkl\")\n",
        "\n",
        "      # Check if the file exists\n",
        "      if os.path.exists(file_path):\n",
        "          with open(file_path, \"rb\") as file:\n",
        "              data = pickle.load(file)\n",
        "              right_eeg_data[f\"right_{j}_{i}\"] = data  # Store the data with the corresponding label\n",
        "      else:\n",
        "          print(f\"File not found: {file_path}\")\n",
        "          break  # Stop if the file sequence ends\n",
        "\n",
        "# Print summary of loaded data\n",
        "print(f\"Loaded {len(right_eeg_data)} EEG signals.\")\n",
        "for label, signal in right_eeg_data.items():\n",
        "    print(f\"{label}: Type = {type(signal)}, Size = {len(signal) if hasattr(signal, '__len__') else 'N/A'}\")\n"
      ],
      "metadata": {
        "colab": {
          "base_uri": "https://localhost:8080/"
        },
        "id": "nMLXLpc-5BiP",
        "outputId": "b009e98f-d0a8-4ff7-c838-9f0bf7c533e5"
      },
      "execution_count": null,
      "outputs": [
        {
          "output_type": "stream",
          "name": "stdout",
          "text": [
            "Loaded 40 EEG signals.\n",
            "right_1_2: Type = <class 'tuple'>, Size = 2\n",
            "right_1_4: Type = <class 'tuple'>, Size = 2\n",
            "right_1_6: Type = <class 'tuple'>, Size = 2\n",
            "right_1_8: Type = <class 'tuple'>, Size = 2\n",
            "right_1_10: Type = <class 'tuple'>, Size = 2\n",
            "right_1_12: Type = <class 'tuple'>, Size = 2\n",
            "right_1_14: Type = <class 'tuple'>, Size = 2\n",
            "right_1_16: Type = <class 'tuple'>, Size = 2\n",
            "right_1_18: Type = <class 'tuple'>, Size = 2\n",
            "right_1_20: Type = <class 'tuple'>, Size = 2\n",
            "right_2_2: Type = <class 'tuple'>, Size = 2\n",
            "right_2_4: Type = <class 'tuple'>, Size = 2\n",
            "right_2_6: Type = <class 'tuple'>, Size = 2\n",
            "right_2_8: Type = <class 'tuple'>, Size = 2\n",
            "right_2_10: Type = <class 'tuple'>, Size = 2\n",
            "right_2_12: Type = <class 'tuple'>, Size = 2\n",
            "right_2_14: Type = <class 'tuple'>, Size = 2\n",
            "right_2_16: Type = <class 'tuple'>, Size = 2\n",
            "right_2_18: Type = <class 'tuple'>, Size = 2\n",
            "right_2_20: Type = <class 'tuple'>, Size = 2\n",
            "right_3_2: Type = <class 'tuple'>, Size = 2\n",
            "right_3_4: Type = <class 'tuple'>, Size = 2\n",
            "right_3_6: Type = <class 'tuple'>, Size = 2\n",
            "right_3_8: Type = <class 'tuple'>, Size = 2\n",
            "right_3_10: Type = <class 'tuple'>, Size = 2\n",
            "right_3_12: Type = <class 'tuple'>, Size = 2\n",
            "right_3_14: Type = <class 'tuple'>, Size = 2\n",
            "right_3_16: Type = <class 'tuple'>, Size = 2\n",
            "right_3_18: Type = <class 'tuple'>, Size = 2\n",
            "right_3_20: Type = <class 'tuple'>, Size = 2\n",
            "right_4_2: Type = <class 'tuple'>, Size = 2\n",
            "right_4_4: Type = <class 'tuple'>, Size = 2\n",
            "right_4_6: Type = <class 'tuple'>, Size = 2\n",
            "right_4_8: Type = <class 'tuple'>, Size = 2\n",
            "right_4_10: Type = <class 'tuple'>, Size = 2\n",
            "right_4_12: Type = <class 'tuple'>, Size = 2\n",
            "right_4_14: Type = <class 'tuple'>, Size = 2\n",
            "right_4_16: Type = <class 'tuple'>, Size = 2\n",
            "right_4_18: Type = <class 'tuple'>, Size = 2\n",
            "right_4_20: Type = <class 'tuple'>, Size = 2\n"
          ]
        }
      ]
    },
    {
      "cell_type": "code",
      "source": [
        "# Base folder containing the files\n",
        "# left_session_folder = os.path.join(root, \"alan_f_left/session_1\")\n",
        "\n",
        "# Initialize a dictionary to store the loaded signals\n",
        "left_eeg_data = {}\n",
        "\n",
        "for j in range(1, 5):\n",
        "  left_session_folder = os.path.join(root, f\"alan_f_left/session_{j}\")\n",
        "  # Iterate through files labeled in increments of two\n",
        "  for i in range(1, 20, 2):  # Adjust the range as needed\n",
        "      file_path = os.path.join(left_session_folder, f\"left_{i}.pkl\")\n",
        "\n",
        "      # Check if the file exists\n",
        "      if os.path.exists(file_path):\n",
        "          with open(file_path, \"rb\") as file:\n",
        "              data = pickle.load(file)\n",
        "              left_eeg_data[f\"left_{j}_{i}\"] = data  # Store the data with the corresponding label\n",
        "      else:\n",
        "          print(f\"File not found: {file_path}\")\n",
        "          break  # Stop if the file sequence ends\n",
        "\n",
        "# Print summary of loaded data\n",
        "print(f\"Loaded {len(left_eeg_data)} EEG signals.\")\n",
        "for label, signal in left_eeg_data.items():\n",
        "    print(f\"{label}: Type = {type(signal)}, Size = {len(signal) if hasattr(signal, '__len__') else 'N/A'}\")\n"
      ],
      "metadata": {
        "colab": {
          "base_uri": "https://localhost:8080/"
        },
        "id": "ftA9aQ18wSDa",
        "outputId": "18959031-2f85-47ea-85c4-9be2037a2f20"
      },
      "execution_count": null,
      "outputs": [
        {
          "output_type": "stream",
          "name": "stdout",
          "text": [
            "Loaded 40 EEG signals.\n",
            "left_1_1: Type = <class 'tuple'>, Size = 2\n",
            "left_1_3: Type = <class 'tuple'>, Size = 2\n",
            "left_1_5: Type = <class 'tuple'>, Size = 2\n",
            "left_1_7: Type = <class 'tuple'>, Size = 2\n",
            "left_1_9: Type = <class 'tuple'>, Size = 2\n",
            "left_1_11: Type = <class 'tuple'>, Size = 2\n",
            "left_1_13: Type = <class 'tuple'>, Size = 2\n",
            "left_1_15: Type = <class 'tuple'>, Size = 2\n",
            "left_1_17: Type = <class 'tuple'>, Size = 2\n",
            "left_1_19: Type = <class 'tuple'>, Size = 2\n",
            "left_2_1: Type = <class 'tuple'>, Size = 2\n",
            "left_2_3: Type = <class 'tuple'>, Size = 2\n",
            "left_2_5: Type = <class 'tuple'>, Size = 2\n",
            "left_2_7: Type = <class 'tuple'>, Size = 2\n",
            "left_2_9: Type = <class 'tuple'>, Size = 2\n",
            "left_2_11: Type = <class 'tuple'>, Size = 2\n",
            "left_2_13: Type = <class 'tuple'>, Size = 2\n",
            "left_2_15: Type = <class 'tuple'>, Size = 2\n",
            "left_2_17: Type = <class 'tuple'>, Size = 2\n",
            "left_2_19: Type = <class 'tuple'>, Size = 2\n",
            "left_3_1: Type = <class 'tuple'>, Size = 2\n",
            "left_3_3: Type = <class 'tuple'>, Size = 2\n",
            "left_3_5: Type = <class 'tuple'>, Size = 2\n",
            "left_3_7: Type = <class 'tuple'>, Size = 2\n",
            "left_3_9: Type = <class 'tuple'>, Size = 2\n",
            "left_3_11: Type = <class 'tuple'>, Size = 2\n",
            "left_3_13: Type = <class 'tuple'>, Size = 2\n",
            "left_3_15: Type = <class 'tuple'>, Size = 2\n",
            "left_3_17: Type = <class 'tuple'>, Size = 2\n",
            "left_3_19: Type = <class 'tuple'>, Size = 2\n",
            "left_4_1: Type = <class 'tuple'>, Size = 2\n",
            "left_4_3: Type = <class 'tuple'>, Size = 2\n",
            "left_4_5: Type = <class 'tuple'>, Size = 2\n",
            "left_4_7: Type = <class 'tuple'>, Size = 2\n",
            "left_4_9: Type = <class 'tuple'>, Size = 2\n",
            "left_4_11: Type = <class 'tuple'>, Size = 2\n",
            "left_4_13: Type = <class 'tuple'>, Size = 2\n",
            "left_4_15: Type = <class 'tuple'>, Size = 2\n",
            "left_4_17: Type = <class 'tuple'>, Size = 2\n",
            "left_4_19: Type = <class 'tuple'>, Size = 2\n"
          ]
        }
      ]
    },
    {
      "cell_type": "code",
      "source": [
        "# Inspect the contents of one tuple\n",
        "example_label = \"left_1_1\"\n",
        "example_tuple = left_eeg_data[example_label]\n",
        "\n",
        "print(f\"{example_label} - Element 0: Type = {type(example_tuple[0])}, Content = {example_tuple[0]}\")\n",
        "print(f\"{example_label} - Element 1: Type = {type(example_tuple[1])}, Content = {example_tuple[1]}\")\n"
      ],
      "metadata": {
        "colab": {
          "base_uri": "https://localhost:8080/"
        },
        "id": "6Z7phn8mynin",
        "outputId": "7d8bc722-7b76-47eb-f479-30e5e5f97218"
      },
      "execution_count": null,
      "outputs": [
        {
          "output_type": "stream",
          "name": "stdout",
          "text": [
            "left_1_1 - Element 0: Type = <class 'numpy.ndarray'>, Content = [[ 1.07494118e-01  1.16981031e-01  1.25534254e-01 ...  5.25463008e-10\n",
            "   5.25463017e-10  5.25463008e-10]\n",
            " [ 6.37435343e+02  6.39591051e+02  6.61951532e+02 ...  2.03435023e+02\n",
            "   2.01283768e+02  2.01690832e+02]\n",
            " [ 4.70954531e-01  7.39187233e+00  1.19185613e+01 ... -9.66871075e+00\n",
            "  -8.48860013e+00 -1.08858048e+01]\n",
            " ...\n",
            " [ 1.07494118e-01  1.16981031e-01  1.25534254e-01 ...  5.25463008e-10\n",
            "   5.25463017e-10  5.25463008e-10]\n",
            " [ 3.11900760e+02  3.02135437e+02  2.94692560e+02 ...  6.59457267e+01\n",
            "   5.76878637e+01  5.75658806e+01]\n",
            " [ 7.94149748e+00  7.37285207e+00  8.81192056e+00 ... -7.29059665e+00\n",
            "   5.85543683e+00  8.26233830e+00]]\n",
            "left_1_1 - Element 1: Type = <class 'dict'>, Content = {'First Name': 'Alan', 'Last Name': 'Fletcher', 'EID': 'agf687', 'Stimulant Use': '0 mg', 'Meal Size': 'Medium meal', 'Meal Description': '2 4 inch pancakes', 'Exercised': 'no', 'Exercise Description': 'N/A'}\n"
          ]
        }
      ]
    },
    {
      "cell_type": "code",
      "source": [
        "right_signal_data = {label: signal[0] for label, signal in right_eeg_data.items()}\n",
        "right_metadata = {label: signal[1] for label, signal in right_eeg_data.items()}\n",
        "\n",
        "# Inspect extracted signal data and metadata\n",
        "for label, signal in right_signal_data.items():\n",
        "    print(f\"{label}: Signal shape = {signal.shape}\")\n"
      ],
      "metadata": {
        "colab": {
          "base_uri": "https://localhost:8080/"
        },
        "id": "1FZ6EhF_5Odd",
        "outputId": "42fa3118-125f-44be-a46b-e6bd798ed83c"
      },
      "execution_count": null,
      "outputs": [
        {
          "output_type": "stream",
          "name": "stdout",
          "text": [
            "right_1_2: Signal shape = (16, 875)\n",
            "right_1_4: Signal shape = (16, 875)\n",
            "right_1_6: Signal shape = (16, 875)\n",
            "right_1_8: Signal shape = (16, 875)\n",
            "right_1_10: Signal shape = (16, 875)\n",
            "right_1_12: Signal shape = (16, 875)\n",
            "right_1_14: Signal shape = (16, 875)\n",
            "right_1_16: Signal shape = (16, 875)\n",
            "right_1_18: Signal shape = (16, 875)\n",
            "right_1_20: Signal shape = (16, 875)\n",
            "right_2_2: Signal shape = (16, 875)\n",
            "right_2_4: Signal shape = (16, 875)\n",
            "right_2_6: Signal shape = (16, 875)\n",
            "right_2_8: Signal shape = (16, 875)\n",
            "right_2_10: Signal shape = (16, 875)\n",
            "right_2_12: Signal shape = (16, 875)\n",
            "right_2_14: Signal shape = (16, 875)\n",
            "right_2_16: Signal shape = (16, 875)\n",
            "right_2_18: Signal shape = (16, 875)\n",
            "right_2_20: Signal shape = (16, 875)\n",
            "right_3_2: Signal shape = (16, 875)\n",
            "right_3_4: Signal shape = (16, 875)\n",
            "right_3_6: Signal shape = (16, 875)\n",
            "right_3_8: Signal shape = (16, 875)\n",
            "right_3_10: Signal shape = (16, 875)\n",
            "right_3_12: Signal shape = (16, 875)\n",
            "right_3_14: Signal shape = (16, 875)\n",
            "right_3_16: Signal shape = (16, 875)\n",
            "right_3_18: Signal shape = (16, 875)\n",
            "right_3_20: Signal shape = (16, 875)\n",
            "right_4_2: Signal shape = (16, 875)\n",
            "right_4_4: Signal shape = (16, 875)\n",
            "right_4_6: Signal shape = (16, 875)\n",
            "right_4_8: Signal shape = (16, 875)\n",
            "right_4_10: Signal shape = (16, 875)\n",
            "right_4_12: Signal shape = (16, 875)\n",
            "right_4_14: Signal shape = (16, 875)\n",
            "right_4_16: Signal shape = (16, 875)\n",
            "right_4_18: Signal shape = (16, 875)\n",
            "right_4_20: Signal shape = (16, 875)\n"
          ]
        }
      ]
    },
    {
      "cell_type": "code",
      "source": [
        "left_signal_data = {label: signal[0] for label, signal in left_eeg_data.items()}\n",
        "metadata = {label: signal[1] for label, signal in left_eeg_data.items()}\n",
        "\n",
        "# Inspect extracted signal data and metadata\n",
        "for label, signal in left_signal_data.items():\n",
        "    print(f\"{label}: Signal shape = {signal.shape}\")\n"
      ],
      "metadata": {
        "colab": {
          "base_uri": "https://localhost:8080/"
        },
        "id": "0G-zI589yZOP",
        "outputId": "01ffe093-5898-4c93-9f95-d7f912f34e56"
      },
      "execution_count": null,
      "outputs": [
        {
          "output_type": "stream",
          "name": "stdout",
          "text": [
            "left_1_1: Signal shape = (16, 875)\n",
            "left_1_3: Signal shape = (16, 875)\n",
            "left_1_5: Signal shape = (16, 875)\n",
            "left_1_7: Signal shape = (16, 875)\n",
            "left_1_9: Signal shape = (16, 875)\n",
            "left_1_11: Signal shape = (16, 875)\n",
            "left_1_13: Signal shape = (16, 875)\n",
            "left_1_15: Signal shape = (16, 875)\n",
            "left_1_17: Signal shape = (16, 875)\n",
            "left_1_19: Signal shape = (16, 875)\n",
            "left_2_1: Signal shape = (16, 875)\n",
            "left_2_3: Signal shape = (16, 875)\n",
            "left_2_5: Signal shape = (16, 875)\n",
            "left_2_7: Signal shape = (16, 875)\n",
            "left_2_9: Signal shape = (16, 875)\n",
            "left_2_11: Signal shape = (16, 875)\n",
            "left_2_13: Signal shape = (16, 875)\n",
            "left_2_15: Signal shape = (16, 875)\n",
            "left_2_17: Signal shape = (16, 875)\n",
            "left_2_19: Signal shape = (16, 875)\n",
            "left_3_1: Signal shape = (16, 875)\n",
            "left_3_3: Signal shape = (16, 875)\n",
            "left_3_5: Signal shape = (16, 875)\n",
            "left_3_7: Signal shape = (16, 875)\n",
            "left_3_9: Signal shape = (16, 875)\n",
            "left_3_11: Signal shape = (16, 875)\n",
            "left_3_13: Signal shape = (16, 875)\n",
            "left_3_15: Signal shape = (16, 875)\n",
            "left_3_17: Signal shape = (16, 875)\n",
            "left_3_19: Signal shape = (16, 875)\n",
            "left_4_1: Signal shape = (16, 875)\n",
            "left_4_3: Signal shape = (16, 875)\n",
            "left_4_5: Signal shape = (16, 875)\n",
            "left_4_7: Signal shape = (16, 875)\n",
            "left_4_9: Signal shape = (16, 875)\n",
            "left_4_11: Signal shape = (16, 875)\n",
            "left_4_13: Signal shape = (16, 875)\n",
            "left_4_15: Signal shape = (16, 875)\n",
            "left_4_17: Signal shape = (16, 875)\n",
            "left_4_19: Signal shape = (16, 875)\n"
          ]
        }
      ]
    },
    {
      "cell_type": "code",
      "source": [
        "plt.figure(figsize=(12, 60))\n",
        "\n",
        "channel_subset = range(0, 16) # 16 channels total\n",
        "\n",
        "for i, (label, signal) in enumerate(left_signal_data.items()):\n",
        "    plt.subplot(len(left_signal_data), 1, i + 1)\n",
        "    for j in channel_subset:  # Iterate through channels\n",
        "        plt.plot(signal[j], label=f\"Channel {j+1}\" if i == 0 else None)  # Add legend only once\n",
        "    plt.title(label)\n",
        "\n",
        "plt.title(\"Left\")\n",
        "plt.xlabel(\"Time (samples)\")\n",
        "plt.ylabel(\"Amplitude (μV)\")\n",
        "plt.tight_layout()\n",
        "\n",
        "if len(left_signal_data) > 1:\n",
        "    plt.legend()\n",
        "\n",
        "plt.show()\n"
      ],
      "metadata": {
        "collapsed": true,
        "id": "txX-VW2F588w"
      },
      "execution_count": null,
      "outputs": []
    },
    {
      "cell_type": "code",
      "source": [
        "plt.figure(figsize=(12, 60))\n",
        "\n",
        "channel_subset = range(0, 16) # 16 channels total\n",
        "\n",
        "for i, (label, signal) in enumerate(right_signal_data.items()):\n",
        "    plt.subplot(len(right_signal_data), 1, i + 1)\n",
        "    for j in channel_subset:  # Iterate through channels\n",
        "        plt.plot(signal[j], label=f\"Channel {j+1}\" if i == 0 else None)  # Add legend only once\n",
        "    plt.title(label)\n",
        "\n",
        "plt.title(\"Right\")\n",
        "plt.xlabel(\"Time (samples)\")\n",
        "plt.ylabel(\"Amplitude (μV)\")\n",
        "plt.tight_layout()\n",
        "\n",
        "if len(right_signal_data) > 1:\n",
        "    plt.legend()\n",
        "\n",
        "plt.show()\n"
      ],
      "metadata": {
        "collapsed": true,
        "id": "IBo_jL4-xujP"
      },
      "execution_count": null,
      "outputs": []
    },
    {
      "cell_type": "code",
      "source": [
        "import matplotlib.pyplot as plt\n",
        "\n",
        "label = \"left_1_1\"  # Change this to the specific signal you want to visualize\n",
        "signal = left_signal_data[label]\n",
        "\n",
        "plt.figure(figsize=(12, 8))\n",
        "\n",
        "# Plot each channel with a unique label\n",
        "for i in range(signal.shape[0]):  # Iterate through channels\n",
        "    plt.plot(signal[i], label=f\"Channel {i+1}\")  # Label each channel\n",
        "\n",
        "plt.title(f\"EEG Signal: {label}\")\n",
        "plt.xlabel(\"Time (samples)\")\n",
        "plt.ylabel(\"Amplitude (μV)\")\n",
        "plt.legend(title=\"Channels\")  # Add a legend with a title\n",
        "plt.show()\n"
      ],
      "metadata": {
        "colab": {
          "base_uri": "https://localhost:8080/",
          "height": 718
        },
        "collapsed": true,
        "id": "FnlmOyWB0sve",
        "outputId": "9c4453c6-da05-4595-92fd-f27130043f52"
      },
      "execution_count": null,
      "outputs": [
        {
          "output_type": "display_data",
          "data": {
            "text/plain": [
              "<Figure size 1200x800 with 1 Axes>"
            ],
            "image/png": "[encoded data removed]"
          },
          "metadata": {}
        }
      ]
    },
    {
      "cell_type": "code",
      "source": [
        "from scipy.signal import butter, filtfilt\n",
        "from sklearn.preprocessing import StandardScaler\n",
        "\n",
        "def baseline_correction(signal):\n",
        "    \"\"\"\n",
        "    Removes baseline offset by subtracting the mean of each channel.\n",
        "\n",
        "    Parameters:\n",
        "        signal (np.ndarray): EEG signal with shape (channels, samples).\n",
        "\n",
        "    Returns:\n",
        "        np.ndarray: Baseline-corrected signal.\n",
        "    \"\"\"\n",
        "    return signal - np.mean(signal, axis=1, keepdims=True)\n",
        "\n",
        "\n",
        "def bandpass_filter(signal, lowcut=13, highcut=30, fs=256, order=4):\n",
        "    \"\"\"\n",
        "    Band-pass filters the signal for the specified frequency range.\n",
        "\n",
        "    Parameters:\n",
        "        signal (np.ndarray): EEG signal with shape (channels, samples).\n",
        "        lowcut (float): Lower cutoff frequency (Hz).\n",
        "        highcut (float): Upper cutoff frequency (Hz).\n",
        "        fs (float): Sampling rate (Hz).\n",
        "        order (int): Order of the filter.\n",
        "\n",
        "    Returns:\n",
        "        np.ndarray: Band-pass filtered signal.\n",
        "    \"\"\"\n",
        "    nyquist = 0.5 * fs\n",
        "    low = lowcut / nyquist\n",
        "    high = highcut / nyquist\n",
        "    b, a = butter(order, [low, high], btype=\"band\")\n",
        "    return filtfilt(b, a, signal, axis=1)\n",
        "\n",
        "def normalize_signal(signal):\n",
        "    \"\"\"\n",
        "    Normalizes the signal for each channel (z-score normalization).\n",
        "\n",
        "    Parameters:\n",
        "        signal (np.ndarray): EEG signal with shape (channels, samples).\n",
        "\n",
        "    Returns:\n",
        "        np.ndarray: Normalized signal.\n",
        "    \"\"\"\n",
        "    scaler = StandardScaler()\n",
        "    return scaler.fit_transform(signal.T).T  # Transpose to normalize each channel\n",
        "\n",
        "def preprocess_eeg(signal, fs=256):\n",
        "    \"\"\"\n",
        "    Preprocess EEG signal with baseline correction, band-pass filtering, and normalization.\n",
        "\n",
        "    Parameters:\n",
        "        signal (np.ndarray): EEG signal with shape (channels, samples).\n",
        "        fs (float): Sampling rate (Hz).\n",
        "\n",
        "    Returns:\n",
        "        np.ndarray: Preprocessed EEG signal.\n",
        "    \"\"\"\n",
        "    # Step 1: Baseline Correction\n",
        "    signal_corrected = baseline_correction(signal)\n",
        "\n",
        "    # Step 2: Band-Pass Filter (Beta Frequencies)\n",
        "    signal_filtered = bandpass_filter(signal_corrected, lowcut=4, highcut=40, fs=fs)\n",
        "\n",
        "    # Step 3: Normalization\n",
        "    signal_normalized = normalize_signal(signal_filtered)\n",
        "\n",
        "    return signal_normalized\n"
      ],
      "metadata": {
        "id": "3NdP-g8v2sO9"
      },
      "execution_count": null,
      "outputs": []
    },
    {
      "cell_type": "code",
      "source": [
        "# Preprocess each signal in the dictionary\n",
        "right_preprocessed_signals = {label: preprocess_eeg(signal, fs=256) for label, signal in right_signal_data.items()}\n",
        "\n",
        "# Inspect the shapes of the processed signals\n",
        "for label, signal in right_preprocessed_signals.items():\n",
        "    print(f\"{label}: RIGHT Processed Signal Shape = {signal.shape}\")\n"
      ],
      "metadata": {
        "colab": {
          "base_uri": "https://localhost:8080/"
        },
        "id": "zgPHDa3G62Fl",
        "outputId": "982d0cc2-7b5e-42f8-b6c5-0bac01550ffe"
      },
      "execution_count": null,
      "outputs": [
        {
          "output_type": "stream",
          "name": "stdout",
          "text": [
            "right_1_2: RIGHT Processed Signal Shape = (16, 875)\n",
            "right_1_4: RIGHT Processed Signal Shape = (16, 875)\n",
            "right_1_6: RIGHT Processed Signal Shape = (16, 875)\n",
            "right_1_8: RIGHT Processed Signal Shape = (16, 875)\n",
            "right_1_10: RIGHT Processed Signal Shape = (16, 875)\n",
            "right_1_12: RIGHT Processed Signal Shape = (16, 875)\n",
            "right_1_14: RIGHT Processed Signal Shape = (16, 875)\n",
            "right_1_16: RIGHT Processed Signal Shape = (16, 875)\n",
            "right_1_18: RIGHT Processed Signal Shape = (16, 875)\n",
            "right_1_20: RIGHT Processed Signal Shape = (16, 875)\n",
            "right_2_2: RIGHT Processed Signal Shape = (16, 875)\n",
            "right_2_4: RIGHT Processed Signal Shape = (16, 875)\n",
            "right_2_6: RIGHT Processed Signal Shape = (16, 875)\n",
            "right_2_8: RIGHT Processed Signal Shape = (16, 875)\n",
            "right_2_10: RIGHT Processed Signal Shape = (16, 875)\n",
            "right_2_12: RIGHT Processed Signal Shape = (16, 875)\n",
            "right_2_14: RIGHT Processed Signal Shape = (16, 875)\n",
            "right_2_16: RIGHT Processed Signal Shape = (16, 875)\n",
            "right_2_18: RIGHT Processed Signal Shape = (16, 875)\n",
            "right_2_20: RIGHT Processed Signal Shape = (16, 875)\n",
            "right_3_2: RIGHT Processed Signal Shape = (16, 875)\n",
            "right_3_4: RIGHT Processed Signal Shape = (16, 875)\n",
            "right_3_6: RIGHT Processed Signal Shape = (16, 875)\n",
            "right_3_8: RIGHT Processed Signal Shape = (16, 875)\n",
            "right_3_10: RIGHT Processed Signal Shape = (16, 875)\n",
            "right_3_12: RIGHT Processed Signal Shape = (16, 875)\n",
            "right_3_14: RIGHT Processed Signal Shape = (16, 875)\n",
            "right_3_16: RIGHT Processed Signal Shape = (16, 875)\n",
            "right_3_18: RIGHT Processed Signal Shape = (16, 875)\n",
            "right_3_20: RIGHT Processed Signal Shape = (16, 875)\n",
            "right_4_2: RIGHT Processed Signal Shape = (16, 875)\n",
            "right_4_4: RIGHT Processed Signal Shape = (16, 875)\n",
            "right_4_6: RIGHT Processed Signal Shape = (16, 875)\n",
            "right_4_8: RIGHT Processed Signal Shape = (16, 875)\n",
            "right_4_10: RIGHT Processed Signal Shape = (16, 875)\n",
            "right_4_12: RIGHT Processed Signal Shape = (16, 875)\n",
            "right_4_14: RIGHT Processed Signal Shape = (16, 875)\n",
            "right_4_16: RIGHT Processed Signal Shape = (16, 875)\n",
            "right_4_18: RIGHT Processed Signal Shape = (16, 875)\n",
            "right_4_20: RIGHT Processed Signal Shape = (16, 875)\n"
          ]
        }
      ]
    },
    {
      "cell_type": "code",
      "source": [
        "# Preprocess each signal in the dictionary\n",
        "left_preprocessed_signals = {label: preprocess_eeg(signal, fs=256) for label, signal in left_signal_data.items()}\n",
        "\n",
        "# Inspect the shapes of the processed signals\n",
        "for label, signal in left_preprocessed_signals.items():\n",
        "    print(f\"{label}: LEFT Processed Signal Shape = {signal.shape}\")\n"
      ],
      "metadata": {
        "colab": {
          "base_uri": "https://localhost:8080/"
        },
        "collapsed": true,
        "id": "KcG-0PEX23p6",
        "outputId": "f56a29fb-15d7-48a4-95c0-e049a1e0521a"
      },
      "execution_count": null,
      "outputs": [
        {
          "output_type": "stream",
          "name": "stdout",
          "text": [
            "left_1_1: LEFT Processed Signal Shape = (16, 875)\n",
            "left_1_3: LEFT Processed Signal Shape = (16, 875)\n",
            "left_1_5: LEFT Processed Signal Shape = (16, 875)\n",
            "left_1_7: LEFT Processed Signal Shape = (16, 875)\n",
            "left_1_9: LEFT Processed Signal Shape = (16, 875)\n",
            "left_1_11: LEFT Processed Signal Shape = (16, 875)\n",
            "left_1_13: LEFT Processed Signal Shape = (16, 875)\n",
            "left_1_15: LEFT Processed Signal Shape = (16, 875)\n",
            "left_1_17: LEFT Processed Signal Shape = (16, 875)\n",
            "left_1_19: LEFT Processed Signal Shape = (16, 875)\n",
            "left_2_1: LEFT Processed Signal Shape = (16, 875)\n",
            "left_2_3: LEFT Processed Signal Shape = (16, 875)\n",
            "left_2_5: LEFT Processed Signal Shape = (16, 875)\n",
            "left_2_7: LEFT Processed Signal Shape = (16, 875)\n",
            "left_2_9: LEFT Processed Signal Shape = (16, 875)\n",
            "left_2_11: LEFT Processed Signal Shape = (16, 875)\n",
            "left_2_13: LEFT Processed Signal Shape = (16, 875)\n",
            "left_2_15: LEFT Processed Signal Shape = (16, 875)\n",
            "left_2_17: LEFT Processed Signal Shape = (16, 875)\n",
            "left_2_19: LEFT Processed Signal Shape = (16, 875)\n",
            "left_3_1: LEFT Processed Signal Shape = (16, 875)\n",
            "left_3_3: LEFT Processed Signal Shape = (16, 875)\n",
            "left_3_5: LEFT Processed Signal Shape = (16, 875)\n",
            "left_3_7: LEFT Processed Signal Shape = (16, 875)\n",
            "left_3_9: LEFT Processed Signal Shape = (16, 875)\n",
            "left_3_11: LEFT Processed Signal Shape = (16, 875)\n",
            "left_3_13: LEFT Processed Signal Shape = (16, 875)\n",
            "left_3_15: LEFT Processed Signal Shape = (16, 875)\n",
            "left_3_17: LEFT Processed Signal Shape = (16, 875)\n",
            "left_3_19: LEFT Processed Signal Shape = (16, 875)\n",
            "left_4_1: LEFT Processed Signal Shape = (16, 875)\n",
            "left_4_3: LEFT Processed Signal Shape = (16, 875)\n",
            "left_4_5: LEFT Processed Signal Shape = (16, 875)\n",
            "left_4_7: LEFT Processed Signal Shape = (16, 875)\n",
            "left_4_9: LEFT Processed Signal Shape = (16, 875)\n",
            "left_4_11: LEFT Processed Signal Shape = (16, 875)\n",
            "left_4_13: LEFT Processed Signal Shape = (16, 875)\n",
            "left_4_15: LEFT Processed Signal Shape = (16, 875)\n",
            "left_4_17: LEFT Processed Signal Shape = (16, 875)\n",
            "left_4_19: LEFT Processed Signal Shape = (16, 875)\n"
          ]
        }
      ]
    },
    {
      "cell_type": "code",
      "source": [
        "import matplotlib.pyplot as plt\n",
        "\n",
        "# Sort labels into left and right based on their numbering\n",
        "left_labels = []\n",
        "right_labels = []\n",
        "for j in range(1, 5):\n",
        "  for i in range(1, 20, 2):\n",
        "    left_labels.append(f\"left_{j}_{i}\")\n",
        "    right_labels.append(f\"right_{j}_{i + 1}\")\n",
        "\n",
        "# Ensure the number of left and right labels match\n",
        "assert len(left_labels) == len(right_labels), \"Mismatch between left and right signals!\"\n",
        "\n",
        "# Compare left and right signals side by side\n",
        "for left_label, right_label in zip(left_labels, right_labels):\n",
        "    left_signal = left_preprocessed_signals[left_label]\n",
        "    right_signal = right_preprocessed_signals[right_label]\n",
        "\n",
        "    # Ensure the signals have the same number of channels for comparison\n",
        "    assert left_signal.shape == right_signal.shape, f\"Shape mismatch for {left_label} and {right_label}\"\n",
        "\n",
        "    num_channels = left_signal.shape[0]\n",
        "\n",
        "    plt.figure(figsize=(16, num_channels * 3))\n",
        "    plt.suptitle(f\"Comparison of Left ({left_label}) vs Right ({right_label}) Signals\", fontsize=16)\n",
        "\n",
        "    for i in range(num_channels):\n",
        "        # Left signal\n",
        "        plt.subplot(num_channels, 2, i * 2 + 1)\n",
        "        plt.plot(left_signal[i], label=f\"Left Channel {i+1}\", color='blue')\n",
        "        plt.title(f\"Left Signal - Channel {i+1}\")\n",
        "        plt.xlabel(\"Time (samples)\")\n",
        "        plt.ylabel(\"Amplitude (Normalized)\")\n",
        "        plt.legend()\n",
        "\n",
        "        # Right signal\n",
        "        plt.subplot(num_channels, 2, i * 2 + 2)\n",
        "        plt.plot(right_signal[i], label=f\"Right Channel {i+1}\", color='red')\n",
        "        plt.title(f\"Right Signal - Channel {i+1}\")\n",
        "        plt.xlabel(\"Time (samples)\")\n",
        "        plt.ylabel(\"Amplitude (Normalized)\")\n",
        "        plt.legend()\n",
        "\n",
        "    plt.tight_layout(rect=[0, 0, 1, 0.95])\n",
        "    plt.show()\n"
      ],
      "metadata": {
        "id": "oqhRs-CL4Gp2"
      },
      "execution_count": null,
      "outputs": []
    },
    {
      "cell_type": "markdown",
      "source": [
        "# **Data Loading**"
      ],
      "metadata": {
        "id": "wlMmCu1v9tL1"
      }
    },
    {
      "cell_type": "code",
      "source": [
        "# Combine left and right signals into a single dataset with labels\n",
        "X = []  # Feature data\n",
        "y = []  # Labels\n",
        "\n",
        "# Add left signals with label 0\n",
        "for signal in left_preprocessed_signals.values():\n",
        "    X.append(signal)  # Add the signal (channels x samples)\n",
        "    y.append(0)  # Label for left signals\n",
        "\n",
        "# Add right signals with label 1\n",
        "for signal in right_preprocessed_signals.values():\n",
        "    X.append(signal)\n",
        "    y.append(1)  # Label for right signals\n",
        "\n",
        "# Convert to NumPy arrays\n",
        "X = np.array(X)  # Shape: (num_samples, num_channels, num_timepoints)\n",
        "y = np.array(y)  # Shape: (num_samples,)\n",
        "print(f\"Combined dataset shape: X={X.shape}, y={y.shape}\")\n"
      ],
      "metadata": {
        "colab": {
          "base_uri": "https://localhost:8080/"
        },
        "id": "FqOL1Mg09xuJ",
        "outputId": "e24072b4-68bf-442a-e82e-6809ca944a74"
      },
      "execution_count": null,
      "outputs": [
        {
          "output_type": "stream",
          "name": "stdout",
          "text": [
            "Combined dataset shape: X=(80, 16, 875), y=(80,)\n"
          ]
        }
      ]
    },
    {
      "cell_type": "code",
      "source": [
        "from sklearn.model_selection import train_test_split\n",
        "\n",
        "# Split the data into training and testing sets\n",
        "X_train, X_test, y_train, y_test = train_test_split(X, y, test_size=0.2, random_state=42, stratify=y)\n",
        "\n",
        "print(f\"Training set: X_train={X_train.shape}, y_train={y_train.shape}\")\n",
        "print(f\"Testing set: X_test={X_test.shape}, y_test={y_test.shape}\")\n"
      ],
      "metadata": {
        "colab": {
          "base_uri": "https://localhost:8080/"
        },
        "id": "3ja9EVac-U5h",
        "outputId": "071add07-dff8-48af-9c87-0f6704dd696c"
      },
      "execution_count": null,
      "outputs": [
        {
          "output_type": "stream",
          "name": "stdout",
          "text": [
            "Training set: X_train=(64, 16, 875), y_train=(64,)\n",
            "Testing set: X_test=(16, 16, 875), y_test=(16,)\n"
          ]
        }
      ]
    },
    {
      "cell_type": "code",
      "source": [
        "X_train_eegnet = X_train[:, np.newaxis, :, :]  # Shape: (num_samples, 1, num_channels, num_timepoints)\n",
        "X_test_eegnet = X_test[:, np.newaxis, :, :]"
      ],
      "metadata": {
        "id": "K4xNg0b5XrPe"
      },
      "execution_count": null,
      "outputs": []
    },
    {
      "cell_type": "code",
      "source": [
        "import torch\n",
        "\n",
        "# Convert data to PyTorch tensors\n",
        "X_train_tensor = torch.tensor(X_train, dtype=torch.float32)  # Shape: (num_samples, num_channels, num_timepoints)\n",
        "y_train_tensor = torch.tensor(y_train, dtype=torch.long)    # Shape: (num_samples,)\n",
        "\n",
        "X_test_tensor = torch.tensor(X_test, dtype=torch.float32)\n",
        "y_test_tensor = torch.tensor(y_test, dtype=torch.long)\n",
        "\n",
        "print(f\"Training tensors: X_train_tensor={X_train_tensor.shape}, y_train_tensor={y_train_tensor.shape}\")\n",
        "print(f\"Testing tensors: X_test_tensor={X_test_tensor.shape}, y_test_tensor={y_test_tensor.shape}\")\n"
      ],
      "metadata": {
        "colab": {
          "base_uri": "https://localhost:8080/"
        },
        "id": "wlntXB11-WUP",
        "outputId": "40b1145e-04c7-4f40-c866-70cf364a42d7"
      },
      "execution_count": null,
      "outputs": [
        {
          "output_type": "stream",
          "name": "stdout",
          "text": [
            "Training tensors: X_train_tensor=torch.Size([64, 16, 875]), y_train_tensor=torch.Size([64])\n",
            "Testing tensors: X_test_tensor=torch.Size([16, 16, 875]), y_test_tensor=torch.Size([16])\n"
          ]
        }
      ]
    },
    {
      "cell_type": "code",
      "source": [
        "from torch.utils.data import DataLoader, TensorDataset\n",
        "\n",
        "# Combine tensors into a TensorDataset\n",
        "train_dataset = TensorDataset(X_train_tensor, y_train_tensor)\n",
        "test_dataset = TensorDataset(X_test_tensor, y_test_tensor)\n",
        "\n",
        "# Create DataLoaders\n",
        "train_loader = DataLoader(train_dataset, batch_size=32, shuffle=True)  # Adjust batch_size as needed\n",
        "test_loader = DataLoader(test_dataset, batch_size=32, shuffle=False)\n"
      ],
      "metadata": {
        "id": "T1FRB1xX-Ye8"
      },
      "execution_count": null,
      "outputs": []
    },
    {
      "cell_type": "markdown",
      "source": [
        "#  TCN Model"
      ],
      "metadata": {
        "id": "uAiP_fLCR0h-"
      }
    },
    {
      "cell_type": "code",
      "source": [
        "# prompt: Given the data make a TCN model that efficiently processes the data, does signal processing, does partitioning Dataset and Creating Data Loaders\n",
        "# And separable-conv model and efficiently trains the model and evaluates the mod\n",
        "import torch\n",
        "import torch.nn as nn\n",
        "import torch.optim as optim\n",
        "from torch.utils.data import DataLoader, TensorDataset\n",
        "import numpy as np\n",
        "\n",
        "import pandas as pd\n",
        "\n",
        "# Hyperparameters\n",
        "input_size = 80\n",
        "output_size = 2\n",
        "num_channels = [20, 20]\n",
        "kernel_size = 3\n",
        "dropout = 0.2\n",
        "learning_rate = 0.001\n",
        "batch_size = 32\n",
        "num_epochs = 10\n",
        "num_channels_in_data = 16\n",
        "\n",
        "\n",
        "\n",
        "# 3. TCN Model\n",
        "class TCN(nn.Module):\n",
        "  def __init__(self, in_channels, n_classes):\n",
        "    super().__init__()\n",
        "    self.convblock1 = torch.nn.Sequential(torch.nn.Conv1d(in_channels, in_channels, kernel_size = 3, groups = 1), # depthwise convolution\n",
        "                                           torch.nn.Conv1d(in_channels, 32, kernel_size=1), # pointwise convolution\n",
        "                                           torch.nn.BatchNorm1d(32),\n",
        "                                           torch.nn.ReLU())\n",
        "    # optional convblock can be uncommented by input channels to linear layer must be updated\n",
        "    # self.convblock2 = torch.nn.Sequential(torch.nn.Conv1d(32, 32, kernel_size=3, stride = 2, groups = 32), # depthwise convolution\n",
        "    #                                        torch.nn.Conv1d(32, 64, kernel_size=1), # pointwise convolution\n",
        "    #                                        torch.nn.BatchNorm1d(64),\n",
        "    #                                        torch.nn.ReLU())\n",
        "    self.flatten = torch.nn.Flatten()\n",
        "    self.dropout = torch.nn.Dropout(0.5)\n",
        "    signal_length = 875\n",
        "    output_size = 32 * (signal_length - kernel_size + 1)  # Output size after convblock1 and before flatten\n",
        "\n",
        "    # Adjust the input size of the linear layer to match the output size of the convolutional layers\n",
        "    self.dense = torch.nn.Linear(output_size, n_classes)\n",
        "\n",
        "  def forward(self, x):\n",
        "    # pass data through both separable conv block\n",
        "    y = self.convblock1(x)\n",
        "    # y = self.convblock2(y)\n",
        "    # flatten data\n",
        "\n",
        "    y = self.flatten(y)\n",
        "\n",
        "    # dropout regularization to help mitigate overfitting\n",
        "    y = self.dropout(y)\n",
        "    # pass through final linear layer\n",
        "    y = self.dense(y)\n",
        "    return y\n",
        "\n",
        "convNet = TCN(num_channels_in_data, 2).to(device)\n",
        "\n",
        "##### Model Training\n",
        "\n",
        "from tqdm.auto import tqdm\n",
        "# using cross_entropy_loss\n",
        "criterion = torch.nn.CrossEntropyLoss()\n",
        "# using SGD optimizer for optimal convergence, even if slower\n",
        "optimizer = torch.optim.SGD(convNet.parameters(), lr = 0.009, momentum = 0.9, weight_decay=5e-3)\n",
        "epochs = 8\n",
        "\n",
        "train_losses = []\n",
        "val_losses = []\n",
        "accs = []\n",
        "max_acc = 0\n",
        "for i in range(epochs):\n",
        "  total_train_loss = 0.0\n",
        "  # set model to training mode\n",
        "  convNet.train()\n",
        "  # create progress bar\n",
        "  pbar = tqdm(total=len(train_loader))\n",
        "  for j, (sig, labels) in tqdm(enumerate(train_loader)):\n",
        "    # add signal and label to cuda device\n",
        "    sig = sig.to(device)\n",
        "    labels = labels.to(device)\n",
        "    optimizer.zero_grad()\n",
        "    # forward pass\n",
        "\n",
        "    pred = convNet(sig)\n",
        "    # loss evaluation\n",
        "    loss = criterion(pred, labels)\n",
        "    # backpropagation\n",
        "    loss.backward()\n",
        "    optimizer.step()\n",
        "\n",
        "    total_train_loss += loss.item()\n",
        "    # update progress bar with running loss\n",
        "    pbar.set_description(f\"Epoch {i + 1}    loss={total_train_loss / (j + 1):0.4f}\")\n",
        "    pbar.update(1)\n",
        "  pbar.close()\n",
        "  train_losses.append(total_train_loss / len(train_loader))\n",
        "\n",
        "  total_val_loss = 0.0\n",
        "  total_accuracy = 0.0\n",
        "  # set model to evaluation mode, which changes the behavior\n",
        "  # of some layers like dropout and batch normalization\n",
        "  convNet.eval()\n",
        "  with torch.no_grad():\n",
        "      # create progress bar\n",
        "      pbar = tqdm(total=len(test_loader))\n",
        "      for j, (sig, labels) in enumerate(test_loader):\n",
        "          # send signal and label to cuda device\n",
        "          sig = sig.to(device)\n",
        "          labels = labels.to(device)\n",
        "          # make prediction and evaluate loss\n",
        "          pred = convNet(sig)\n",
        "          loss = criterion(pred, labels)\n",
        "\n",
        "          # perform softmax on output which is usually performed by loss automatically\n",
        "          # this gives a probability vector\n",
        "          prob_pred = torch.nn.functional.softmax(pred, -1)\n",
        "          # compute accuracies by\n",
        "          # 1. getting index of highest number (highest probability prediction)\n",
        "          # 2. comparing the tensors element wise which gives boolean array comparing predictions to ground truth\n",
        "          # 3. converting boolean array into array of 0s and 1s\n",
        "          # 4. calculating mean with binary array, which gives (correct predictions) / (total predictions)\n",
        "          acc = (prob_pred.argmax(-1) == labels.argmax(-1)).float().mean()\n",
        "          total_val_loss += loss.item()\n",
        "          total_accuracy += acc.item()\n",
        "\n",
        "          # update progress bar with val loss and accuracy\n",
        "          pbar.set_description(f\"val loss={total_val_loss / (j + 1):.4f}    val acc={total_accuracy / (j + 1):.4f}\")\n",
        "          pbar.update(1)\n",
        "      print()\n",
        "      pbar.close()\n",
        "      val_losses.append(total_val_loss / len(test_loader))\n",
        "      accs.append(total_accuracy / len(test_loader))\n",
        "\n",
        "  # save model if accuracy is best seen\n",
        "  if accs[-1] > max_acc:\n",
        "    # dictionary with model state dict, optimizer state dict, and best accuracy\n",
        "    checkpoint = {'state_dict': convNet.state_dict(), 'optimizer': optimizer.state_dict(), 'best_acc': accs[-1]}\n",
        "    # save dictionary to specified file path if it exists or create new one otherwise\n",
        "    torch.save(checkpoint, 'SepConv2.pth.tar')\n",
        "    print('Model Saved')\n",
        "    max_acc = accs[-1]"
      ],
      "metadata": {
        "colab": {
          "base_uri": "https://localhost:8080/",
          "height": 216
        },
        "id": "0MKGe5iaR0Gm",
        "outputId": "d0b30628-fe2d-4ae4-e87a-0781519e637a"
      },
      "execution_count": null,
      "outputs": [
        {
          "output_type": "error",
          "ename": "NameError",
          "evalue": "name 'train_loader' is not defined",
          "traceback": [
            "\u001b[0;31m---------------------------------------------------------------------------\u001b[0m",
            "\u001b[0;31mNameError\u001b[0m                                 Traceback (most recent call last)",
            "\u001b[0;32m<ipython-input-19-b5971c582b7c>\u001b[0m in \u001b[0;36m<cell line: 74>\u001b[0;34m()\u001b[0m\n\u001b[1;32m     77\u001b[0m   \u001b[0mconvNet\u001b[0m\u001b[0;34m.\u001b[0m\u001b[0mtrain\u001b[0m\u001b[0;34m(\u001b[0m\u001b[0;34m)\u001b[0m\u001b[0;34m\u001b[0m\u001b[0;34m\u001b[0m\u001b[0m\n\u001b[1;32m     78\u001b[0m   \u001b[0;31m# create progress bar\u001b[0m\u001b[0;34m\u001b[0m\u001b[0;34m\u001b[0m\u001b[0m\n\u001b[0;32m---> 79\u001b[0;31m   \u001b[0mpbar\u001b[0m \u001b[0;34m=\u001b[0m \u001b[0mtqdm\u001b[0m\u001b[0;34m(\u001b[0m\u001b[0mtotal\u001b[0m\u001b[0;34m=\u001b[0m\u001b[0mlen\u001b[0m\u001b[0;34m(\u001b[0m\u001b[0mtrain_loader\u001b[0m\u001b[0;34m)\u001b[0m\u001b[0;34m)\u001b[0m\u001b[0;34m\u001b[0m\u001b[0;34m\u001b[0m\u001b[0m\n\u001b[0m\u001b[1;32m     80\u001b[0m   \u001b[0;32mfor\u001b[0m \u001b[0mj\u001b[0m\u001b[0;34m,\u001b[0m \u001b[0;34m(\u001b[0m\u001b[0msig\u001b[0m\u001b[0;34m,\u001b[0m \u001b[0mlabels\u001b[0m\u001b[0;34m)\u001b[0m \u001b[0;32min\u001b[0m \u001b[0mtqdm\u001b[0m\u001b[0;34m(\u001b[0m\u001b[0menumerate\u001b[0m\u001b[0;34m(\u001b[0m\u001b[0mtrain_loader\u001b[0m\u001b[0;34m)\u001b[0m\u001b[0;34m)\u001b[0m\u001b[0;34m:\u001b[0m\u001b[0;34m\u001b[0m\u001b[0;34m\u001b[0m\u001b[0m\n\u001b[1;32m     81\u001b[0m     \u001b[0;31m# add signal and label to cuda device\u001b[0m\u001b[0;34m\u001b[0m\u001b[0;34m\u001b[0m\u001b[0m\n",
            "\u001b[0;31mNameError\u001b[0m: name 'train_loader' is not defined"
          ]
        }
      ]
    },
    {
      "source": [
        "convNet = TCN(num_channels_in_data, 2).to(device)"
      ],
      "cell_type": "code",
      "metadata": {
        "id": "HBwIz7Jpbzqc"
      },
      "execution_count": null,
      "outputs": []
    },
    {
      "cell_type": "markdown",
      "source": [
        "# **Initial model training** (mainly to see if data is loaded properly)"
      ],
      "metadata": {
        "id": "yY5McP--__GX"
      }
    },
    {
      "cell_type": "code",
      "source": [
        "import torch\n",
        "import torch.nn as nn\n",
        "import torch.optim as optim\n",
        "\n",
        "# Define the 1D CNN model\n",
        "class Simple1DCNN(nn.Module):\n",
        "    def __init__(self, num_channels, num_classes):\n",
        "        super(Simple1DCNN, self).__init__()\n",
        "        self.conv1 = nn.Conv1d(num_channels, 16, kernel_size=3, stride=1, padding=1)  # Conv layer\n",
        "        self.bn1 = nn.BatchNorm1d(16)  # Batch normalization\n",
        "        self.relu = nn.ReLU()\n",
        "        self.conv2 = nn.Conv1d(16, 32, kernel_size=3, stride=1, padding=1)\n",
        "        self.bn2 = nn.BatchNorm1d(32)\n",
        "        self.fc = nn.Linear(32, num_classes)  # Fully connected layer for classification\n",
        "\n",
        "    def forward(self, x):\n",
        "        # Input shape: (batch_size, num_channels, num_timepoints)\n",
        "        x = self.conv1(x)  # Conv layer 1\n",
        "        x = self.bn1(x)  # Batch normalization\n",
        "        x = self.relu(x)  # Activation\n",
        "        x = self.conv2(x)  # Conv layer 2\n",
        "        x = self.bn2(x)  # Batch normalization\n",
        "        x = self.relu(x)  # Activation\n",
        "        x = x.mean(dim=2)  # Global average pooling over the time dimension\n",
        "        x = self.fc(x)  # Fully connected layer\n",
        "        return x\n",
        "\n",
        "# Instantiate the model\n",
        "num_channels = X_train_tensor.shape[1]  # Number of EEG channels\n",
        "num_classes = 2  # Binary classification (left vs right)\n",
        "model = Simple1DCNN(num_channels=num_channels, num_classes=num_classes)\n",
        "\n",
        "# Loss and optimizer\n",
        "criterion = nn.CrossEntropyLoss()\n",
        "optimizer = optim.Adam(model.parameters(), lr=0.001)\n",
        "\n",
        "# Move model to GPU if available\n",
        "device = torch.device(\"cuda\" if torch.cuda.is_available() else \"cpu\")\n",
        "model.to(device)\n"
      ],
      "metadata": {
        "colab": {
          "base_uri": "https://localhost:8080/"
        },
        "id": "fgamgouG-cs-",
        "outputId": "31fb9c4b-0b0d-43f1-d48e-572000584ba8"
      },
      "execution_count": null,
      "outputs": [
        {
          "output_type": "execute_result",
          "data": {
            "text/plain": [
              "Simple1DCNN(\n",
              "  (conv1): Conv1d(16, 16, kernel_size=(3,), stride=(1,), padding=(1,))\n",
              "  (bn1): BatchNorm1d(16, eps=1e-05, momentum=0.1, affine=True, track_running_stats=True)\n",
              "  (relu): ReLU()\n",
              "  (conv2): Conv1d(16, 32, kernel_size=(3,), stride=(1,), padding=(1,))\n",
              "  (bn2): BatchNorm1d(32, eps=1e-05, momentum=0.1, affine=True, track_running_stats=True)\n",
              "  (fc): Linear(in_features=32, out_features=2, bias=True)\n",
              ")"
            ]
          },
          "metadata": {},
          "execution_count": 58
        }
      ]
    },
    {
      "cell_type": "code",
      "source": [
        "# Training loop\n",
        "num_epochs = 100\n",
        "\n",
        "for epoch in range(num_epochs):\n",
        "    model.train()  # Set model to training mode\n",
        "    running_loss = 0.0\n",
        "\n",
        "    for batch_idx, (inputs, targets) in enumerate(train_loader):\n",
        "        # Move inputs and targets to GPU if available\n",
        "        inputs, targets = inputs.to(device), targets.to(device)\n",
        "\n",
        "        # Forward pass\n",
        "        outputs = model(inputs)\n",
        "        loss = criterion(outputs, targets)\n",
        "\n",
        "        # Backward pass and optimization\n",
        "        optimizer.zero_grad()\n",
        "        loss.backward()\n",
        "        optimizer.step()\n",
        "\n",
        "        running_loss += loss.item()\n",
        "\n",
        "    print(f\"Epoch [{epoch+1}/{num_epochs}], Loss: {running_loss/len(train_loader):.4f}\")\n"
      ],
      "metadata": {
        "colab": {
          "base_uri": "https://localhost:8080/"
        },
        "id": "o6Lk3WBN-9N0",
        "outputId": "2439eb67-cbe6-4969-ac88-e03fafef39a7"
      },
      "execution_count": null,
      "outputs": [
        {
          "output_type": "stream",
          "name": "stdout",
          "text": [
            "Epoch [1/100], Loss: 0.6985\n",
            "Epoch [2/100], Loss: 0.6929\n",
            "Epoch [3/100], Loss: 0.6903\n",
            "Epoch [4/100], Loss: 0.6876\n",
            "Epoch [5/100], Loss: 0.6848\n",
            "Epoch [6/100], Loss: 0.6832\n",
            "Epoch [7/100], Loss: 0.6821\n",
            "Epoch [8/100], Loss: 0.6809\n",
            "Epoch [9/100], Loss: 0.6790\n",
            "Epoch [10/100], Loss: 0.6779\n",
            "Epoch [11/100], Loss: 0.6759\n",
            "Epoch [12/100], Loss: 0.6757\n",
            "Epoch [13/100], Loss: 0.6729\n",
            "Epoch [14/100], Loss: 0.6732\n",
            "Epoch [15/100], Loss: 0.6702\n",
            "Epoch [16/100], Loss: 0.6675\n",
            "Epoch [17/100], Loss: 0.6667\n",
            "Epoch [18/100], Loss: 0.6644\n",
            "Epoch [19/100], Loss: 0.6633\n",
            "Epoch [20/100], Loss: 0.6608\n",
            "Epoch [21/100], Loss: 0.6580\n",
            "Epoch [22/100], Loss: 0.6572\n",
            "Epoch [23/100], Loss: 0.6570\n",
            "Epoch [24/100], Loss: 0.6566\n",
            "Epoch [25/100], Loss: 0.6518\n",
            "Epoch [26/100], Loss: 0.6513\n",
            "Epoch [27/100], Loss: 0.6473\n",
            "Epoch [28/100], Loss: 0.6496\n",
            "Epoch [29/100], Loss: 0.6449\n",
            "Epoch [30/100], Loss: 0.6416\n",
            "Epoch [31/100], Loss: 0.6399\n",
            "Epoch [32/100], Loss: 0.6353\n",
            "Epoch [33/100], Loss: 0.6384\n",
            "Epoch [34/100], Loss: 0.6324\n",
            "Epoch [35/100], Loss: 0.6310\n",
            "Epoch [36/100], Loss: 0.6265\n",
            "Epoch [37/100], Loss: 0.6244\n",
            "Epoch [38/100], Loss: 0.6281\n",
            "Epoch [39/100], Loss: 0.6187\n",
            "Epoch [40/100], Loss: 0.6271\n",
            "Epoch [41/100], Loss: 0.6131\n",
            "Epoch [42/100], Loss: 0.6124\n",
            "Epoch [43/100], Loss: 0.6112\n",
            "Epoch [44/100], Loss: 0.6062\n",
            "Epoch [45/100], Loss: 0.6012\n",
            "Epoch [46/100], Loss: 0.6001\n",
            "Epoch [47/100], Loss: 0.5970\n",
            "Epoch [48/100], Loss: 0.6022\n",
            "Epoch [49/100], Loss: 0.5969\n",
            "Epoch [50/100], Loss: 0.5962\n",
            "Epoch [51/100], Loss: 0.5868\n",
            "Epoch [52/100], Loss: 0.5839\n",
            "Epoch [53/100], Loss: 0.5814\n",
            "Epoch [54/100], Loss: 0.5766\n",
            "Epoch [55/100], Loss: 0.5695\n",
            "Epoch [56/100], Loss: 0.5651\n",
            "Epoch [57/100], Loss: 0.5625\n",
            "Epoch [58/100], Loss: 0.5570\n",
            "Epoch [59/100], Loss: 0.5530\n",
            "Epoch [60/100], Loss: 0.5490\n",
            "Epoch [61/100], Loss: 0.5470\n",
            "Epoch [62/100], Loss: 0.5553\n",
            "Epoch [63/100], Loss: 0.5378\n",
            "Epoch [64/100], Loss: 0.5436\n",
            "Epoch [65/100], Loss: 0.5293\n",
            "Epoch [66/100], Loss: 0.5299\n",
            "Epoch [67/100], Loss: 0.5212\n",
            "Epoch [68/100], Loss: 0.5187\n",
            "Epoch [69/100], Loss: 0.5159\n",
            "Epoch [70/100], Loss: 0.5106\n",
            "Epoch [71/100], Loss: 0.5023\n",
            "Epoch [72/100], Loss: 0.4979\n",
            "Epoch [73/100], Loss: 0.5265\n",
            "Epoch [74/100], Loss: 0.4912\n",
            "Epoch [75/100], Loss: 0.4941\n",
            "Epoch [76/100], Loss: 0.4833\n",
            "Epoch [77/100], Loss: 0.4876\n",
            "Epoch [78/100], Loss: 0.4884\n",
            "Epoch [79/100], Loss: 0.4741\n",
            "Epoch [80/100], Loss: 0.4748\n",
            "Epoch [81/100], Loss: 0.4614\n",
            "Epoch [82/100], Loss: 0.4598\n",
            "Epoch [83/100], Loss: 0.4522\n",
            "Epoch [84/100], Loss: 0.4528\n",
            "Epoch [85/100], Loss: 0.4461\n",
            "Epoch [86/100], Loss: 0.4481\n",
            "Epoch [87/100], Loss: 0.4399\n",
            "Epoch [88/100], Loss: 0.4535\n",
            "Epoch [89/100], Loss: 0.4423\n",
            "Epoch [90/100], Loss: 0.4259\n",
            "Epoch [91/100], Loss: 0.4224\n",
            "Epoch [92/100], Loss: 0.4167\n",
            "Epoch [93/100], Loss: 0.4101\n",
            "Epoch [94/100], Loss: 0.4473\n",
            "Epoch [95/100], Loss: 0.4071\n",
            "Epoch [96/100], Loss: 0.4081\n",
            "Epoch [97/100], Loss: 0.3958\n",
            "Epoch [98/100], Loss: 0.4039\n",
            "Epoch [99/100], Loss: 0.3898\n",
            "Epoch [100/100], Loss: 0.3842\n"
          ]
        }
      ]
    },
    {
      "cell_type": "code",
      "source": [
        "# Evaluation\n",
        "model.eval()  # Set model to evaluation mode\n",
        "correct = 0\n",
        "total = 0\n",
        "\n",
        "with torch.no_grad():\n",
        "    for inputs, targets in test_loader:\n",
        "        # Move inputs and targets to GPU if available\n",
        "        inputs, targets = inputs.to(device), targets.to(device)\n",
        "\n",
        "        # Forward pass\n",
        "        outputs = model(inputs)\n",
        "        _, predicted = torch.max(outputs, 1)\n",
        "        total += targets.size(0)\n",
        "        correct += (predicted == targets).sum().item()\n",
        "\n",
        "accuracy = correct / total\n",
        "print(f\"Test Accuracy: {accuracy * 100:.2f}%\")\n"
      ],
      "metadata": {
        "colab": {
          "base_uri": "https://localhost:8080/"
        },
        "id": "HSOWvKbv_BcJ",
        "outputId": "906d9d5a-ce7f-4cc9-ad2f-fe2541b5484a"
      },
      "execution_count": null,
      "outputs": [
        {
          "output_type": "stream",
          "name": "stdout",
          "text": [
            "Test Accuracy: 68.75%\n"
          ]
        }
      ]
    },
    {
      "cell_type": "markdown",
      "source": [
        "# **Transfer learning**"
      ],
      "metadata": {
        "id": "Tx9vC3GJAGtz"
      }
    },
    {
      "cell_type": "code",
      "source": [
        "!pip install braindecode torch torchvision"
      ],
      "metadata": {
        "colab": {
          "base_uri": "https://localhost:8080/"
        },
        "id": "810zc9gaALsn",
        "outputId": "321a1e91-7e82-4ac3-aae4-b96349dae691"
      },
      "execution_count": null,
      "outputs": [
        {
          "output_type": "stream",
          "name": "stdout",
          "text": [
            "Collecting braindecode\n",
            "  Downloading braindecode-0.8.1-py3-none-any.whl.metadata (8.1 kB)\n",
            "Requirement already satisfied: torch in /usr/local/lib/python3.10/dist-packages (2.4.1+cu121)\n",
            "Requirement already satisfied: torchvision in /usr/local/lib/python3.10/dist-packages (0.19.1+cu121)\n",
            "Collecting mne (from braindecode)\n",
            "  Downloading mne-1.8.0-py3-none-any.whl.metadata (21 kB)\n",
            "Requirement already satisfied: numpy in /usr/local/lib/python3.10/dist-packages (from braindecode) (1.26.4)\n",
            "Requirement already satisfied: pandas in /usr/local/lib/python3.10/dist-packages (from braindecode) (2.1.4)\n",
            "Requirement already satisfied: scipy in /usr/local/lib/python3.10/dist-packages (from braindecode) (1.13.1)\n",
            "Requirement already satisfied: matplotlib in /usr/local/lib/python3.10/dist-packages (from braindecode) (3.7.1)\n",
            "Requirement already satisfied: h5py in /usr/local/lib/python3.10/dist-packages (from braindecode) (3.11.0)\n",
            "Collecting skorch (from braindecode)\n",
            "  Downloading skorch-1.0.0-py3-none-any.whl.metadata (11 kB)\n",
            "Requirement already satisfied: einops in /usr/local/lib/python3.10/dist-packages (from braindecode) (0.8.0)\n",
            "Requirement already satisfied: joblib in /usr/local/lib/python3.10/dist-packages (from braindecode) (1.4.2)\n",
            "Collecting torchinfo (from braindecode)\n",
            "  Downloading torchinfo-1.8.0-py3-none-any.whl.metadata (21 kB)\n",
            "Collecting docstring-inheritance (from braindecode)\n",
            "  Downloading docstring_inheritance-2.2.1-py3-none-any.whl.metadata (11 kB)\n",
            "Requirement already satisfied: filelock in /usr/local/lib/python3.10/dist-packages (from torch) (3.16.1)\n",
            "Requirement already satisfied: typing-extensions>=4.8.0 in /usr/local/lib/python3.10/dist-packages (from torch) (4.12.2)\n",
            "Requirement already satisfied: sympy in /usr/local/lib/python3.10/dist-packages (from torch) (1.13.3)\n",
            "Requirement already satisfied: networkx in /usr/local/lib/python3.10/dist-packages (from torch) (3.3)\n",
            "Requirement already satisfied: jinja2 in /usr/local/lib/python3.10/dist-packages (from torch) (3.1.4)\n",
            "Requirement already satisfied: fsspec in /usr/local/lib/python3.10/dist-packages (from torch) (2024.6.1)\n",
            "Requirement already satisfied: pillow!=8.3.*,>=5.3.0 in /usr/local/lib/python3.10/dist-packages (from torchvision) (10.4.0)\n",
            "Requirement already satisfied: MarkupSafe>=2.0 in /usr/local/lib/python3.10/dist-packages (from jinja2->torch) (2.1.5)\n",
            "Requirement already satisfied: contourpy>=1.0.1 in /usr/local/lib/python3.10/dist-packages (from matplotlib->braindecode) (1.3.0)\n",
            "Requirement already satisfied: cycler>=0.10 in /usr/local/lib/python3.10/dist-packages (from matplotlib->braindecode) (0.12.1)\n",
            "Requirement already satisfied: fonttools>=4.22.0 in /usr/local/lib/python3.10/dist-packages (from matplotlib->braindecode) (4.53.1)\n",
            "Requirement already satisfied: kiwisolver>=1.0.1 in /usr/local/lib/python3.10/dist-packages (from matplotlib->braindecode) (1.4.7)\n",
            "Requirement already satisfied: packaging>=20.0 in /usr/local/lib/python3.10/dist-packages (from matplotlib->braindecode) (24.1)\n",
            "Requirement already satisfied: pyparsing>=2.3.1 in /usr/local/lib/python3.10/dist-packages (from matplotlib->braindecode) (3.1.4)\n",
            "Requirement already satisfied: python-dateutil>=2.7 in /usr/local/lib/python3.10/dist-packages (from matplotlib->braindecode) (2.8.2)\n",
            "Requirement already satisfied: decorator in /usr/local/lib/python3.10/dist-packages (from mne->braindecode) (4.4.2)\n",
            "Requirement already satisfied: lazy-loader>=0.3 in /usr/local/lib/python3.10/dist-packages (from mne->braindecode) (0.4)\n",
            "Requirement already satisfied: pooch>=1.5 in /usr/local/lib/python3.10/dist-packages (from mne->braindecode) (1.8.2)\n",
            "Requirement already satisfied: tqdm in /usr/local/lib/python3.10/dist-packages (from mne->braindecode) (4.66.5)\n",
            "Requirement already satisfied: pytz>=2020.1 in /usr/local/lib/python3.10/dist-packages (from pandas->braindecode) (2024.2)\n",
            "Requirement already satisfied: tzdata>=2022.1 in /usr/local/lib/python3.10/dist-packages (from pandas->braindecode) (2024.1)\n",
            "Requirement already satisfied: scikit-learn>=0.22.0 in /usr/local/lib/python3.10/dist-packages (from skorch->braindecode) (1.5.2)\n",
            "Requirement already satisfied: tabulate>=0.7.7 in /usr/local/lib/python3.10/dist-packages (from skorch->braindecode) (0.9.0)\n",
            "Requirement already satisfied: mpmath<1.4,>=1.1.0 in /usr/local/lib/python3.10/dist-packages (from sympy->torch) (1.3.0)\n",
            "Requirement already satisfied: platformdirs>=2.5.0 in /usr/local/lib/python3.10/dist-packages (from pooch>=1.5->mne->braindecode) (4.3.6)\n",
            "Requirement already satisfied: requests>=2.19.0 in /usr/local/lib/python3.10/dist-packages (from pooch>=1.5->mne->braindecode) (2.32.3)\n",
            "Requirement already satisfied: six>=1.5 in /usr/local/lib/python3.10/dist-packages (from python-dateutil>=2.7->matplotlib->braindecode) (1.16.0)\n",
            "Requirement already satisfied: threadpoolctl>=3.1.0 in /usr/local/lib/python3.10/dist-packages (from scikit-learn>=0.22.0->skorch->braindecode) (3.5.0)\n",
            "Requirement already satisfied: charset-normalizer<4,>=2 in /usr/local/lib/python3.10/dist-packages (from requests>=2.19.0->pooch>=1.5->mne->braindecode) (3.3.2)\n",
            "Requirement already satisfied: idna<4,>=2.5 in /usr/local/lib/python3.10/dist-packages (from requests>=2.19.0->pooch>=1.5->mne->braindecode) (3.10)\n",
            "Requirement already satisfied: urllib3<3,>=1.21.1 in /usr/local/lib/python3.10/dist-packages (from requests>=2.19.0->pooch>=1.5->mne->braindecode) (2.2.3)\n",
            "Requirement already satisfied: certifi>=2017.4.17 in /usr/local/lib/python3.10/dist-packages (from requests>=2.19.0->pooch>=1.5->mne->braindecode) (2024.8.30)\n",
            "Downloading braindecode-0.8.1-py3-none-any.whl (165 kB)\n",
            "\u001b[2K   \u001b[90m━━━━━━━━━━━━━━━━━━━━━━━━━━━━━━━━━━━━━━━━\u001b[0m \u001b[32m165.2/165.2 kB\u001b[0m \u001b[31m12.5 MB/s\u001b[0m eta \u001b[36m0:00:00\u001b[0m\n",
            "\u001b[?25hDownloading docstring_inheritance-2.2.1-py3-none-any.whl (24 kB)\n",
            "Downloading mne-1.8.0-py3-none-any.whl (7.4 MB)\n",
            "\u001b[2K   \u001b[90m━━━━━━━━━━━━━━━━━━━━━━━━━━━━━━━━━━━━━━━━\u001b[0m \u001b[32m7.4/7.4 MB\u001b[0m \u001b[31m78.8 MB/s\u001b[0m eta \u001b[36m0:00:00\u001b[0m\n",
            "\u001b[?25hDownloading skorch-1.0.0-py3-none-any.whl (239 kB)\n",
            "\u001b[2K   \u001b[90m━━━━━━━━━━━━━━━━━━━━━━━━━━━━━━━━━━━━━━━━\u001b[0m \u001b[32m239.4/239.4 kB\u001b[0m \u001b[31m18.1 MB/s\u001b[0m eta \u001b[36m0:00:00\u001b[0m\n",
            "\u001b[?25hDownloading torchinfo-1.8.0-py3-none-any.whl (23 kB)\n",
            "Installing collected packages: torchinfo, docstring-inheritance, skorch, mne, braindecode\n",
            "Successfully installed braindecode-0.8.1 docstring-inheritance-2.2.1 mne-1.8.0 skorch-1.0.0 torchinfo-1.8.0\n"
          ]
        }
      ]
    },
    {
      "cell_type": "code",
      "source": [
        "from braindecode.models import EEGNetv4\n",
        "\n",
        "# Load the pre-trained EEGNet model\n",
        "# Input shape: (batch_size, num_channels, num_timepoints)\n",
        "num_channels = X_train_tensor.shape[1]\n",
        "num_timepoints = X_train_tensor.shape[2]\n",
        "num_classes = 2  # Binary classification\n",
        "\n",
        "model = EEGNetv4(\n",
        "    in_chans=num_channels,\n",
        "    n_classes=num_classes,\n",
        "    input_window_samples=num_timepoints,\n",
        "    final_conv_length='auto'  # Automatically adjusts for your input size\n",
        ")\n",
        "\n",
        "# Move model to device (CPU/GPU)\n",
        "device = torch.device(\"cuda\" if torch.cuda.is_available() else \"cpu\")\n",
        "model.to(device)\n"
      ],
      "metadata": {
        "colab": {
          "base_uri": "https://localhost:8080/"
        },
        "id": "vldIX1sq_DgD",
        "outputId": "aab962cd-419b-40b8-bcda-5d7da43eb7f2"
      },
      "execution_count": null,
      "outputs": [
        {
          "output_type": "stream",
          "name": "stderr",
          "text": [
            "/usr/local/lib/python3.10/dist-packages/braindecode/models/base.py:23: UserWarning: EEGNetv4: 'in_chans' is depreciated. Use 'n_chans' instead.\n",
            "  warnings.warn(\n",
            "/usr/local/lib/python3.10/dist-packages/braindecode/models/base.py:23: UserWarning: EEGNetv4: 'n_classes' is depreciated. Use 'n_outputs' instead.\n",
            "  warnings.warn(\n",
            "/usr/local/lib/python3.10/dist-packages/braindecode/models/base.py:23: UserWarning: EEGNetv4: 'input_window_samples' is depreciated. Use 'n_times' instead.\n",
            "  warnings.warn(\n"
          ]
        },
        {
          "output_type": "execute_result",
          "data": {
            "text/plain": [
              "EEGNetv4(\n",
              "  (ensuredims): Ensure4d()\n",
              "  (dimshuffle): Rearrange('batch ch t 1 -> batch 1 ch t')\n",
              "  (conv_temporal): Conv2d(1, 8, kernel_size=(1, 64), stride=(1, 1), padding=(0, 32), bias=False)\n",
              "  (bnorm_temporal): BatchNorm2d(8, eps=0.001, momentum=0.01, affine=True, track_running_stats=True)\n",
              "  (conv_spatial): Conv2dWithConstraint(8, 16, kernel_size=(16, 1), stride=(1, 1), groups=8, bias=False)\n",
              "  (bnorm_1): BatchNorm2d(16, eps=0.001, momentum=0.01, affine=True, track_running_stats=True)\n",
              "  (elu_1): Expression(expression=elu) \n",
              "  (pool_1): AvgPool2d(kernel_size=(1, 4), stride=(1, 4), padding=0)\n",
              "  (drop_1): Dropout(p=0.25, inplace=False)\n",
              "  (conv_separable_depth): Conv2d(16, 16, kernel_size=(1, 16), stride=(1, 1), padding=(0, 8), groups=16, bias=False)\n",
              "  (conv_separable_point): Conv2d(16, 16, kernel_size=(1, 1), stride=(1, 1), bias=False)\n",
              "  (bnorm_2): BatchNorm2d(16, eps=0.001, momentum=0.01, affine=True, track_running_stats=True)\n",
              "  (elu_2): Expression(expression=elu) \n",
              "  (pool_2): AvgPool2d(kernel_size=(1, 8), stride=(1, 8), padding=0)\n",
              "  (drop_2): Dropout(p=0.25, inplace=False)\n",
              "  (final_layer): Sequential(\n",
              "    (conv_classifier): Conv2d(16, 2, kernel_size=(1, 27), stride=(1, 1))\n",
              "    (permute_back): Rearrange('batch x y z -> batch x z y')\n",
              "    (squeeze): Expression(expression=squeeze_final_output) \n",
              "  )\n",
              ")"
            ]
          },
          "metadata": {},
          "execution_count": 46
        }
      ]
    },
    {
      "cell_type": "code",
      "source": [
        "# Freeze all layers\n",
        "for param in model.parameters():\n",
        "    param.requires_grad = False\n",
        "\n",
        "# Unfreeze the classifier layer\n",
        "for param in model.final_layer[0].parameters():  # Access conv_classifier\n",
        "    param.requires_grad = True\n",
        "\n",
        "# Replace the classifier layer with a new one\n",
        "model.final_layer[0] = nn.Conv2d(\n",
        "    in_channels=model.final_layer[0].in_channels,  # Retain same input channels\n",
        "    out_channels=2,  # Number of classes in your dataset\n",
        "    kernel_size=(1, model.final_layer[0].kernel_size[1])  # Retain kernel size\n",
        ")\n",
        "\n",
        "# Move model to device after modifying layers\n",
        "model.to(device)\n"
      ],
      "metadata": {
        "colab": {
          "base_uri": "https://localhost:8080/"
        },
        "id": "Ju6tWf0QAoUD",
        "outputId": "74aea1c9-6924-4916-b061-614913daeaab"
      },
      "execution_count": null,
      "outputs": [
        {
          "output_type": "execute_result",
          "data": {
            "text/plain": [
              "EEGNetv4(\n",
              "  (ensuredims): Ensure4d()\n",
              "  (dimshuffle): Rearrange('batch ch t 1 -> batch 1 ch t')\n",
              "  (conv_temporal): Conv2d(1, 8, kernel_size=(1, 64), stride=(1, 1), padding=(0, 32), bias=False)\n",
              "  (bnorm_temporal): BatchNorm2d(8, eps=0.001, momentum=0.01, affine=True, track_running_stats=True)\n",
              "  (conv_spatial): Conv2dWithConstraint(8, 16, kernel_size=(16, 1), stride=(1, 1), groups=8, bias=False)\n",
              "  (bnorm_1): BatchNorm2d(16, eps=0.001, momentum=0.01, affine=True, track_running_stats=True)\n",
              "  (elu_1): Expression(expression=elu) \n",
              "  (pool_1): AvgPool2d(kernel_size=(1, 4), stride=(1, 4), padding=0)\n",
              "  (drop_1): Dropout(p=0.25, inplace=False)\n",
              "  (conv_separable_depth): Conv2d(16, 16, kernel_size=(1, 16), stride=(1, 1), padding=(0, 8), groups=16, bias=False)\n",
              "  (conv_separable_point): Conv2d(16, 16, kernel_size=(1, 1), stride=(1, 1), bias=False)\n",
              "  (bnorm_2): BatchNorm2d(16, eps=0.001, momentum=0.01, affine=True, track_running_stats=True)\n",
              "  (elu_2): Expression(expression=elu) \n",
              "  (pool_2): AvgPool2d(kernel_size=(1, 8), stride=(1, 8), padding=0)\n",
              "  (drop_2): Dropout(p=0.25, inplace=False)\n",
              "  (final_layer): Sequential(\n",
              "    (conv_classifier): Conv2d(16, 2, kernel_size=(1, 27), stride=(1, 1))\n",
              "    (permute_back): Rearrange('batch x y z -> batch x z y')\n",
              "    (squeeze): Expression(expression=squeeze_final_output) \n",
              "  )\n",
              ")"
            ]
          },
          "metadata": {},
          "execution_count": 47
        }
      ]
    },
    {
      "cell_type": "code",
      "source": [
        "import torch.optim as optim\n",
        "\n",
        "# Define loss and optimizer\n",
        "criterion = nn.CrossEntropyLoss()\n",
        "optimizer = optim.Adam(filter(lambda p: p.requires_grad, model.parameters()), lr=0.001)\n"
      ],
      "metadata": {
        "id": "BE2XMgniA4iV"
      },
      "execution_count": null,
      "outputs": []
    },
    {
      "cell_type": "code",
      "source": [
        "num_epochs = 100\n",
        "for epoch in range(num_epochs):\n",
        "    model.train()\n",
        "    running_loss = 0.0\n",
        "    for batch_idx, (inputs, targets) in enumerate(train_loader):\n",
        "        inputs, targets = inputs.to(device), targets.to(device)\n",
        "\n",
        "        # Forward pass\n",
        "        outputs = model(inputs)\n",
        "        loss = criterion(outputs, targets)\n",
        "\n",
        "        # Backward pass and optimization\n",
        "        optimizer.zero_grad()\n",
        "        loss.backward()\n",
        "        optimizer.step()\n",
        "\n",
        "        running_loss += loss.item()\n",
        "    print(f\"Epoch [{epoch+1}/{num_epochs}], Loss: {running_loss / len(train_loader):.4f}\")\n"
      ],
      "metadata": {
        "colab": {
          "base_uri": "https://localhost:8080/"
        },
        "id": "8Sp_ayzYA6KC",
        "outputId": "5fc6437b-b4bb-4e91-b993-62c794709a17"
      },
      "execution_count": null,
      "outputs": [
        {
          "output_type": "stream",
          "name": "stdout",
          "text": [
            "Epoch [1/100], Loss: 0.6974\n",
            "Epoch [2/100], Loss: 0.6698\n",
            "Epoch [3/100], Loss: 0.6821\n",
            "Epoch [4/100], Loss: 0.6818\n",
            "Epoch [5/100], Loss: 0.6652\n",
            "Epoch [6/100], Loss: 0.6644\n",
            "Epoch [7/100], Loss: 0.6551\n",
            "Epoch [8/100], Loss: 0.6334\n",
            "Epoch [9/100], Loss: 0.6351\n",
            "Epoch [10/100], Loss: 0.6406\n",
            "Epoch [11/100], Loss: 0.6232\n",
            "Epoch [12/100], Loss: 0.6166\n",
            "Epoch [13/100], Loss: 0.6075\n",
            "Epoch [14/100], Loss: 0.6005\n",
            "Epoch [15/100], Loss: 0.5905\n",
            "Epoch [16/100], Loss: 0.5948\n",
            "Epoch [17/100], Loss: 0.5833\n",
            "Epoch [18/100], Loss: 0.5806\n",
            "Epoch [19/100], Loss: 0.5713\n",
            "Epoch [20/100], Loss: 0.5714\n",
            "Epoch [21/100], Loss: 0.5669\n",
            "Epoch [22/100], Loss: 0.5647\n",
            "Epoch [23/100], Loss: 0.5587\n",
            "Epoch [24/100], Loss: 0.5425\n",
            "Epoch [25/100], Loss: 0.5526\n",
            "Epoch [26/100], Loss: 0.5429\n",
            "Epoch [27/100], Loss: 0.5145\n",
            "Epoch [28/100], Loss: 0.5359\n",
            "Epoch [29/100], Loss: 0.5588\n",
            "Epoch [30/100], Loss: 0.5288\n",
            "Epoch [31/100], Loss: 0.5242\n",
            "Epoch [32/100], Loss: 0.5139\n",
            "Epoch [33/100], Loss: 0.5255\n",
            "Epoch [34/100], Loss: 0.5151\n",
            "Epoch [35/100], Loss: 0.4726\n",
            "Epoch [36/100], Loss: 0.5141\n",
            "Epoch [37/100], Loss: 0.4977\n",
            "Epoch [38/100], Loss: 0.5029\n",
            "Epoch [39/100], Loss: 0.4899\n",
            "Epoch [40/100], Loss: 0.5201\n",
            "Epoch [41/100], Loss: 0.4939\n",
            "Epoch [42/100], Loss: 0.5047\n",
            "Epoch [43/100], Loss: 0.4843\n",
            "Epoch [44/100], Loss: 0.4438\n",
            "Epoch [45/100], Loss: 0.4700\n",
            "Epoch [46/100], Loss: 0.4452\n",
            "Epoch [47/100], Loss: 0.4587\n",
            "Epoch [48/100], Loss: 0.4665\n",
            "Epoch [49/100], Loss: 0.4473\n",
            "Epoch [50/100], Loss: 0.4779\n",
            "Epoch [51/100], Loss: 0.4827\n",
            "Epoch [52/100], Loss: 0.4813\n",
            "Epoch [53/100], Loss: 0.4740\n",
            "Epoch [54/100], Loss: 0.4711\n",
            "Epoch [55/100], Loss: 0.4346\n",
            "Epoch [56/100], Loss: 0.4693\n",
            "Epoch [57/100], Loss: 0.4005\n",
            "Epoch [58/100], Loss: 0.4822\n",
            "Epoch [59/100], Loss: 0.4526\n",
            "Epoch [60/100], Loss: 0.4747\n",
            "Epoch [61/100], Loss: 0.4425\n",
            "Epoch [62/100], Loss: 0.4536\n",
            "Epoch [63/100], Loss: 0.4436\n",
            "Epoch [64/100], Loss: 0.3915\n",
            "Epoch [65/100], Loss: 0.3997\n",
            "Epoch [66/100], Loss: 0.4125\n",
            "Epoch [67/100], Loss: 0.4067\n",
            "Epoch [68/100], Loss: 0.4080\n",
            "Epoch [69/100], Loss: 0.4339\n",
            "Epoch [70/100], Loss: 0.4444\n",
            "Epoch [71/100], Loss: 0.4319\n",
            "Epoch [72/100], Loss: 0.4423\n",
            "Epoch [73/100], Loss: 0.4431\n",
            "Epoch [74/100], Loss: 0.4356\n",
            "Epoch [75/100], Loss: 0.3830\n",
            "Epoch [76/100], Loss: 0.4012\n",
            "Epoch [77/100], Loss: 0.4382\n",
            "Epoch [78/100], Loss: 0.3901\n",
            "Epoch [79/100], Loss: 0.3820\n",
            "Epoch [80/100], Loss: 0.4291\n",
            "Epoch [81/100], Loss: 0.4200\n",
            "Epoch [82/100], Loss: 0.4147\n",
            "Epoch [83/100], Loss: 0.3812\n",
            "Epoch [84/100], Loss: 0.4380\n",
            "Epoch [85/100], Loss: 0.4271\n",
            "Epoch [86/100], Loss: 0.4187\n",
            "Epoch [87/100], Loss: 0.3681\n",
            "Epoch [88/100], Loss: 0.4109\n",
            "Epoch [89/100], Loss: 0.3987\n",
            "Epoch [90/100], Loss: 0.3789\n",
            "Epoch [91/100], Loss: 0.4006\n",
            "Epoch [92/100], Loss: 0.4065\n",
            "Epoch [93/100], Loss: 0.4112\n",
            "Epoch [94/100], Loss: 0.3498\n",
            "Epoch [95/100], Loss: 0.3804\n",
            "Epoch [96/100], Loss: 0.4248\n",
            "Epoch [97/100], Loss: 0.3797\n",
            "Epoch [98/100], Loss: 0.3491\n",
            "Epoch [99/100], Loss: 0.3645\n",
            "Epoch [100/100], Loss: 0.3793\n"
          ]
        }
      ]
    },
    {
      "cell_type": "code",
      "source": [
        "model.eval()\n",
        "correct = 0\n",
        "total = 0\n",
        "\n",
        "with torch.no_grad():\n",
        "    for inputs, targets in test_loader:\n",
        "        inputs, targets = inputs.to(device), targets.to(device)\n",
        "        outputs = model(inputs)\n",
        "        _, predicted = torch.max(outputs, 1)\n",
        "        correct += (predicted == targets).sum().item()\n",
        "        total += targets.size(0)\n",
        "\n",
        "accuracy = correct / total\n",
        "print(f\"Test Accuracy: {accuracy * 100:.2f}%\")\n"
      ],
      "metadata": {
        "colab": {
          "base_uri": "https://localhost:8080/"
        },
        "id": "sskRnTbwBDBD",
        "outputId": "60550d0b-7149-41bd-dc8c-e303310c6f19"
      },
      "execution_count": null,
      "outputs": [
        {
          "output_type": "stream",
          "name": "stdout",
          "text": [
            "Test Accuracy: 56.25%\n"
          ]
        }
      ]
    },
    {
      "cell_type": "markdown",
      "source": [
        "# EMD Data Augmentation"
      ],
      "metadata": {
        "id": "qQJJC2_eaNii"
      }
    },
    {
      "cell_type": "code",
      "source": [
        "!pip install EMD-signal"
      ],
      "metadata": {
        "colab": {
          "base_uri": "https://localhost:8080/"
        },
        "id": "OYrJAyr4BF3e",
        "outputId": "aaf46445-ae1a-4bfc-c301-5dbb4d8ff413"
      },
      "execution_count": null,
      "outputs": [
        {
          "output_type": "stream",
          "name": "stdout",
          "text": [
            "Requirement already satisfied: EMD-signal in /usr/local/lib/python3.10/dist-packages (1.6.4)\n",
            "Requirement already satisfied: numpy>=1.12 in /usr/local/lib/python3.10/dist-packages (from EMD-signal) (1.26.4)\n",
            "Requirement already satisfied: scipy>=0.19 in /usr/local/lib/python3.10/dist-packages (from EMD-signal) (1.13.1)\n",
            "Requirement already satisfied: pathos>=0.2.1 in /usr/local/lib/python3.10/dist-packages (from EMD-signal) (0.3.3)\n",
            "Requirement already satisfied: tqdm<5.0,>=4.64.0 in /usr/local/lib/python3.10/dist-packages (from EMD-signal) (4.66.5)\n",
            "Requirement already satisfied: ppft>=1.7.6.9 in /usr/local/lib/python3.10/dist-packages (from pathos>=0.2.1->EMD-signal) (1.7.6.9)\n",
            "Requirement already satisfied: dill>=0.3.9 in /usr/local/lib/python3.10/dist-packages (from pathos>=0.2.1->EMD-signal) (0.3.9)\n",
            "Requirement already satisfied: pox>=0.3.5 in /usr/local/lib/python3.10/dist-packages (from pathos>=0.2.1->EMD-signal) (0.3.5)\n",
            "Requirement already satisfied: multiprocess>=0.70.17 in /usr/local/lib/python3.10/dist-packages (from pathos>=0.2.1->EMD-signal) (0.70.17)\n"
          ]
        }
      ]
    },
    {
      "cell_type": "code",
      "source": [
        "from PyEMD import EMD\n",
        "import numpy as np\n",
        "\n",
        "def perform_emd(signal, max_imfs=None):\n",
        "    \"\"\"\n",
        "    Perform Empirical Mode Decomposition on a single EEG channel.\n",
        "\n",
        "    Parameters:\n",
        "        signal (np.ndarray): Input signal (1D array).\n",
        "        max_imfs (int): Maximum number of IMFs to return. If None, return all IMFs.\n",
        "\n",
        "    Returns:\n",
        "        np.ndarray: Array of IMFs with shape (max_imfs, signal_length).\n",
        "    \"\"\"\n",
        "    emd = EMD()\n",
        "    imfs = emd(signal)  # Decompose the signal into IMFs\n",
        "    num_imfs, signal_length = imfs.shape[0], imfs.shape[1]\n",
        "\n",
        "    # Handle cases where fewer IMFs are generated than max_imfs\n",
        "    if max_imfs is not None:\n",
        "        if num_imfs < max_imfs:\n",
        "            # Pad with zeros to reach max_imfs\n",
        "            padding = np.zeros((max_imfs - num_imfs, signal_length))\n",
        "            imfs = np.vstack([imfs, padding])\n",
        "        else:\n",
        "            # Truncate to max_imfs\n",
        "            imfs = imfs[:max_imfs]\n",
        "\n",
        "    return imfs\n"
      ],
      "metadata": {
        "id": "_93B4v0BaTef"
      },
      "execution_count": null,
      "outputs": []
    },
    {
      "cell_type": "code",
      "source": [
        "def augment_with_imfs(data, max_imfs=5):\n",
        "    \"\"\"\n",
        "    Decompose multi-channel EEG signals into IMFs and augment by stacking IMFs as new channels.\n",
        "\n",
        "    Parameters:\n",
        "        data (np.ndarray): EEG data with shape (num_channels, num_timepoints).\n",
        "        max_imfs (int): Maximum number of IMFs to use per channel.\n",
        "\n",
        "    Returns:\n",
        "        np.ndarray: Augmented EEG data with shape (num_channels * max_imfs, num_timepoints).\n",
        "    \"\"\"\n",
        "    augmented_channels = [data]\n",
        "    for channel in range(data.shape[0]):\n",
        "        imfs = perform_emd(data[channel, :], max_imfs=max_imfs)  # Decompose each channel\n",
        "        augmented_channels.append(imfs[:max_imfs])  # Use only the first `max_imfs` IMFs\n",
        "\n",
        "    # Stack augmented channels\n",
        "    augmented_data = np.vstack(augmented_channels)\n",
        "    # print(augmented_data.shape)\n",
        "    return augmented_data\n"
      ],
      "metadata": {
        "id": "cTo_cXd7awbC"
      },
      "execution_count": null,
      "outputs": []
    },
    {
      "cell_type": "code",
      "source": [
        "X_train_augmented = []\n",
        "\n",
        "for i in range(0, len(X_train)):\n",
        "  aug = augment_with_imfs(X_train[i])\n",
        "  X_train_augmented.append(augment_with_imfs(X_train[i]))\n",
        "\n",
        "\n",
        "X_train_augmented = np.array(X_train_augmented)"
      ],
      "metadata": {
        "id": "A_g2R-hnbuc7"
      },
      "execution_count": null,
      "outputs": []
    },
    {
      "cell_type": "code",
      "source": [
        "X_train_imfs = X_train_augmented[:, 16:, :]"
      ],
      "metadata": {
        "id": "808MGpWpjR0p"
      },
      "execution_count": null,
      "outputs": []
    },
    {
      "cell_type": "code",
      "source": [
        "X_train_augmented.shape, X_train_imfs.shape"
      ],
      "metadata": {
        "colab": {
          "base_uri": "https://localhost:8080/"
        },
        "id": "EMb8h08OhpED",
        "outputId": "5a2425b2-c869-4588-ec6b-3086a7ba41b3"
      },
      "execution_count": null,
      "outputs": [
        {
          "output_type": "execute_result",
          "data": {
            "text/plain": [
              "((64, 96, 875), (64, 80, 875))"
            ]
          },
          "metadata": {},
          "execution_count": 61
        }
      ]
    },
    {
      "cell_type": "code",
      "source": [
        "X_test_augmented = []\n",
        "\n",
        "for i in range(0, len(X_test)):\n",
        "  X_test_augmented.append(augment_with_imfs(X_test[i]))\n",
        "\n",
        "X_test_augmented = np.array(X_test_augmented)\n"
      ],
      "metadata": {
        "id": "DfZ-UyY1Ye6k"
      },
      "execution_count": null,
      "outputs": []
    },
    {
      "cell_type": "code",
      "source": [
        "X_test_imfs = X_test_augmented[:, 16:, :]"
      ],
      "metadata": {
        "id": "cdAIGlGgjaye"
      },
      "execution_count": null,
      "outputs": []
    },
    {
      "cell_type": "code",
      "source": [
        "X_test_augmented.shape, X_test_imfs.shape"
      ],
      "metadata": {
        "colab": {
          "base_uri": "https://localhost:8080/"
        },
        "id": "ThkeRyQvlQw0",
        "outputId": "b3fc85e3-fe81-4dd2-dea4-3ebee5993e74"
      },
      "execution_count": null,
      "outputs": [
        {
          "output_type": "execute_result",
          "data": {
            "text/plain": [
              "((16, 96, 875), (16, 80, 875))"
            ]
          },
          "metadata": {},
          "execution_count": 64
        }
      ]
    },
    {
      "cell_type": "code",
      "source": [
        "import matplotlib.pyplot as plt\n",
        "\n",
        "# Select a sample\n",
        "sample_index = 0  # The first sample\n",
        "\n",
        "# Specify the features you want to plot\n",
        "features_to_plot = [0, 1, 2, 3, 4, 5, 6, 7, 8, 9, 10, 11]\n",
        "# Extract the specified features\n",
        "selected_features = X_test_imfs[sample_index, features_to_plot, :]\n",
        "\n",
        "# Plot each feature in a separate subplot\n",
        "plt.figure(figsize=(12, len(features_to_plot) * 3))  # Adjust height based on the number of features\n",
        "for idx, feature_idx in enumerate(features_to_plot):\n",
        "    plt.subplot(len(features_to_plot), 1, idx + 1)\n",
        "    plt.plot(selected_features[idx])\n",
        "    plt.title(f\"Feature {feature_idx}\")\n",
        "    plt.xlabel(\"Time (samples)\")\n",
        "    plt.ylabel(\"Amplitude\")\n",
        "\n",
        "plt.tight_layout()\n",
        "plt.show()\n"
      ],
      "metadata": {
        "id": "dDKpDojPiTG0"
      },
      "execution_count": null,
      "outputs": []
    },
    {
      "cell_type": "markdown",
      "source": [
        "## EEGnet with augmented data"
      ],
      "metadata": {
        "id": "3nlaykkQfaJ5"
      }
    },
    {
      "cell_type": "code",
      "source": [
        "X_train_eegnet = X_train_augmented.copy()  # Shape: (num_samples, 1, num_channels, num_timepoints)\n",
        "X_test_eegnet = X_test_augmented.copy()"
      ],
      "metadata": {
        "id": "6PawSWIklL4E"
      },
      "execution_count": null,
      "outputs": []
    },
    {
      "cell_type": "code",
      "source": [
        "X_train_eegnet.shape, X_test_augmented.shape"
      ],
      "metadata": {
        "colab": {
          "base_uri": "https://localhost:8080/"
        },
        "id": "UKUTHKQJmMQI",
        "outputId": "0c549562-ddd1-4a1a-91d5-ebb8fa7bafed"
      },
      "execution_count": null,
      "outputs": [
        {
          "output_type": "execute_result",
          "data": {
            "text/plain": [
              "((64, 96, 875), (16, 96, 875))"
            ]
          },
          "metadata": {},
          "execution_count": 118
        }
      ]
    },
    {
      "cell_type": "code",
      "source": [
        "from braindecode.models import EEGNetv4\n",
        "import torch.nn as nn\n",
        "import torch\n",
        "\n",
        "# Define EEGNet with modified input\n",
        "num_classes = 2  # Binary classification (left vs right)\n",
        "num_features = 96  # Number of features in the augmented dataset\n",
        "input_window_samples = 875  # Time dimension\n",
        "\n",
        "# Create EEGNet model\n",
        "model = EEGNetv4(\n",
        "    in_chans=num_features,  # Update for augmented features\n",
        "    n_classes=num_classes,\n",
        "    input_window_samples=input_window_samples,\n",
        "    final_conv_length='auto'\n",
        ")\n",
        "\n",
        "# Move the model to device\n",
        "device = torch.device(\"cuda\" if torch.cuda.is_available() else \"cpu\")\n",
        "model.to(device)\n",
        "\n",
        "# Convert to PyTorch tensors\n",
        "X_train_tensor = torch.tensor(X_train_eegnet, dtype=torch.float32)\n",
        "y_train_tensor = torch.tensor(y_train, dtype=torch.long)\n",
        "X_test_tensor = torch.tensor(X_test_eegnet, dtype=torch.float32)\n",
        "y_test_tensor = torch.tensor(y_test, dtype=torch.long)\n",
        "\n",
        "from torch.utils.data import TensorDataset, DataLoader\n",
        "\n",
        "# Create TensorDataset and DataLoaders\n",
        "train_dataset = TensorDataset(X_train_tensor, y_train_tensor)\n",
        "test_dataset = TensorDataset(X_test_tensor, y_test_tensor)\n",
        "\n",
        "train_loader = DataLoader(train_dataset, batch_size=4, shuffle=True)  # Adjust batch size as needed\n",
        "test_loader = DataLoader(test_dataset, batch_size=4, shuffle=False)\n",
        "\n",
        "# Freeze feature extraction layers\n",
        "for param in model.parameters():\n",
        "    param.requires_grad = False\n",
        "\n",
        "# Unfreeze the classifier layer\n",
        "for param in model.final_layer.parameters():\n",
        "    param.requires_grad = True\n",
        "\n",
        "# Define loss function and optimizer\n",
        "criterion = nn.CrossEntropyLoss()\n",
        "optimizer = torch.optim.Adam(filter(lambda p: p.requires_grad, model.parameters()), lr=0.001)\n"
      ],
      "metadata": {
        "colab": {
          "base_uri": "https://localhost:8080/"
        },
        "id": "jBWOz65TkxfX",
        "outputId": "549a841c-ef7b-4d24-93fc-62bab47d62f4"
      },
      "execution_count": null,
      "outputs": [
        {
          "output_type": "stream",
          "name": "stderr",
          "text": [
            "/usr/local/lib/python3.10/dist-packages/braindecode/models/base.py:23: UserWarning: EEGNetv4: 'in_chans' is depreciated. Use 'n_chans' instead.\n",
            "  warnings.warn(\n",
            "/usr/local/lib/python3.10/dist-packages/braindecode/models/base.py:23: UserWarning: EEGNetv4: 'n_classes' is depreciated. Use 'n_outputs' instead.\n",
            "  warnings.warn(\n",
            "/usr/local/lib/python3.10/dist-packages/braindecode/models/base.py:23: UserWarning: EEGNetv4: 'input_window_samples' is depreciated. Use 'n_times' instead.\n",
            "  warnings.warn(\n"
          ]
        }
      ]
    },
    {
      "cell_type": "code",
      "source": [
        "# Training loop\n",
        "num_epochs = 100\n",
        "for epoch in range(num_epochs):\n",
        "    model.train()\n",
        "    running_loss = 0.0\n",
        "\n",
        "    for inputs, targets in train_loader:\n",
        "        inputs, targets = inputs.to(device), targets.to(device)\n",
        "        # print(\"Input shape:\", inputs.shape)\n",
        "\n",
        "\n",
        "        # Forward pass\n",
        "        outputs = model(inputs)\n",
        "        loss = criterion(outputs, targets)\n",
        "\n",
        "        # Backward pass and optimization\n",
        "        optimizer.zero_grad()\n",
        "        loss.backward()\n",
        "        optimizer.step()\n",
        "\n",
        "        running_loss += loss.item()\n",
        "\n",
        "    print(f\"Epoch [{epoch+1}/{num_epochs}], Loss: {running_loss / len(train_loader):.4f}\")\n"
      ],
      "metadata": {
        "colab": {
          "base_uri": "https://localhost:8080/"
        },
        "id": "AIowt2SHk58R",
        "outputId": "14d37eb4-4cf5-4cb6-f1d4-e5e7a89e9fa6"
      },
      "execution_count": null,
      "outputs": [
        {
          "output_type": "stream",
          "name": "stdout",
          "text": [
            "Epoch [1/100], Loss: 0.1590\n",
            "Epoch [2/100], Loss: 0.2001\n",
            "Epoch [3/100], Loss: 0.1531\n",
            "Epoch [4/100], Loss: 0.2250\n",
            "Epoch [5/100], Loss: 0.2450\n",
            "Epoch [6/100], Loss: 0.1741\n",
            "Epoch [7/100], Loss: 0.1423\n",
            "Epoch [8/100], Loss: 0.1784\n",
            "Epoch [9/100], Loss: 0.1971\n",
            "Epoch [10/100], Loss: 0.1544\n",
            "Epoch [11/100], Loss: 0.2362\n",
            "Epoch [12/100], Loss: 0.1992\n",
            "Epoch [13/100], Loss: 0.1363\n",
            "Epoch [14/100], Loss: 0.1548\n",
            "Epoch [15/100], Loss: 0.1730\n",
            "Epoch [16/100], Loss: 0.1177\n",
            "Epoch [17/100], Loss: 0.1924\n",
            "Epoch [18/100], Loss: 0.2263\n",
            "Epoch [19/100], Loss: 0.1397\n",
            "Epoch [20/100], Loss: 0.2050\n",
            "Epoch [21/100], Loss: 0.3176\n",
            "Epoch [22/100], Loss: 0.1174\n",
            "Epoch [23/100], Loss: 0.2280\n",
            "Epoch [24/100], Loss: 0.1054\n",
            "Epoch [25/100], Loss: 0.1553\n",
            "Epoch [26/100], Loss: 0.1701\n",
            "Epoch [27/100], Loss: 0.1769\n",
            "Epoch [28/100], Loss: 0.2001\n",
            "Epoch [29/100], Loss: 0.1381\n",
            "Epoch [30/100], Loss: 0.2408\n",
            "Epoch [31/100], Loss: 0.1241\n",
            "Epoch [32/100], Loss: 0.1781\n",
            "Epoch [33/100], Loss: 0.1289\n",
            "Epoch [34/100], Loss: 0.1806\n",
            "Epoch [35/100], Loss: 0.1122\n",
            "Epoch [36/100], Loss: 0.1502\n",
            "Epoch [37/100], Loss: 0.1264\n",
            "Epoch [38/100], Loss: 0.0920\n",
            "Epoch [39/100], Loss: 0.1246\n",
            "Epoch [40/100], Loss: 0.1416\n",
            "Epoch [41/100], Loss: 0.1807\n",
            "Epoch [42/100], Loss: 0.1597\n",
            "Epoch [43/100], Loss: 0.1657\n",
            "Epoch [44/100], Loss: 0.1080\n",
            "Epoch [45/100], Loss: 0.1343\n",
            "Epoch [46/100], Loss: 0.1445\n",
            "Epoch [47/100], Loss: 0.1827\n",
            "Epoch [48/100], Loss: 0.1846\n",
            "Epoch [49/100], Loss: 0.1543\n",
            "Epoch [50/100], Loss: 0.1275\n",
            "Epoch [51/100], Loss: 0.1884\n",
            "Epoch [52/100], Loss: 0.2466\n",
            "Epoch [53/100], Loss: 0.2211\n",
            "Epoch [54/100], Loss: 0.1632\n",
            "Epoch [55/100], Loss: 0.1063\n",
            "Epoch [56/100], Loss: 0.1433\n",
            "Epoch [57/100], Loss: 0.1736\n",
            "Epoch [58/100], Loss: 0.1676\n",
            "Epoch [59/100], Loss: 0.1595\n",
            "Epoch [60/100], Loss: 0.0867\n",
            "Epoch [61/100], Loss: 0.1238\n",
            "Epoch [62/100], Loss: 0.1820\n",
            "Epoch [63/100], Loss: 0.1196\n",
            "Epoch [64/100], Loss: 0.1810\n",
            "Epoch [65/100], Loss: 0.1968\n",
            "Epoch [66/100], Loss: 0.1801\n",
            "Epoch [67/100], Loss: 0.1762\n",
            "Epoch [68/100], Loss: 0.1142\n",
            "Epoch [69/100], Loss: 0.1314\n",
            "Epoch [70/100], Loss: 0.1817\n",
            "Epoch [71/100], Loss: 0.1937\n",
            "Epoch [72/100], Loss: 0.1514\n",
            "Epoch [73/100], Loss: 0.1092\n",
            "Epoch [74/100], Loss: 0.2000\n",
            "Epoch [75/100], Loss: 0.1748\n",
            "Epoch [76/100], Loss: 0.1685\n",
            "Epoch [77/100], Loss: 0.1808\n",
            "Epoch [78/100], Loss: 0.2389\n",
            "Epoch [79/100], Loss: 0.1662\n",
            "Epoch [80/100], Loss: 0.1281\n",
            "Epoch [81/100], Loss: 0.1678\n",
            "Epoch [82/100], Loss: 0.1227\n",
            "Epoch [83/100], Loss: 0.1880\n",
            "Epoch [84/100], Loss: 0.1691\n",
            "Epoch [85/100], Loss: 0.1413\n",
            "Epoch [86/100], Loss: 0.1463\n",
            "Epoch [87/100], Loss: 0.1598\n",
            "Epoch [88/100], Loss: 0.1296\n",
            "Epoch [89/100], Loss: 0.1610\n",
            "Epoch [90/100], Loss: 0.2638\n",
            "Epoch [91/100], Loss: 0.1095\n",
            "Epoch [92/100], Loss: 0.1593\n",
            "Epoch [93/100], Loss: 0.1316\n",
            "Epoch [94/100], Loss: 0.1499\n",
            "Epoch [95/100], Loss: 0.0947\n",
            "Epoch [96/100], Loss: 0.1501\n",
            "Epoch [97/100], Loss: 0.1270\n",
            "Epoch [98/100], Loss: 0.1862\n",
            "Epoch [99/100], Loss: 0.1727\n",
            "Epoch [100/100], Loss: 0.1168\n"
          ]
        }
      ]
    },
    {
      "cell_type": "code",
      "source": [
        "# Evaluation loop\n",
        "model.eval()\n",
        "correct = 0\n",
        "total = 0\n",
        "\n",
        "with torch.no_grad():\n",
        "    for inputs, targets in test_loader:\n",
        "        inputs, targets = inputs.to(device), targets.to(device)\n",
        "        outputs = model(inputs)\n",
        "        _, predicted = torch.max(outputs, 1)\n",
        "        correct += (predicted == targets).sum().item()\n",
        "        total += targets.size(0)\n",
        "\n",
        "accuracy = correct / total\n",
        "print(f\"Test Accuracy: {accuracy * 100:.2f}%\")\n"
      ],
      "metadata": {
        "colab": {
          "base_uri": "https://localhost:8080/"
        },
        "id": "_momGM-_oGp0",
        "outputId": "b0068389-0c0a-4d2c-e95b-1080c3070a03"
      },
      "execution_count": null,
      "outputs": [
        {
          "output_type": "stream",
          "name": "stdout",
          "text": [
            "Test Accuracy: 62.50%\n"
          ]
        }
      ]
    },
    {
      "cell_type": "markdown",
      "source": [
        "## Regular NN"
      ],
      "metadata": {
        "id": "Y2MwE5DzfeQo"
      }
    },
    {
      "cell_type": "code",
      "source": [
        "import torch.nn.functional as F"
      ],
      "metadata": {
        "id": "MDetrBecgGdy"
      },
      "execution_count": null,
      "outputs": []
    },
    {
      "cell_type": "code",
      "source": [
        "# Convert data to PyTorch tensors\n",
        "X_train_tensor = torch.tensor(X_train_imfs, dtype=torch.float32)  # Shape: (16, 96, 875)\n",
        "y_train_tensor = torch.tensor(y_train, dtype=torch.long)  # Shape: (16,)\n",
        "\n",
        "X_test_tensor = torch.tensor(X_test_imfs, dtype=torch.float32)  # Shape: (16, 96, 875)\n",
        "y_test_tensor = torch.tensor(y_test, dtype=torch.long)  # Shape: (16,)\n",
        "\n",
        "# Create DataLoaders\n",
        "from torch.utils.data import TensorDataset, DataLoader\n",
        "\n",
        "train_dataset = TensorDataset(X_train_tensor, y_train_tensor)\n",
        "test_dataset = TensorDataset(X_test_tensor, y_test_tensor)\n",
        "\n",
        "train_loader = DataLoader(train_dataset, batch_size=16, shuffle=True)\n",
        "test_loader = DataLoader(test_dataset, batch_size=16, shuffle=False)\n"
      ],
      "metadata": {
        "id": "j_9wT1vYf8me"
      },
      "execution_count": null,
      "outputs": []
    },
    {
      "cell_type": "code",
      "source": [
        "import torch\n",
        "import torch.nn as nn\n",
        "import torch.nn.functional as F\n",
        "\n",
        "class ResNetBlock(nn.Module):\n",
        "    def __init__(self, in_channels, out_channels, kernel_size=3, stride=1, padding=1):\n",
        "        super(ResNetBlock, self).__init__()\n",
        "        self.conv1 = nn.Conv1d(in_channels, out_channels, kernel_size, stride, padding)\n",
        "        self.bn1 = nn.BatchNorm1d(out_channels)\n",
        "        self.conv2 = nn.Conv1d(out_channels, out_channels, kernel_size, stride, padding)\n",
        "        self.bn2 = nn.BatchNorm1d(out_channels)\n",
        "        self.shortcut = nn.Conv1d(in_channels, out_channels, kernel_size=1, stride=1) \\\n",
        "            if in_channels != out_channels else nn.Identity()\n",
        "\n",
        "    def forward(self, x):\n",
        "        residual = self.shortcut(x)\n",
        "        x = F.relu(self.bn1(self.conv1(x)))\n",
        "        x = self.bn2(self.conv2(x))\n",
        "        x += residual\n",
        "        return F.relu(x)\n",
        "\n",
        "\n",
        "class ResNetTimeSeries(nn.Module):\n",
        "    def __init__(self, num_features, num_timepoints, num_classes):\n",
        "        super(ResNetTimeSeries, self).__init__()\n",
        "        self.block1 = ResNetBlock(num_features, 64, kernel_size=7, padding=3)\n",
        "        self.block2 = ResNetBlock(64, 128, kernel_size=5, padding=2)\n",
        "        self.block3 = ResNetBlock(128, 256, kernel_size=3, padding=1)\n",
        "        self.global_avg_pool = nn.AdaptiveAvgPool1d(1)  # Global average pooling\n",
        "        self.fc = nn.Linear(256, num_classes)\n",
        "\n",
        "    def forward(self, x):\n",
        "        # Input shape: (batch_size, num_features, num_timepoints)\n",
        "        x = self.block1(x)\n",
        "        x = self.block2(x)\n",
        "        x = self.block3(x)\n",
        "        x = self.global_avg_pool(x)  # Shape: (batch_size, 256, 1)\n",
        "        x = x.squeeze(-1)  # Remove last dimension: (batch_size, 256)\n",
        "        x = self.fc(x)  # Shape: (batch_size, num_classes)\n",
        "        return x\n"
      ],
      "metadata": {
        "id": "sQiBewZcfmHi"
      },
      "execution_count": null,
      "outputs": []
    },
    {
      "cell_type": "code",
      "source": [
        "# Initialize the model\n",
        "num_features = 80  # 5 IMFs x 16 channels\n",
        "num_timepoints = 875\n",
        "num_classes = 2  # Binary classification\n",
        "\n",
        "model = ResNetTimeSeries(num_features, num_timepoints, num_classes)\n",
        "\n",
        "# Loss function and optimizer\n",
        "criterion = nn.CrossEntropyLoss()\n",
        "optimizer = torch.optim.Adam(model.parameters(), lr=0.001)\n",
        "\n",
        "# Move model to GPU if available\n",
        "device = torch.device(\"cuda\" if torch.cuda.is_available() else \"cpu\")\n",
        "model.to(device)\n"
      ],
      "metadata": {
        "id": "QBJB3coQff3Z",
        "outputId": "eee1eb0c-33ad-4c10-b372-a59d769f9896",
        "colab": {
          "base_uri": "https://localhost:8080/"
        }
      },
      "execution_count": null,
      "outputs": [
        {
          "output_type": "execute_result",
          "data": {
            "text/plain": [
              "ResNetTimeSeries(\n",
              "  (block1): ResNetBlock(\n",
              "    (conv1): Conv1d(80, 64, kernel_size=(7,), stride=(1,), padding=(3,))\n",
              "    (bn1): BatchNorm1d(64, eps=1e-05, momentum=0.1, affine=True, track_running_stats=True)\n",
              "    (conv2): Conv1d(64, 64, kernel_size=(7,), stride=(1,), padding=(3,))\n",
              "    (bn2): BatchNorm1d(64, eps=1e-05, momentum=0.1, affine=True, track_running_stats=True)\n",
              "    (shortcut): Conv1d(80, 64, kernel_size=(1,), stride=(1,))\n",
              "  )\n",
              "  (block2): ResNetBlock(\n",
              "    (conv1): Conv1d(64, 128, kernel_size=(5,), stride=(1,), padding=(2,))\n",
              "    (bn1): BatchNorm1d(128, eps=1e-05, momentum=0.1, affine=True, track_running_stats=True)\n",
              "    (conv2): Conv1d(128, 128, kernel_size=(5,), stride=(1,), padding=(2,))\n",
              "    (bn2): BatchNorm1d(128, eps=1e-05, momentum=0.1, affine=True, track_running_stats=True)\n",
              "    (shortcut): Conv1d(64, 128, kernel_size=(1,), stride=(1,))\n",
              "  )\n",
              "  (block3): ResNetBlock(\n",
              "    (conv1): Conv1d(128, 256, kernel_size=(3,), stride=(1,), padding=(1,))\n",
              "    (bn1): BatchNorm1d(256, eps=1e-05, momentum=0.1, affine=True, track_running_stats=True)\n",
              "    (conv2): Conv1d(256, 256, kernel_size=(3,), stride=(1,), padding=(1,))\n",
              "    (bn2): BatchNorm1d(256, eps=1e-05, momentum=0.1, affine=True, track_running_stats=True)\n",
              "    (shortcut): Conv1d(128, 256, kernel_size=(1,), stride=(1,))\n",
              "  )\n",
              "  (global_avg_pool): AdaptiveAvgPool1d(output_size=1)\n",
              "  (fc): Linear(in_features=256, out_features=2, bias=True)\n",
              ")"
            ]
          },
          "metadata": {},
          "execution_count": 182
        }
      ]
    },
    {
      "cell_type": "code",
      "source": [
        "# Training loop\n",
        "num_epochs = 20\n",
        "for epoch in range(num_epochs):\n",
        "    model.train()\n",
        "    running_loss = 0.0\n",
        "\n",
        "    for inputs, targets in train_loader:\n",
        "        inputs, targets = inputs.to(device), targets.to(device)\n",
        "\n",
        "        # Forward pass\n",
        "        outputs = model(inputs)\n",
        "        loss = criterion(outputs, targets)\n",
        "\n",
        "        # Backward pass and optimization\n",
        "        optimizer.zero_grad()\n",
        "        loss.backward()\n",
        "        optimizer.step()\n",
        "\n",
        "        running_loss += loss.item()\n",
        "\n",
        "    print(f\"Epoch [{epoch+1}/{num_epochs}], Loss: {running_loss / len(train_loader):.4f}\")\n"
      ],
      "metadata": {
        "id": "3xmOge4mf_T4",
        "outputId": "4cb39c14-6949-43b7-89bc-f53ed06329a8",
        "colab": {
          "base_uri": "https://localhost:8080/"
        }
      },
      "execution_count": null,
      "outputs": [
        {
          "output_type": "stream",
          "name": "stdout",
          "text": [
            "Epoch [1/20], Loss: 0.7608\n",
            "Epoch [2/20], Loss: 0.6653\n",
            "Epoch [3/20], Loss: 0.4327\n",
            "Epoch [4/20], Loss: 0.2732\n",
            "Epoch [5/20], Loss: 0.1443\n",
            "Epoch [6/20], Loss: 0.0744\n",
            "Epoch [7/20], Loss: 0.0506\n",
            "Epoch [8/20], Loss: 0.0312\n",
            "Epoch [9/20], Loss: 0.0192\n",
            "Epoch [10/20], Loss: 0.0117\n",
            "Epoch [11/20], Loss: 0.0070\n",
            "Epoch [12/20], Loss: 0.0052\n",
            "Epoch [13/20], Loss: 0.0051\n",
            "Epoch [14/20], Loss: 0.0112\n",
            "Epoch [15/20], Loss: 0.0027\n",
            "Epoch [16/20], Loss: 0.0053\n",
            "Epoch [17/20], Loss: 0.0041\n",
            "Epoch [18/20], Loss: 0.0019\n",
            "Epoch [19/20], Loss: 0.0119\n",
            "Epoch [20/20], Loss: 0.0091\n"
          ]
        }
      ]
    },
    {
      "cell_type": "code",
      "source": [
        "# Evaluation loop\n",
        "model.eval()\n",
        "correct = 0\n",
        "total = 0\n",
        "\n",
        "with torch.no_grad():\n",
        "    for inputs, targets in test_loader:\n",
        "        inputs, targets = inputs.to(device), targets.to(device)\n",
        "        outputs = model(inputs)\n",
        "        _, predicted = torch.max(outputs, 1)\n",
        "        correct += (predicted == targets).sum().item()\n",
        "        total += targets.size(0)\n",
        "\n",
        "accuracy = correct / total\n",
        "print(f\"Test Accuracy: {accuracy * 100:.2f}%\")\n"
      ],
      "metadata": {
        "id": "CUnou3wEgC4_",
        "outputId": "ecd3e6a0-1809-487a-943c-25fd13010b58",
        "colab": {
          "base_uri": "https://localhost:8080/"
        }
      },
      "execution_count": null,
      "outputs": [
        {
          "output_type": "stream",
          "name": "stdout",
          "text": [
            "Test Accuracy: 50.00%\n"
          ]
        }
      ]
    },
    {
      "cell_type": "markdown",
      "source": [
        "## CNN LSTM"
      ],
      "metadata": {
        "id": "1yJ2jahp0dWP"
      }
    },
    {
      "cell_type": "code",
      "source": [
        "import torch\n",
        "import torch.nn as nn\n",
        "import torch.optim as optim\n",
        "import numpy as np\n",
        "\n",
        "num_train_samples, num_features, time_steps = X_train_imfs.shape\n",
        "num_test_samples = X_test_imfs.shape[0]\n",
        "num_channels = 16  # Update this to match your data\n",
        "num_imfs = num_features // num_channels\n",
        "\n",
        "# Reshape training data\n",
        "X_train_lstm = X_train_imfs.reshape(num_train_samples, num_channels, num_imfs, time_steps)\n",
        "# Reshape testing data\n",
        "X_test_lstm = X_test_imfs.reshape(num_test_samples, num_channels, num_imfs, time_steps)\n",
        "\n",
        "# Convert to PyTorch tensors\n",
        "X_train_tensor = torch.tensor(X_train_lstm, dtype=torch.float32)\n",
        "y_train_tensor = torch.tensor(y_train, dtype=torch.long)\n",
        "X_test_tensor = torch.tensor(X_test_lstm, dtype=torch.float32)\n",
        "y_test_tensor = torch.tensor(y_test, dtype=torch.long)\n",
        "\n",
        "\n",
        "# Normalize training data per sample\n",
        "X_train_tensor = (X_train_tensor - X_train_tensor.mean(dim=(2, 3), keepdim=True)) / (\n",
        "    X_train_tensor.std(dim=(2, 3), keepdim=True) + 1e-8\n",
        ")\n",
        "\n",
        "# Normalize testing data per sample\n",
        "X_test_tensor = (X_test_tensor - X_test_tensor.mean(dim=(2, 3), keepdim=True)) / (\n",
        "    X_test_tensor.std(dim=(2, 3), keepdim=True) + 1e-8\n",
        ")\n"
      ],
      "metadata": {
        "id": "0kTyaKsg0ek_"
      },
      "execution_count": null,
      "outputs": []
    },
    {
      "cell_type": "code",
      "source": [
        "import torch\n",
        "import torch.nn as nn\n",
        "import torch.optim as optim\n",
        "\n",
        "class EEGEMDCNNLSTM(nn.Module):\n",
        "    def __init__(self, num_channels, num_imfs, time_steps, num_classes):\n",
        "        super(EEGEMDCNNLSTM, self).__init__()\n",
        "        self.num_channels = num_channels\n",
        "        self.num_imfs = num_imfs\n",
        "        self.time_steps = time_steps\n",
        "\n",
        "        # Combine num_channels and num_imfs into one dimension\n",
        "        input_size = num_channels * num_imfs\n",
        "\n",
        "        # Define Conv1d layers\n",
        "        self.conv1d = nn.Sequential(\n",
        "            nn.Conv1d(\n",
        "                in_channels=input_size,\n",
        "                out_channels=128,\n",
        "                kernel_size=3,\n",
        "                stride=1,\n",
        "                padding=1\n",
        "            ),\n",
        "            nn.BatchNorm1d(128),\n",
        "            nn.ReLU(),\n",
        "            nn.Conv1d(\n",
        "                in_channels=128,\n",
        "                out_channels=256,\n",
        "                kernel_size=3,\n",
        "                stride=1,\n",
        "                padding=1\n",
        "            ),\n",
        "            nn.BatchNorm1d(256),\n",
        "            nn.ReLU(),\n",
        "        )\n",
        "\n",
        "        # LSTM layer\n",
        "        self.lstm = nn.LSTM(\n",
        "            input_size=256,\n",
        "            hidden_size=128,\n",
        "            num_layers=1,\n",
        "            batch_first=True\n",
        "        )\n",
        "\n",
        "        # Fully connected layers\n",
        "        self.fc = nn.Sequential(\n",
        "            nn.Linear(128, 64),\n",
        "            nn.ReLU(),\n",
        "            nn.Dropout(0.5),\n",
        "            nn.Linear(64, num_classes)\n",
        "        )\n",
        "\n",
        "    def forward(self, x):\n",
        "        # x shape: (batch_size, num_channels, num_imfs, time_steps)\n",
        "        batch_size = x.size(0)\n",
        "        # Reshape x to (batch_size, num_channels * num_imfs, time_steps)\n",
        "        x = x.view(batch_size, -1, self.time_steps)\n",
        "        # Apply Conv1d\n",
        "        x = self.conv1d(x)  # Output shape: (batch_size, out_channels, time_steps)\n",
        "        # Prepare for LSTM: (batch_size, time_steps, out_channels)\n",
        "        x = x.permute(0, 2, 1)\n",
        "        # LSTM layer\n",
        "        x, _ = self.lstm(x)\n",
        "        # Take the output from the last time step\n",
        "        x = x[:, -1, :]\n",
        "        # Fully connected layers\n",
        "        x = self.fc(x)\n",
        "        return x\n"
      ],
      "metadata": {
        "id": "fz6r_hrW1kX_"
      },
      "execution_count": null,
      "outputs": []
    },
    {
      "cell_type": "code",
      "source": [
        "# Hyperparameters\n",
        "num_classes = len(torch.unique(y_train_tensor))  # Number of classes in your dataset\n",
        "learning_rate = 0.001\n",
        "num_epochs = 50\n",
        "\n",
        "# Instantiate the model\n",
        "model = EEGEMDCNNLSTM(\n",
        "    num_channels=X_train_tensor.shape[1],\n",
        "    num_imfs=X_train_tensor.shape[2],\n",
        "    time_steps=X_train_tensor.shape[3],\n",
        "    num_classes=num_classes\n",
        ")\n",
        "\n"
      ],
      "metadata": {
        "id": "sBV5jloH1k3c"
      },
      "execution_count": null,
      "outputs": []
    },
    {
      "cell_type": "code",
      "source": [
        "criterion = nn.CrossEntropyLoss()\n",
        "optimizer = optim.Adam(model.parameters(), lr=learning_rate)"
      ],
      "metadata": {
        "id": "tg0kbQnd2qcp"
      },
      "execution_count": null,
      "outputs": []
    },
    {
      "cell_type": "code",
      "source": [
        "# Training loop\n",
        "model.train()\n",
        "for epoch in range(num_epochs):\n",
        "    optimizer.zero_grad()\n",
        "    outputs = model(X_train_tensor)\n",
        "    loss = criterion(outputs, y_train_tensor)\n",
        "    loss.backward()\n",
        "    optimizer.step()\n",
        "\n",
        "    print(f\"Epoch {epoch+1}/{num_epochs}, Loss: {loss.item():.4f}\")\n",
        "\n"
      ],
      "metadata": {
        "id": "57mxvk_d1mb9",
        "outputId": "0fa94fd8-a83c-47e4-d51d-5315d00e2f24",
        "colab": {
          "base_uri": "https://localhost:8080/",
          "height": 460
        }
      },
      "execution_count": null,
      "outputs": [
        {
          "output_type": "stream",
          "name": "stdout",
          "text": [
            "Epoch 1/50, Loss: 0.0337\n",
            "Epoch 2/50, Loss: 0.0233\n",
            "Epoch 3/50, Loss: 0.0148\n",
            "Epoch 4/50, Loss: 0.0099\n",
            "Epoch 5/50, Loss: 0.0075\n",
            "Epoch 6/50, Loss: 0.0038\n"
          ]
        },
        {
          "output_type": "error",
          "ename": "KeyboardInterrupt",
          "evalue": "",
          "traceback": [
            "\u001b[0;31m---------------------------------------------------------------------------\u001b[0m",
            "\u001b[0;31mKeyboardInterrupt\u001b[0m                         Traceback (most recent call last)",
            "\u001b[0;32m<ipython-input-84-4b45ee96e778>\u001b[0m in \u001b[0;36m<cell line: 3>\u001b[0;34m()\u001b[0m\n\u001b[1;32m      5\u001b[0m     \u001b[0moutputs\u001b[0m \u001b[0;34m=\u001b[0m \u001b[0mmodel\u001b[0m\u001b[0;34m(\u001b[0m\u001b[0mX_train_tensor\u001b[0m\u001b[0;34m)\u001b[0m\u001b[0;34m\u001b[0m\u001b[0;34m\u001b[0m\u001b[0m\n\u001b[1;32m      6\u001b[0m     \u001b[0mloss\u001b[0m \u001b[0;34m=\u001b[0m \u001b[0mcriterion\u001b[0m\u001b[0;34m(\u001b[0m\u001b[0moutputs\u001b[0m\u001b[0;34m,\u001b[0m \u001b[0my_train_tensor\u001b[0m\u001b[0;34m)\u001b[0m\u001b[0;34m\u001b[0m\u001b[0;34m\u001b[0m\u001b[0m\n\u001b[0;32m----> 7\u001b[0;31m     \u001b[0mloss\u001b[0m\u001b[0;34m.\u001b[0m\u001b[0mbackward\u001b[0m\u001b[0;34m(\u001b[0m\u001b[0;34m)\u001b[0m\u001b[0;34m\u001b[0m\u001b[0;34m\u001b[0m\u001b[0m\n\u001b[0m\u001b[1;32m      8\u001b[0m     \u001b[0moptimizer\u001b[0m\u001b[0;34m.\u001b[0m\u001b[0mstep\u001b[0m\u001b[0;34m(\u001b[0m\u001b[0;34m)\u001b[0m\u001b[0;34m\u001b[0m\u001b[0;34m\u001b[0m\u001b[0m\n\u001b[1;32m      9\u001b[0m \u001b[0;34m\u001b[0m\u001b[0m\n",
            "\u001b[0;32m/usr/local/lib/python3.10/dist-packages/torch/_tensor.py\u001b[0m in \u001b[0;36mbackward\u001b[0;34m(self, gradient, retain_graph, create_graph, inputs)\u001b[0m\n\u001b[1;32m    520\u001b[0m                 \u001b[0minputs\u001b[0m\u001b[0;34m=\u001b[0m\u001b[0minputs\u001b[0m\u001b[0;34m,\u001b[0m\u001b[0;34m\u001b[0m\u001b[0;34m\u001b[0m\u001b[0m\n\u001b[1;32m    521\u001b[0m             )\n\u001b[0;32m--> 522\u001b[0;31m         torch.autograd.backward(\n\u001b[0m\u001b[1;32m    523\u001b[0m             \u001b[0mself\u001b[0m\u001b[0;34m,\u001b[0m \u001b[0mgradient\u001b[0m\u001b[0;34m,\u001b[0m \u001b[0mretain_graph\u001b[0m\u001b[0;34m,\u001b[0m \u001b[0mcreate_graph\u001b[0m\u001b[0;34m,\u001b[0m \u001b[0minputs\u001b[0m\u001b[0;34m=\u001b[0m\u001b[0minputs\u001b[0m\u001b[0;34m\u001b[0m\u001b[0;34m\u001b[0m\u001b[0m\n\u001b[1;32m    524\u001b[0m         )\n",
            "\u001b[0;32m/usr/local/lib/python3.10/dist-packages/torch/autograd/__init__.py\u001b[0m in \u001b[0;36mbackward\u001b[0;34m(tensors, grad_tensors, retain_graph, create_graph, grad_variables, inputs)\u001b[0m\n\u001b[1;32m    264\u001b[0m     \u001b[0;31m# some Python versions print out the first line of a multi-line function\u001b[0m\u001b[0;34m\u001b[0m\u001b[0;34m\u001b[0m\u001b[0m\n\u001b[1;32m    265\u001b[0m     \u001b[0;31m# calls in the traceback and some print out the last line\u001b[0m\u001b[0;34m\u001b[0m\u001b[0;34m\u001b[0m\u001b[0m\n\u001b[0;32m--> 266\u001b[0;31m     Variable._execution_engine.run_backward(  # Calls into the C++ engine to run the backward pass\n\u001b[0m\u001b[1;32m    267\u001b[0m         \u001b[0mtensors\u001b[0m\u001b[0;34m,\u001b[0m\u001b[0;34m\u001b[0m\u001b[0;34m\u001b[0m\u001b[0m\n\u001b[1;32m    268\u001b[0m         \u001b[0mgrad_tensors_\u001b[0m\u001b[0;34m,\u001b[0m\u001b[0;34m\u001b[0m\u001b[0;34m\u001b[0m\u001b[0m\n",
            "\u001b[0;31mKeyboardInterrupt\u001b[0m: "
          ]
        }
      ]
    },
    {
      "cell_type": "code",
      "source": [
        "# Evaluation\n",
        "model.eval()\n",
        "with torch.no_grad():\n",
        "    outputs = model(X_test_tensor)\n",
        "    _, predicted = torch.max(outputs, 1)\n",
        "    accuracy = (predicted == y_test_tensor).sum().item() / y_test_tensor.size(0)\n",
        "    print(f\"\\nTest Accuracy: {accuracy:.4f}\")"
      ],
      "metadata": {
        "id": "xfQkHIm12YR2",
        "outputId": "ed76f17c-99e8-468c-8e67-7814dfa42474",
        "colab": {
          "base_uri": "https://localhost:8080/"
        }
      },
      "execution_count": null,
      "outputs": [
        {
          "output_type": "stream",
          "name": "stdout",
          "text": [
            "\n",
            "Test Accuracy: 0.7500\n"
          ]
        }
      ]
    },
    {
      "cell_type": "code",
      "source": [
        "# Evaluation\n",
        "model.eval()\n",
        "with torch.no_grad():\n",
        "    outputs = model(X_test_tensor)\n",
        "    _, predicted = torch.max(outputs, 1)\n",
        "    accuracy = (predicted == y_test_tensor).sum().item() / y_test_tensor.size(0)\n",
        "    print(predicted)\n",
        "    print(y_test_tensor)\n",
        "    print(f\"\\nTest Accuracy: {accuracy:.4f}\")"
      ],
      "metadata": {
        "id": "df4AU7BZ3uct",
        "outputId": "2f8994b8-6d65-47e3-a008-510ea5119479",
        "colab": {
          "base_uri": "https://localhost:8080/"
        }
      },
      "execution_count": null,
      "outputs": [
        {
          "output_type": "stream",
          "name": "stdout",
          "text": [
            "tensor([1, 1, 0, 0, 0, 0, 1, 0, 0, 1, 0, 0, 1, 1, 1, 1])\n",
            "tensor([0, 1, 1, 1, 0, 0, 1, 0, 0, 0, 0, 0, 1, 1, 1, 1])\n",
            "\n",
            "Test Accuracy: 0.7500\n"
          ]
        }
      ]
    },
    {
      "cell_type": "code",
      "source": [
        "class Attention(nn.Module):\n",
        "    def __init__(self, hidden_size):\n",
        "        super(Attention, self).__init__()\n",
        "        self.attention = nn.Linear(hidden_size, 1)\n",
        "\n",
        "    def forward(self, lstm_output):\n",
        "        # lstm_output: (batch_size, seq_length, hidden_size)\n",
        "        attn_weights = torch.tanh(self.attention(lstm_output))\n",
        "        attn_weights = torch.softmax(attn_weights, dim=1)\n",
        "        context = torch.sum(attn_weights * lstm_output, dim=1)\n",
        "        return context\n",
        "\n",
        "\n",
        "class EnhancedEEGEMDCNNLSTM(nn.Module):\n",
        "    def __init__(self, num_channels, num_imfs, time_steps, num_classes):\n",
        "        super(EnhancedEEGEMDCNNLSTM, self).__init__()\n",
        "        self.num_channels = num_channels\n",
        "        self.num_imfs = num_imfs\n",
        "        self.time_steps = time_steps  # Add this line to define self.time_steps\n",
        "        input_size = num_channels * num_imfs\n",
        "\n",
        "        # Convolutional Layers with Increased Complexity\n",
        "        self.conv1d = nn.Sequential(\n",
        "            nn.Conv1d(input_size, 256, kernel_size=5, padding=2),\n",
        "            nn.BatchNorm1d(256),\n",
        "            nn.ReLU(),\n",
        "            nn.Conv1d(256, 512, kernel_size=3, padding=1),\n",
        "            nn.BatchNorm1d(512),\n",
        "            nn.ReLU(),\n",
        "            nn.Conv1d(512, 512, kernel_size=3, padding=1),\n",
        "            nn.BatchNorm1d(512),\n",
        "            nn.ReLU(),\n",
        "            nn.Dropout(0.3),\n",
        "        )\n",
        "\n",
        "        # Bidirectional LSTM Layer\n",
        "        self.lstm = nn.LSTM(\n",
        "            input_size=512,\n",
        "            hidden_size=256,\n",
        "            num_layers=2,\n",
        "            batch_first=True,\n",
        "            bidirectional=True\n",
        "        )\n",
        "\n",
        "        # Attention Mechanism\n",
        "        self.attention = Attention(hidden_size=512)  # 256 * 2 for bidirectional\n",
        "\n",
        "        # Fully Connected Layers\n",
        "        self.fc = nn.Sequential(\n",
        "            nn.Linear(512, 256),\n",
        "            nn.ReLU(),\n",
        "            nn.Dropout(0.5),\n",
        "            nn.Linear(256, 128),\n",
        "            nn.ReLU(),\n",
        "            nn.Dropout(0.5),\n",
        "            nn.Linear(128, num_classes)\n",
        "        )\n",
        "\n",
        "    def forward(self, x):\n",
        "        batch_size = x.size(0)\n",
        "        # Now self.time_steps is defined\n",
        "        x = x.view(batch_size, -1, self.time_steps)\n",
        "        x = self.conv1d(x)\n",
        "        x = x.permute(0, 2, 1)\n",
        "        x, _ = self.lstm(x)\n",
        "        x = self.attention(x)\n",
        "        x = self.fc(x)\n",
        "        return x\n"
      ],
      "metadata": {
        "id": "HW4CMe8h5V5U"
      },
      "execution_count": null,
      "outputs": []
    },
    {
      "cell_type": "code",
      "source": [
        "# Hyperparameters\n",
        "num_classes = len(torch.unique(y_train_tensor))  # Number of classes in your dataset\n",
        "learning_rate = 0.001\n",
        "num_epochs = 50\n",
        "\n",
        "# Instantiate the model\n",
        "model_enhanced = EnhancedEEGEMDCNNLSTM(\n",
        "    num_channels=X_train_tensor.shape[1],\n",
        "    num_imfs=X_train_tensor.shape[2],\n",
        "    time_steps=X_train_tensor.shape[3],\n",
        "    num_classes=num_classes\n",
        ")\n",
        "\n",
        "criterion = nn.CrossEntropyLoss()\n",
        "optimizer = optim.Adam(model_enhanced.parameters(), lr=learning_rate)"
      ],
      "metadata": {
        "id": "Idadu5Wq5Wff"
      },
      "execution_count": null,
      "outputs": []
    },
    {
      "cell_type": "code",
      "source": [
        "# Training loop\n",
        "model_enhanced.train()\n",
        "for epoch in range(num_epochs):\n",
        "    optimizer.zero_grad()\n",
        "    outputs = model_enhanced(X_train_tensor)\n",
        "    loss = criterion(outputs, y_train_tensor)\n",
        "    loss.backward()\n",
        "    optimizer.step()\n",
        "\n",
        "    print(f\"Epoch {epoch+1}/{num_epochs}, Loss: {loss.item():.4f}\")\n",
        "\n"
      ],
      "metadata": {
        "id": "2IMMGPSy5iyO",
        "outputId": "891cb55d-32ad-46b5-97ae-1f542a43c25a",
        "colab": {
          "base_uri": "https://localhost:8080/",
          "height": 408
        }
      },
      "execution_count": null,
      "outputs": [
        {
          "output_type": "stream",
          "name": "stdout",
          "text": [
            "Epoch 1/50, Loss: 0.3446\n",
            "Epoch 2/50, Loss: 0.2326\n",
            "Epoch 3/50, Loss: 0.1613\n"
          ]
        },
        {
          "output_type": "error",
          "ename": "KeyboardInterrupt",
          "evalue": "",
          "traceback": [
            "\u001b[0;31m---------------------------------------------------------------------------\u001b[0m",
            "\u001b[0;31mKeyboardInterrupt\u001b[0m                         Traceback (most recent call last)",
            "\u001b[0;32m<ipython-input-102-638bff399bfb>\u001b[0m in \u001b[0;36m<cell line: 3>\u001b[0;34m()\u001b[0m\n\u001b[1;32m      3\u001b[0m \u001b[0;32mfor\u001b[0m \u001b[0mepoch\u001b[0m \u001b[0;32min\u001b[0m \u001b[0mrange\u001b[0m\u001b[0;34m(\u001b[0m\u001b[0mnum_epochs\u001b[0m\u001b[0;34m)\u001b[0m\u001b[0;34m:\u001b[0m\u001b[0;34m\u001b[0m\u001b[0;34m\u001b[0m\u001b[0m\n\u001b[1;32m      4\u001b[0m     \u001b[0moptimizer\u001b[0m\u001b[0;34m.\u001b[0m\u001b[0mzero_grad\u001b[0m\u001b[0;34m(\u001b[0m\u001b[0;34m)\u001b[0m\u001b[0;34m\u001b[0m\u001b[0;34m\u001b[0m\u001b[0m\n\u001b[0;32m----> 5\u001b[0;31m     \u001b[0moutputs\u001b[0m \u001b[0;34m=\u001b[0m \u001b[0mmodel_enhanced\u001b[0m\u001b[0;34m(\u001b[0m\u001b[0mX_train_tensor\u001b[0m\u001b[0;34m)\u001b[0m\u001b[0;34m\u001b[0m\u001b[0;34m\u001b[0m\u001b[0m\n\u001b[0m\u001b[1;32m      6\u001b[0m     \u001b[0mloss\u001b[0m \u001b[0;34m=\u001b[0m \u001b[0mcriterion\u001b[0m\u001b[0;34m(\u001b[0m\u001b[0moutputs\u001b[0m\u001b[0;34m,\u001b[0m \u001b[0my_train_tensor\u001b[0m\u001b[0;34m)\u001b[0m\u001b[0;34m\u001b[0m\u001b[0;34m\u001b[0m\u001b[0m\n\u001b[1;32m      7\u001b[0m     \u001b[0mloss\u001b[0m\u001b[0;34m.\u001b[0m\u001b[0mbackward\u001b[0m\u001b[0;34m(\u001b[0m\u001b[0;34m)\u001b[0m\u001b[0;34m\u001b[0m\u001b[0;34m\u001b[0m\u001b[0m\n",
            "\u001b[0;32m/usr/local/lib/python3.10/dist-packages/torch/nn/modules/module.py\u001b[0m in \u001b[0;36m_wrapped_call_impl\u001b[0;34m(self, *args, **kwargs)\u001b[0m\n\u001b[1;32m   1509\u001b[0m             \u001b[0;32mreturn\u001b[0m \u001b[0mself\u001b[0m\u001b[0;34m.\u001b[0m\u001b[0m_compiled_call_impl\u001b[0m\u001b[0;34m(\u001b[0m\u001b[0;34m*\u001b[0m\u001b[0margs\u001b[0m\u001b[0;34m,\u001b[0m \u001b[0;34m**\u001b[0m\u001b[0mkwargs\u001b[0m\u001b[0;34m)\u001b[0m  \u001b[0;31m# type: ignore[misc]\u001b[0m\u001b[0;34m\u001b[0m\u001b[0;34m\u001b[0m\u001b[0m\n\u001b[1;32m   1510\u001b[0m         \u001b[0;32melse\u001b[0m\u001b[0;34m:\u001b[0m\u001b[0;34m\u001b[0m\u001b[0;34m\u001b[0m\u001b[0m\n\u001b[0;32m-> 1511\u001b[0;31m             \u001b[0;32mreturn\u001b[0m \u001b[0mself\u001b[0m\u001b[0;34m.\u001b[0m\u001b[0m_call_impl\u001b[0m\u001b[0;34m(\u001b[0m\u001b[0;34m*\u001b[0m\u001b[0margs\u001b[0m\u001b[0;34m,\u001b[0m \u001b[0;34m**\u001b[0m\u001b[0mkwargs\u001b[0m\u001b[0;34m)\u001b[0m\u001b[0;34m\u001b[0m\u001b[0;34m\u001b[0m\u001b[0m\n\u001b[0m\u001b[1;32m   1512\u001b[0m \u001b[0;34m\u001b[0m\u001b[0m\n\u001b[1;32m   1513\u001b[0m     \u001b[0;32mdef\u001b[0m \u001b[0m_call_impl\u001b[0m\u001b[0;34m(\u001b[0m\u001b[0mself\u001b[0m\u001b[0;34m,\u001b[0m \u001b[0;34m*\u001b[0m\u001b[0margs\u001b[0m\u001b[0;34m,\u001b[0m \u001b[0;34m**\u001b[0m\u001b[0mkwargs\u001b[0m\u001b[0;34m)\u001b[0m\u001b[0;34m:\u001b[0m\u001b[0;34m\u001b[0m\u001b[0;34m\u001b[0m\u001b[0m\n",
            "\u001b[0;32m/usr/local/lib/python3.10/dist-packages/torch/nn/modules/module.py\u001b[0m in \u001b[0;36m_call_impl\u001b[0;34m(self, *args, **kwargs)\u001b[0m\n\u001b[1;32m   1518\u001b[0m                 \u001b[0;32mor\u001b[0m \u001b[0m_global_backward_pre_hooks\u001b[0m \u001b[0;32mor\u001b[0m \u001b[0m_global_backward_hooks\u001b[0m\u001b[0;34m\u001b[0m\u001b[0;34m\u001b[0m\u001b[0m\n\u001b[1;32m   1519\u001b[0m                 or _global_forward_hooks or _global_forward_pre_hooks):\n\u001b[0;32m-> 1520\u001b[0;31m             \u001b[0;32mreturn\u001b[0m \u001b[0mforward_call\u001b[0m\u001b[0;34m(\u001b[0m\u001b[0;34m*\u001b[0m\u001b[0margs\u001b[0m\u001b[0;34m,\u001b[0m \u001b[0;34m**\u001b[0m\u001b[0mkwargs\u001b[0m\u001b[0;34m)\u001b[0m\u001b[0;34m\u001b[0m\u001b[0;34m\u001b[0m\u001b[0m\n\u001b[0m\u001b[1;32m   1521\u001b[0m \u001b[0;34m\u001b[0m\u001b[0m\n\u001b[1;32m   1522\u001b[0m         \u001b[0;32mtry\u001b[0m\u001b[0;34m:\u001b[0m\u001b[0;34m\u001b[0m\u001b[0;34m\u001b[0m\u001b[0m\n",
            "\u001b[0;32m<ipython-input-98-9b5a56f3d860>\u001b[0m in \u001b[0;36mforward\u001b[0;34m(self, x)\u001b[0m\n\u001b[1;32m     61\u001b[0m         \u001b[0;31m# Now self.time_steps is defined\u001b[0m\u001b[0;34m\u001b[0m\u001b[0;34m\u001b[0m\u001b[0m\n\u001b[1;32m     62\u001b[0m         \u001b[0mx\u001b[0m \u001b[0;34m=\u001b[0m \u001b[0mx\u001b[0m\u001b[0;34m.\u001b[0m\u001b[0mview\u001b[0m\u001b[0;34m(\u001b[0m\u001b[0mbatch_size\u001b[0m\u001b[0;34m,\u001b[0m \u001b[0;34m-\u001b[0m\u001b[0;36m1\u001b[0m\u001b[0;34m,\u001b[0m \u001b[0mself\u001b[0m\u001b[0;34m.\u001b[0m\u001b[0mtime_steps\u001b[0m\u001b[0;34m)\u001b[0m\u001b[0;34m\u001b[0m\u001b[0;34m\u001b[0m\u001b[0m\n\u001b[0;32m---> 63\u001b[0;31m         \u001b[0mx\u001b[0m \u001b[0;34m=\u001b[0m \u001b[0mself\u001b[0m\u001b[0;34m.\u001b[0m\u001b[0mconv1d\u001b[0m\u001b[0;34m(\u001b[0m\u001b[0mx\u001b[0m\u001b[0;34m)\u001b[0m\u001b[0;34m\u001b[0m\u001b[0;34m\u001b[0m\u001b[0m\n\u001b[0m\u001b[1;32m     64\u001b[0m         \u001b[0mx\u001b[0m \u001b[0;34m=\u001b[0m \u001b[0mx\u001b[0m\u001b[0;34m.\u001b[0m\u001b[0mpermute\u001b[0m\u001b[0;34m(\u001b[0m\u001b[0;36m0\u001b[0m\u001b[0;34m,\u001b[0m \u001b[0;36m2\u001b[0m\u001b[0;34m,\u001b[0m \u001b[0;36m1\u001b[0m\u001b[0;34m)\u001b[0m\u001b[0;34m\u001b[0m\u001b[0;34m\u001b[0m\u001b[0m\n\u001b[1;32m     65\u001b[0m         \u001b[0mx\u001b[0m\u001b[0;34m,\u001b[0m \u001b[0m_\u001b[0m \u001b[0;34m=\u001b[0m \u001b[0mself\u001b[0m\u001b[0;34m.\u001b[0m\u001b[0mlstm\u001b[0m\u001b[0;34m(\u001b[0m\u001b[0mx\u001b[0m\u001b[0;34m)\u001b[0m\u001b[0;34m\u001b[0m\u001b[0;34m\u001b[0m\u001b[0m\n",
            "\u001b[0;32m/usr/local/lib/python3.10/dist-packages/torch/nn/modules/module.py\u001b[0m in \u001b[0;36m_wrapped_call_impl\u001b[0;34m(self, *args, **kwargs)\u001b[0m\n\u001b[1;32m   1509\u001b[0m             \u001b[0;32mreturn\u001b[0m \u001b[0mself\u001b[0m\u001b[0;34m.\u001b[0m\u001b[0m_compiled_call_impl\u001b[0m\u001b[0;34m(\u001b[0m\u001b[0;34m*\u001b[0m\u001b[0margs\u001b[0m\u001b[0;34m,\u001b[0m \u001b[0;34m**\u001b[0m\u001b[0mkwargs\u001b[0m\u001b[0;34m)\u001b[0m  \u001b[0;31m# type: ignore[misc]\u001b[0m\u001b[0;34m\u001b[0m\u001b[0;34m\u001b[0m\u001b[0m\n\u001b[1;32m   1510\u001b[0m         \u001b[0;32melse\u001b[0m\u001b[0;34m:\u001b[0m\u001b[0;34m\u001b[0m\u001b[0;34m\u001b[0m\u001b[0m\n\u001b[0;32m-> 1511\u001b[0;31m             \u001b[0;32mreturn\u001b[0m \u001b[0mself\u001b[0m\u001b[0;34m.\u001b[0m\u001b[0m_call_impl\u001b[0m\u001b[0;34m(\u001b[0m\u001b[0;34m*\u001b[0m\u001b[0margs\u001b[0m\u001b[0;34m,\u001b[0m \u001b[0;34m**\u001b[0m\u001b[0mkwargs\u001b[0m\u001b[0;34m)\u001b[0m\u001b[0;34m\u001b[0m\u001b[0;34m\u001b[0m\u001b[0m\n\u001b[0m\u001b[1;32m   1512\u001b[0m \u001b[0;34m\u001b[0m\u001b[0m\n\u001b[1;32m   1513\u001b[0m     \u001b[0;32mdef\u001b[0m \u001b[0m_call_impl\u001b[0m\u001b[0;34m(\u001b[0m\u001b[0mself\u001b[0m\u001b[0;34m,\u001b[0m \u001b[0;34m*\u001b[0m\u001b[0margs\u001b[0m\u001b[0;34m,\u001b[0m \u001b[0;34m**\u001b[0m\u001b[0mkwargs\u001b[0m\u001b[0;34m)\u001b[0m\u001b[0;34m:\u001b[0m\u001b[0;34m\u001b[0m\u001b[0;34m\u001b[0m\u001b[0m\n",
            "\u001b[0;32m/usr/local/lib/python3.10/dist-packages/torch/nn/modules/module.py\u001b[0m in \u001b[0;36m_call_impl\u001b[0;34m(self, *args, **kwargs)\u001b[0m\n\u001b[1;32m   1518\u001b[0m                 \u001b[0;32mor\u001b[0m \u001b[0m_global_backward_pre_hooks\u001b[0m \u001b[0;32mor\u001b[0m \u001b[0m_global_backward_hooks\u001b[0m\u001b[0;34m\u001b[0m\u001b[0;34m\u001b[0m\u001b[0m\n\u001b[1;32m   1519\u001b[0m                 or _global_forward_hooks or _global_forward_pre_hooks):\n\u001b[0;32m-> 1520\u001b[0;31m             \u001b[0;32mreturn\u001b[0m \u001b[0mforward_call\u001b[0m\u001b[0;34m(\u001b[0m\u001b[0;34m*\u001b[0m\u001b[0margs\u001b[0m\u001b[0;34m,\u001b[0m \u001b[0;34m**\u001b[0m\u001b[0mkwargs\u001b[0m\u001b[0;34m)\u001b[0m\u001b[0;34m\u001b[0m\u001b[0;34m\u001b[0m\u001b[0m\n\u001b[0m\u001b[1;32m   1521\u001b[0m \u001b[0;34m\u001b[0m\u001b[0m\n\u001b[1;32m   1522\u001b[0m         \u001b[0;32mtry\u001b[0m\u001b[0;34m:\u001b[0m\u001b[0;34m\u001b[0m\u001b[0;34m\u001b[0m\u001b[0m\n",
            "\u001b[0;32m/usr/local/lib/python3.10/dist-packages/torch/nn/modules/container.py\u001b[0m in \u001b[0;36mforward\u001b[0;34m(self, input)\u001b[0m\n\u001b[1;32m    215\u001b[0m     \u001b[0;32mdef\u001b[0m \u001b[0mforward\u001b[0m\u001b[0;34m(\u001b[0m\u001b[0mself\u001b[0m\u001b[0;34m,\u001b[0m \u001b[0minput\u001b[0m\u001b[0;34m)\u001b[0m\u001b[0;34m:\u001b[0m\u001b[0;34m\u001b[0m\u001b[0;34m\u001b[0m\u001b[0m\n\u001b[1;32m    216\u001b[0m         \u001b[0;32mfor\u001b[0m \u001b[0mmodule\u001b[0m \u001b[0;32min\u001b[0m \u001b[0mself\u001b[0m\u001b[0;34m:\u001b[0m\u001b[0;34m\u001b[0m\u001b[0;34m\u001b[0m\u001b[0m\n\u001b[0;32m--> 217\u001b[0;31m             \u001b[0minput\u001b[0m \u001b[0;34m=\u001b[0m \u001b[0mmodule\u001b[0m\u001b[0;34m(\u001b[0m\u001b[0minput\u001b[0m\u001b[0;34m)\u001b[0m\u001b[0;34m\u001b[0m\u001b[0;34m\u001b[0m\u001b[0m\n\u001b[0m\u001b[1;32m    218\u001b[0m         \u001b[0;32mreturn\u001b[0m \u001b[0minput\u001b[0m\u001b[0;34m\u001b[0m\u001b[0;34m\u001b[0m\u001b[0m\n\u001b[1;32m    219\u001b[0m \u001b[0;34m\u001b[0m\u001b[0m\n",
            "\u001b[0;32m/usr/local/lib/python3.10/dist-packages/torch/nn/modules/module.py\u001b[0m in \u001b[0;36m_wrapped_call_impl\u001b[0;34m(self, *args, **kwargs)\u001b[0m\n\u001b[1;32m   1509\u001b[0m             \u001b[0;32mreturn\u001b[0m \u001b[0mself\u001b[0m\u001b[0;34m.\u001b[0m\u001b[0m_compiled_call_impl\u001b[0m\u001b[0;34m(\u001b[0m\u001b[0;34m*\u001b[0m\u001b[0margs\u001b[0m\u001b[0;34m,\u001b[0m \u001b[0;34m**\u001b[0m\u001b[0mkwargs\u001b[0m\u001b[0;34m)\u001b[0m  \u001b[0;31m# type: ignore[misc]\u001b[0m\u001b[0;34m\u001b[0m\u001b[0;34m\u001b[0m\u001b[0m\n\u001b[1;32m   1510\u001b[0m         \u001b[0;32melse\u001b[0m\u001b[0;34m:\u001b[0m\u001b[0;34m\u001b[0m\u001b[0;34m\u001b[0m\u001b[0m\n\u001b[0;32m-> 1511\u001b[0;31m             \u001b[0;32mreturn\u001b[0m \u001b[0mself\u001b[0m\u001b[0;34m.\u001b[0m\u001b[0m_call_impl\u001b[0m\u001b[0;34m(\u001b[0m\u001b[0;34m*\u001b[0m\u001b[0margs\u001b[0m\u001b[0;34m,\u001b[0m \u001b[0;34m**\u001b[0m\u001b[0mkwargs\u001b[0m\u001b[0;34m)\u001b[0m\u001b[0;34m\u001b[0m\u001b[0;34m\u001b[0m\u001b[0m\n\u001b[0m\u001b[1;32m   1512\u001b[0m \u001b[0;34m\u001b[0m\u001b[0m\n\u001b[1;32m   1513\u001b[0m     \u001b[0;32mdef\u001b[0m \u001b[0m_call_impl\u001b[0m\u001b[0;34m(\u001b[0m\u001b[0mself\u001b[0m\u001b[0;34m,\u001b[0m \u001b[0;34m*\u001b[0m\u001b[0margs\u001b[0m\u001b[0;34m,\u001b[0m \u001b[0;34m**\u001b[0m\u001b[0mkwargs\u001b[0m\u001b[0;34m)\u001b[0m\u001b[0;34m:\u001b[0m\u001b[0;34m\u001b[0m\u001b[0;34m\u001b[0m\u001b[0m\n",
            "\u001b[0;32m/usr/local/lib/python3.10/dist-packages/torch/nn/modules/module.py\u001b[0m in \u001b[0;36m_call_impl\u001b[0;34m(self, *args, **kwargs)\u001b[0m\n\u001b[1;32m   1518\u001b[0m                 \u001b[0;32mor\u001b[0m \u001b[0m_global_backward_pre_hooks\u001b[0m \u001b[0;32mor\u001b[0m \u001b[0m_global_backward_hooks\u001b[0m\u001b[0;34m\u001b[0m\u001b[0;34m\u001b[0m\u001b[0m\n\u001b[1;32m   1519\u001b[0m                 or _global_forward_hooks or _global_forward_pre_hooks):\n\u001b[0;32m-> 1520\u001b[0;31m             \u001b[0;32mreturn\u001b[0m \u001b[0mforward_call\u001b[0m\u001b[0;34m(\u001b[0m\u001b[0;34m*\u001b[0m\u001b[0margs\u001b[0m\u001b[0;34m,\u001b[0m \u001b[0;34m**\u001b[0m\u001b[0mkwargs\u001b[0m\u001b[0;34m)\u001b[0m\u001b[0;34m\u001b[0m\u001b[0;34m\u001b[0m\u001b[0m\n\u001b[0m\u001b[1;32m   1521\u001b[0m \u001b[0;34m\u001b[0m\u001b[0m\n\u001b[1;32m   1522\u001b[0m         \u001b[0;32mtry\u001b[0m\u001b[0;34m:\u001b[0m\u001b[0;34m\u001b[0m\u001b[0;34m\u001b[0m\u001b[0m\n",
            "\u001b[0;32m/usr/local/lib/python3.10/dist-packages/torch/nn/modules/conv.py\u001b[0m in \u001b[0;36mforward\u001b[0;34m(self, input)\u001b[0m\n\u001b[1;32m    308\u001b[0m \u001b[0;34m\u001b[0m\u001b[0m\n\u001b[1;32m    309\u001b[0m     \u001b[0;32mdef\u001b[0m \u001b[0mforward\u001b[0m\u001b[0;34m(\u001b[0m\u001b[0mself\u001b[0m\u001b[0;34m,\u001b[0m \u001b[0minput\u001b[0m\u001b[0;34m:\u001b[0m \u001b[0mTensor\u001b[0m\u001b[0;34m)\u001b[0m \u001b[0;34m->\u001b[0m \u001b[0mTensor\u001b[0m\u001b[0;34m:\u001b[0m\u001b[0;34m\u001b[0m\u001b[0;34m\u001b[0m\u001b[0m\n\u001b[0;32m--> 310\u001b[0;31m         \u001b[0;32mreturn\u001b[0m \u001b[0mself\u001b[0m\u001b[0;34m.\u001b[0m\u001b[0m_conv_forward\u001b[0m\u001b[0;34m(\u001b[0m\u001b[0minput\u001b[0m\u001b[0;34m,\u001b[0m \u001b[0mself\u001b[0m\u001b[0;34m.\u001b[0m\u001b[0mweight\u001b[0m\u001b[0;34m,\u001b[0m \u001b[0mself\u001b[0m\u001b[0;34m.\u001b[0m\u001b[0mbias\u001b[0m\u001b[0;34m)\u001b[0m\u001b[0;34m\u001b[0m\u001b[0;34m\u001b[0m\u001b[0m\n\u001b[0m\u001b[1;32m    311\u001b[0m \u001b[0;34m\u001b[0m\u001b[0m\n\u001b[1;32m    312\u001b[0m \u001b[0;34m\u001b[0m\u001b[0m\n",
            "\u001b[0;32m/usr/local/lib/python3.10/dist-packages/torch/nn/modules/conv.py\u001b[0m in \u001b[0;36m_conv_forward\u001b[0;34m(self, input, weight, bias)\u001b[0m\n\u001b[1;32m    304\u001b[0m                             \u001b[0mweight\u001b[0m\u001b[0;34m,\u001b[0m \u001b[0mbias\u001b[0m\u001b[0;34m,\u001b[0m \u001b[0mself\u001b[0m\u001b[0;34m.\u001b[0m\u001b[0mstride\u001b[0m\u001b[0;34m,\u001b[0m\u001b[0;34m\u001b[0m\u001b[0;34m\u001b[0m\u001b[0m\n\u001b[1;32m    305\u001b[0m                             _single(0), self.dilation, self.groups)\n\u001b[0;32m--> 306\u001b[0;31m         return F.conv1d(input, weight, bias, self.stride,\n\u001b[0m\u001b[1;32m    307\u001b[0m                         self.padding, self.dilation, self.groups)\n\u001b[1;32m    308\u001b[0m \u001b[0;34m\u001b[0m\u001b[0m\n",
            "\u001b[0;31mKeyboardInterrupt\u001b[0m: "
          ]
        }
      ]
    },
    {
      "cell_type": "code",
      "source": [
        "# Evaluation\n",
        "model_enhanced.eval()\n",
        "with torch.no_grad():\n",
        "    outputs = model_enhanced(X_test_tensor)\n",
        "    _, predicted = torch.max(outputs, 1)\n",
        "    accuracy = (predicted == y_test_tensor).sum().item() / y_test_tensor.size(0)\n",
        "    print(predicted)\n",
        "    print(y_test_tensor)\n",
        "    print(f\"\\nTest Accuracy: {accuracy:.4f}\")"
      ],
      "metadata": {
        "id": "5ddkRad28vSr",
        "outputId": "1b2ab1d0-d1e5-48f7-fe5e-16f41036d5d5",
        "colab": {
          "base_uri": "https://localhost:8080/"
        }
      },
      "execution_count": null,
      "outputs": [
        {
          "output_type": "stream",
          "name": "stdout",
          "text": [
            "tensor([1, 1, 1, 1, 1, 1, 1, 1, 1, 1, 1, 1, 1, 1, 1, 1])\n",
            "tensor([0, 1, 1, 1, 0, 0, 1, 0, 0, 0, 0, 0, 1, 1, 1, 1])\n",
            "\n",
            "Test Accuracy: 0.5000\n"
          ]
        }
      ]
    }
  ]
}