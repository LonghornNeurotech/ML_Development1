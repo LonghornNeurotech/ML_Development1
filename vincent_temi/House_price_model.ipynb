{
  "nbformat": 4,
  "nbformat_minor": 0,
  "metadata": {
    "colab": {
      "provenance": [],
      "gpuType": "T4"
    },
    "kernelspec": {
      "name": "python3",
      "display_name": "Python 3"
    },
    "language_info": {
      "name": "python"
    }
  },
  "cells": [
    {
      "cell_type": "code",
      "execution_count": null,
      "metadata": {
        "id": "0D6OGYhU4Ch_"
      },
      "outputs": [],
      "source": [
        "# IMPORTS\n",
        "\n",
        "from sklearn.preprocessing import MinMaxScaler, StandardScaler\n",
        "from sklearn.model_selection import train_test_split\n",
        "from sklearn.metrics import root_mean_squared_error\n",
        "import pandas as pd\n",
        "import numpy as np\n",
        "import matplotlib.pyplot as plt\n",
        "import torch.nn as nn\n",
        "import torch.optim as optim\n",
        "import torch\n",
        "from sklearn.decomposition import PCA\n",
        "from torch.utils.data import DataLoader, TensorDataset\n",
        "from sklearn.model_selection import GridSearchCV\n",
        "import xgboost as xgb"
      ]
    },
    {
      "cell_type": "code",
      "source": [
        "# EXTRACTING DATA\n",
        "train_data = pd.read_csv('train.csv')\n",
        "eval_data = pd.read_csv('test.csv')\n",
        "\n",
        "x_train, x_test = train_test_split(train_data, test_size=0.2, random_state=42)\n",
        "\n",
        "y_train = x_train['SalePrice']\n",
        "x_train = x_train.drop(columns=['SalePrice'])\n",
        "\n",
        "y_test = x_test['SalePrice']\n",
        "x_test = x_test.drop(columns=['SalePrice'])\n",
        "\n",
        "x_train = x_train.drop(columns=['Id'])\n",
        "x_test = x_test.drop(columns=['Id'])\n",
        "\n",
        "\n"
      ],
      "metadata": {
        "id": "3KDgNr9N56dv"
      },
      "execution_count": null,
      "outputs": []
    },
    {
      "cell_type": "code",
      "source": [],
      "metadata": {
        "colab": {
          "base_uri": "https://localhost:8080/"
        },
        "id": "5mYDoSDcNtaG",
        "outputId": "3f2293d9-1b96-4a7e-dc2a-5ed3941e3ae0"
      },
      "execution_count": null,
      "outputs": [
        {
          "output_type": "stream",
          "name": "stdout",
          "text": [
            "Mounted at /content/drive\n"
          ]
        }
      ]
    },
    {
      "cell_type": "code",
      "source": [
        "# PREPROCESSING\n",
        "\n",
        "\"\"\"\n",
        "    1. convert all the categorical data to numerical data\n",
        "    2. impute missing values\n",
        "    3. Norm the data\n",
        "    4. PCA analysis\n",
        "\"\"\"\n",
        "\n",
        "print(f\"shape of x_train: {x_train.shape} shape of x_test:  {x_test.shape}\")\n",
        "\n",
        "# 1. Convert categorical data to numerical using one-hot encoding\n",
        "categorical_cols = x_train.select_dtypes(include=['object']).columns\n",
        "x_train_encoded = pd.get_dummies(x_train, columns=categorical_cols, drop_first=True)\n",
        "x_test_encoded = pd.get_dummies(x_test, columns=categorical_cols, drop_first=True)\n",
        "\n",
        "x_train_encoded, x_test_encoded = x_train_encoded.align(x_test_encoded, join='left', axis=1)\n",
        "x_test_encoded.fillna(0, inplace=True)\n",
        "\n",
        "# 2. Impute missing values using median for numerical columns\n",
        "for col in x_train_encoded.select_dtypes(include=['float64', 'int64']).columns:\n",
        "    median_value = x_train_encoded[col].median()\n",
        "    x_train_encoded[col].fillna(median_value, inplace=True)\n",
        "    x_test_encoded[col].fillna(median_value, inplace=True)\n",
        "\n",
        "print(f\"shape of x_train_encoded: {x_train_encoded.shape} shape of x_test_encoded:  {x_test_encoded.shape}\")\n",
        "\n",
        "# 3. Normalize the data (Min-Max Scaling)\n",
        "scaler = MinMaxScaler()\n",
        "x_train_scaled = scaler.fit_transform(x_train_encoded)\n",
        "x_test_scaled = scaler.transform(x_test_encoded)\n",
        "\n",
        "\n",
        "pca = PCA(n_components=.30)\n",
        "x_train_pca = pca.fit_transform(x_train_scaled)\n",
        "x_test_pca = pca.transform(x_test_scaled)\n",
        "\n",
        "# 4. PCA\n",
        "print(f'IMPORTANT: shape of x_train_pca: {x_train_pca.shape} shape of x_test_pca:  {x_test_pca.shape} num_components: {pca.n_components_}')\n",
        "\n"
      ],
      "metadata": {
        "id": "Q39zuUhMA8EM",
        "colab": {
          "base_uri": "https://localhost:8080/"
        },
        "outputId": "dcec7860-c98c-4294-f889-7f63c42a4dfb"
      },
      "execution_count": null,
      "outputs": [
        {
          "output_type": "stream",
          "name": "stdout",
          "text": [
            "shape of x_train: (1168, 79) shape of x_test:  (292, 79)\n",
            "shape of x_train_encoded: (1168, 242) shape of x_test_encoded:  (292, 242)\n",
            "IMPORTANT: shape of x_train_pca: (1168, 5) shape of x_test_pca:  (292, 5) num_components: 5\n"
          ]
        },
        {
          "output_type": "stream",
          "name": "stderr",
          "text": [
            "<ipython-input-59-fb453d8df208>:23: FutureWarning: A value is trying to be set on a copy of a DataFrame or Series through chained assignment using an inplace method.\n",
            "The behavior will change in pandas 3.0. This inplace method will never work because the intermediate object on which we are setting values always behaves as a copy.\n",
            "\n",
            "For example, when doing 'df[col].method(value, inplace=True)', try using 'df.method({col: value}, inplace=True)' or df[col] = df[col].method(value) instead, to perform the operation inplace on the original object.\n",
            "\n",
            "\n",
            "  x_train_encoded[col].fillna(median_value, inplace=True)\n",
            "<ipython-input-59-fb453d8df208>:24: FutureWarning: A value is trying to be set on a copy of a DataFrame or Series through chained assignment using an inplace method.\n",
            "The behavior will change in pandas 3.0. This inplace method will never work because the intermediate object on which we are setting values always behaves as a copy.\n",
            "\n",
            "For example, when doing 'df[col].method(value, inplace=True)', try using 'df.method({col: value}, inplace=True)' or df[col] = df[col].method(value) instead, to perform the operation inplace on the original object.\n",
            "\n",
            "\n",
            "  x_test_encoded[col].fillna(median_value, inplace=True)\n"
          ]
        }
      ]
    },
    {
      "cell_type": "code",
      "source": [
        "# EXPLAINING PCA\n",
        "original_feature_names = x_train_encoded.columns\n",
        "pca_components = pd.DataFrame(pca.components_, columns=original_feature_names)\n",
        "explained_variance = pca.explained_variance_ratio_\n",
        "print(\"Top features contributing to the first principal component:\")\n",
        "print(pca_components.iloc[0].nlargest(10))\n",
        "print(\"Explained variance ratio for each component:\")\n",
        "print(explained_variance)"
      ],
      "metadata": {
        "colab": {
          "base_uri": "https://localhost:8080/"
        },
        "id": "YvtfnOSu3dMX",
        "outputId": "a57ec896-ad6a-4b3d-9b7d-eea7f912a497"
      },
      "execution_count": null,
      "outputs": [
        {
          "output_type": "stream",
          "name": "stdout",
          "text": [
            "Top features contributing to the first principal component:\n",
            "Foundation_PConc       0.281971\n",
            "ExterQual_Gd           0.255269\n",
            "Exterior1st_VinylSd    0.233187\n",
            "Exterior2nd_VinylSd    0.229614\n",
            "KitchenQual_Gd         0.226381\n",
            "BsmtQual_Gd            0.221460\n",
            "YearRemodAdd           0.174750\n",
            "BsmtFinType1_GLQ       0.166482\n",
            "GarageType_Attchd      0.145651\n",
            "YearBuilt              0.122028\n",
            "Name: 0, dtype: float64\n",
            "Explained variance ratio for each component:\n",
            "[0.15971872 0.06237027 0.04152981 0.03035932 0.02984492]\n"
          ]
        }
      ]
    },
    {
      "cell_type": "code",
      "source": [
        "\"\"\"\n",
        "if you want your own data processing and cleaning you can start here\n",
        "\"\"\""
      ],
      "metadata": {
        "id": "TW5iayba4A4a"
      },
      "execution_count": null,
      "outputs": []
    },
    {
      "cell_type": "code",
      "source": [
        "'''Temi's ANN'''\n",
        "import torch\n",
        "import torch.nn as nn\n",
        "import torch.optim as optim\n",
        "from torch.utils.data import DataLoader, TensorDataset\n",
        "from torch.optim.lr_scheduler import ReduceLROnPlateau\n",
        "\n",
        "# Create datasets and data loaders\n",
        "train_dataset = TensorDataset(torch.tensor(x_train_pca, dtype=torch.float32),\n",
        "                              torch.tensor(y_train.values, dtype=torch.float32).view(-1, 1))\n",
        "test_dataset = TensorDataset(torch.tensor(x_test_pca, dtype=torch.float32),\n",
        "                             torch.tensor(y_test.values, dtype=torch.float32).view(-1, 1))\n",
        "train_loader = DataLoader(train_dataset, batch_size=32, shuffle=True)\n",
        "test_loader = DataLoader(test_dataset, batch_size=32, shuffle=False)\n",
        "\n",
        "# Define the enhanced ANN model\n",
        "class EnhancedHousePriceModel(nn.Module):\n",
        "    def __init__(self, input_size):\n",
        "        super(EnhancedHousePriceModel, self).__init__()\n",
        "        self.fc1 = nn.Linear(input_size, 512)\n",
        "        self.bn1 = nn.BatchNorm1d(512)\n",
        "        self.fc2 = nn.Linear(512, 256)\n",
        "        self.bn2 = nn.BatchNorm1d(256)\n",
        "        self.fc3 = nn.Linear(256, 128)\n",
        "        self.bn3 = nn.BatchNorm1d(128)\n",
        "        self.fc4 = nn.Linear(128, 64)\n",
        "        self.fc5 = nn.Linear(64, 1)\n",
        "        self.leaky_relu = nn.LeakyReLU(0.01)\n",
        "        self.dropout = nn.Dropout(0.3)\n",
        "\n",
        "    def forward(self, x):\n",
        "        x = self.leaky_relu(self.bn1(self.fc1(x)))\n",
        "        x = self.dropout(x)\n",
        "        x = self.leaky_relu(self.bn2(self.fc2(x)))\n",
        "        x = self.dropout(x)\n",
        "        x = self.leaky_relu(self.bn3(self.fc3(x)))\n",
        "        x = self.fc4(x)\n",
        "        x = self.fc5(x)\n",
        "        return x\n",
        "\n",
        "# Create the model, loss function, and optimizer\n",
        "input_size = x_train_pca.shape[1]\n",
        "model = EnhancedHousePriceModel(input_size)\n",
        "criterion = nn.MSELoss()\n",
        "optimizer = optim.Adam(model.parameters(), lr=0.001)\n",
        "scheduler = ReduceLROnPlateau(optimizer, 'min', patience=5, factor=0.5)\n",
        "\n",
        "# Training loop with early stopping\n",
        "num_epochs = 200\n",
        "best_test_loss = float('inf')\n",
        "patience = 10\n",
        "epochs_without_improvement = 0\n",
        "\n",
        "for epoch in range(num_epochs):\n",
        "    # Training phase\n",
        "    model.train()\n",
        "    for batch_idx, (data, target) in enumerate(train_loader):\n",
        "        optimizer.zero_grad()\n",
        "        output = model(data)\n",
        "        loss = criterion(output, target)\n",
        "        loss.backward()\n",
        "        optimizer.step()\n",
        "\n",
        "    # Validation phase\n",
        "    model.eval()\n",
        "    test_loss = 0\n",
        "    with torch.no_grad():\n",
        "        for data, target in test_loader:\n",
        "            output = model(data)\n",
        "            test_loss += criterion(output, target).item()\n",
        "    test_loss /= len(test_loader)\n",
        "\n",
        "    # Scheduler step\n",
        "    scheduler.step(test_loss)\n",
        "\n",
        "    # Early stopping check\n",
        "    if test_loss < best_test_loss:\n",
        "        best_test_loss = test_loss\n",
        "        epochs_without_improvement = 0\n",
        "    else:\n",
        "        epochs_without_improvement += 1\n",
        "        if epochs_without_improvement >= patience:\n",
        "            print(f'Early stopping at epoch {epoch + 1}')\n",
        "            break\n",
        "\n",
        "    # Print progress\n",
        "    print(f'Epoch [{epoch + 1}/{num_epochs}], Test Loss: {test_loss:.4f}')\n",
        "\n"
      ],
      "metadata": {
        "id": "yle0bLgX6jWY",
        "colab": {
          "base_uri": "https://localhost:8080/"
        },
        "outputId": "c3b88a29-d4e4-4a96-9145-68c2ac545ccc"
      },
      "execution_count": null,
      "outputs": [
        {
          "output_type": "stream",
          "name": "stdout",
          "text": [
            "Epoch [1/200], Test Loss: 39028058726.4000\n",
            "Epoch [2/200], Test Loss: 39004589875.2000\n",
            "Epoch [3/200], Test Loss: 38948567449.6000\n",
            "Epoch [4/200], Test Loss: 38870551142.4000\n",
            "Epoch [5/200], Test Loss: 38727736934.4000\n",
            "Epoch [6/200], Test Loss: 38512248832.0000\n",
            "Epoch [7/200], Test Loss: 38301566566.4000\n",
            "Epoch [8/200], Test Loss: 37965573734.4000\n",
            "Epoch [9/200], Test Loss: 37647270912.0000\n",
            "Epoch [10/200], Test Loss: 37117491404.8000\n",
            "Epoch [11/200], Test Loss: 36605390028.8000\n",
            "Epoch [12/200], Test Loss: 35863705395.2000\n",
            "Epoch [13/200], Test Loss: 35131784601.6000\n",
            "Epoch [14/200], Test Loss: 34248103526.4000\n",
            "Epoch [15/200], Test Loss: 33674100121.6000\n",
            "Epoch [16/200], Test Loss: 32664744140.8000\n",
            "Epoch [17/200], Test Loss: 31283275366.4000\n",
            "Epoch [18/200], Test Loss: 30067304857.6000\n",
            "Epoch [19/200], Test Loss: 29129940377.6000\n",
            "Epoch [20/200], Test Loss: 28375393689.6000\n",
            "Epoch [21/200], Test Loss: 27195332812.8000\n",
            "Epoch [22/200], Test Loss: 25417690726.4000\n",
            "Epoch [23/200], Test Loss: 24283018342.4000\n",
            "Epoch [24/200], Test Loss: 22353702400.0000\n",
            "Epoch [25/200], Test Loss: 21707438387.2000\n",
            "Epoch [26/200], Test Loss: 19214402355.2000\n",
            "Epoch [27/200], Test Loss: 17900032307.2000\n",
            "Epoch [28/200], Test Loss: 17285718732.8000\n",
            "Epoch [29/200], Test Loss: 16812914176.0000\n",
            "Epoch [30/200], Test Loss: 14896459161.6000\n",
            "Epoch [31/200], Test Loss: 14134968217.6000\n",
            "Epoch [32/200], Test Loss: 13804372684.8000\n",
            "Epoch [33/200], Test Loss: 11672859033.6000\n",
            "Epoch [34/200], Test Loss: 11246613248.0000\n",
            "Epoch [35/200], Test Loss: 10424885248.0000\n",
            "Epoch [36/200], Test Loss: 9189850572.8000\n",
            "Epoch [37/200], Test Loss: 8762493849.6000\n",
            "Epoch [38/200], Test Loss: 8392957491.2000\n",
            "Epoch [39/200], Test Loss: 7499134156.8000\n",
            "Epoch [40/200], Test Loss: 7453674240.0000\n",
            "Epoch [41/200], Test Loss: 6497804646.4000\n",
            "Epoch [42/200], Test Loss: 5938030745.6000\n",
            "Epoch [43/200], Test Loss: 5791599257.6000\n",
            "Epoch [44/200], Test Loss: 5436670464.0000\n",
            "Epoch [45/200], Test Loss: 5618092057.6000\n",
            "Epoch [46/200], Test Loss: 5312104704.0000\n",
            "Epoch [47/200], Test Loss: 4770264448.0000\n",
            "Epoch [48/200], Test Loss: 4440284313.6000\n",
            "Epoch [49/200], Test Loss: 4325777792.0000\n",
            "Epoch [50/200], Test Loss: 4866765542.4000\n",
            "Epoch [51/200], Test Loss: 4075099750.4000\n",
            "Epoch [52/200], Test Loss: 3908003315.2000\n",
            "Epoch [53/200], Test Loss: 3984750272.0000\n",
            "Epoch [54/200], Test Loss: 3744847155.2000\n",
            "Epoch [55/200], Test Loss: 3440511769.6000\n",
            "Epoch [56/200], Test Loss: 3104673472.0000\n",
            "Epoch [57/200], Test Loss: 3052203660.8000\n",
            "Epoch [58/200], Test Loss: 2863589337.6000\n",
            "Epoch [59/200], Test Loss: 2652319206.4000\n",
            "Epoch [60/200], Test Loss: 2602234905.6000\n",
            "Epoch [61/200], Test Loss: 2420697030.4000\n",
            "Epoch [62/200], Test Loss: 2348809030.4000\n",
            "Epoch [63/200], Test Loss: 2388647987.2000\n",
            "Epoch [64/200], Test Loss: 2330047987.2000\n",
            "Epoch [65/200], Test Loss: 2327102028.8000\n",
            "Epoch [66/200], Test Loss: 2388001491.2000\n",
            "Epoch [67/200], Test Loss: 2260164352.0000\n",
            "Epoch [68/200], Test Loss: 2343669068.8000\n",
            "Epoch [69/200], Test Loss: 2269179366.4000\n",
            "Epoch [70/200], Test Loss: 2205736454.4000\n",
            "Epoch [71/200], Test Loss: 2267990547.2000\n",
            "Epoch [72/200], Test Loss: 2221599436.8000\n",
            "Epoch [73/200], Test Loss: 2232396201.6000\n",
            "Epoch [74/200], Test Loss: 2174910240.0000\n",
            "Epoch [75/200], Test Loss: 2266666924.8000\n",
            "Epoch [76/200], Test Loss: 2265147494.4000\n",
            "Epoch [77/200], Test Loss: 2255017523.2000\n",
            "Epoch [78/200], Test Loss: 2250481996.8000\n",
            "Epoch [79/200], Test Loss: 2241261011.2000\n",
            "Epoch [80/200], Test Loss: 2230958892.8000\n",
            "Epoch [81/200], Test Loss: 2250859872.0000\n",
            "Epoch [82/200], Test Loss: 2267763897.6000\n",
            "Epoch [83/200], Test Loss: 2232829459.2000\n",
            "Early stopping at epoch 84\n"
          ]
        }
      ]
    },
    {
      "cell_type": "code",
      "source": [
        "y_pred = model(x_test_pca)"
      ],
      "metadata": {
        "colab": {
          "base_uri": "https://localhost:8080/",
          "height": 293
        },
        "id": "m8VOJQ2e8aNW",
        "outputId": "76ec3b28-7992-417b-8999-d40a1d6dc1cd"
      },
      "execution_count": null,
      "outputs": [
        {
          "output_type": "error",
          "ename": "TypeError",
          "evalue": "linear(): argument 'input' (position 1) must be Tensor, not numpy.ndarray",
          "traceback": [
            "\u001b[0;31m---------------------------------------------------------------------------\u001b[0m",
            "\u001b[0;31mTypeError\u001b[0m                                 Traceback (most recent call last)",
            "\u001b[0;32m<ipython-input-62-7417ac33cbfa>\u001b[0m in \u001b[0;36m<cell line: 1>\u001b[0;34m()\u001b[0m\n\u001b[0;32m----> 1\u001b[0;31m \u001b[0my_pred\u001b[0m \u001b[0;34m=\u001b[0m \u001b[0mmodel\u001b[0m\u001b[0;34m(\u001b[0m\u001b[0mx_test_pca\u001b[0m\u001b[0;34m)\u001b[0m\u001b[0;34m\u001b[0m\u001b[0;34m\u001b[0m\u001b[0m\n\u001b[0m",
            "\u001b[0;32m/usr/local/lib/python3.10/dist-packages/torch/nn/modules/module.py\u001b[0m in \u001b[0;36m_wrapped_call_impl\u001b[0;34m(self, *args, **kwargs)\u001b[0m\n\u001b[1;32m   1551\u001b[0m             \u001b[0;32mreturn\u001b[0m \u001b[0mself\u001b[0m\u001b[0;34m.\u001b[0m\u001b[0m_compiled_call_impl\u001b[0m\u001b[0;34m(\u001b[0m\u001b[0;34m*\u001b[0m\u001b[0margs\u001b[0m\u001b[0;34m,\u001b[0m \u001b[0;34m**\u001b[0m\u001b[0mkwargs\u001b[0m\u001b[0;34m)\u001b[0m  \u001b[0;31m# type: ignore[misc]\u001b[0m\u001b[0;34m\u001b[0m\u001b[0;34m\u001b[0m\u001b[0m\n\u001b[1;32m   1552\u001b[0m         \u001b[0;32melse\u001b[0m\u001b[0;34m:\u001b[0m\u001b[0;34m\u001b[0m\u001b[0;34m\u001b[0m\u001b[0m\n\u001b[0;32m-> 1553\u001b[0;31m             \u001b[0;32mreturn\u001b[0m \u001b[0mself\u001b[0m\u001b[0;34m.\u001b[0m\u001b[0m_call_impl\u001b[0m\u001b[0;34m(\u001b[0m\u001b[0;34m*\u001b[0m\u001b[0margs\u001b[0m\u001b[0;34m,\u001b[0m \u001b[0;34m**\u001b[0m\u001b[0mkwargs\u001b[0m\u001b[0;34m)\u001b[0m\u001b[0;34m\u001b[0m\u001b[0;34m\u001b[0m\u001b[0m\n\u001b[0m\u001b[1;32m   1554\u001b[0m \u001b[0;34m\u001b[0m\u001b[0m\n\u001b[1;32m   1555\u001b[0m     \u001b[0;32mdef\u001b[0m \u001b[0m_call_impl\u001b[0m\u001b[0;34m(\u001b[0m\u001b[0mself\u001b[0m\u001b[0;34m,\u001b[0m \u001b[0;34m*\u001b[0m\u001b[0margs\u001b[0m\u001b[0;34m,\u001b[0m \u001b[0;34m**\u001b[0m\u001b[0mkwargs\u001b[0m\u001b[0;34m)\u001b[0m\u001b[0;34m:\u001b[0m\u001b[0;34m\u001b[0m\u001b[0;34m\u001b[0m\u001b[0m\n",
            "\u001b[0;32m/usr/local/lib/python3.10/dist-packages/torch/nn/modules/module.py\u001b[0m in \u001b[0;36m_call_impl\u001b[0;34m(self, *args, **kwargs)\u001b[0m\n\u001b[1;32m   1560\u001b[0m                 \u001b[0;32mor\u001b[0m \u001b[0m_global_backward_pre_hooks\u001b[0m \u001b[0;32mor\u001b[0m \u001b[0m_global_backward_hooks\u001b[0m\u001b[0;34m\u001b[0m\u001b[0;34m\u001b[0m\u001b[0m\n\u001b[1;32m   1561\u001b[0m                 or _global_forward_hooks or _global_forward_pre_hooks):\n\u001b[0;32m-> 1562\u001b[0;31m             \u001b[0;32mreturn\u001b[0m \u001b[0mforward_call\u001b[0m\u001b[0;34m(\u001b[0m\u001b[0;34m*\u001b[0m\u001b[0margs\u001b[0m\u001b[0;34m,\u001b[0m \u001b[0;34m**\u001b[0m\u001b[0mkwargs\u001b[0m\u001b[0;34m)\u001b[0m\u001b[0;34m\u001b[0m\u001b[0;34m\u001b[0m\u001b[0m\n\u001b[0m\u001b[1;32m   1563\u001b[0m \u001b[0;34m\u001b[0m\u001b[0m\n\u001b[1;32m   1564\u001b[0m         \u001b[0;32mtry\u001b[0m\u001b[0;34m:\u001b[0m\u001b[0;34m\u001b[0m\u001b[0;34m\u001b[0m\u001b[0m\n",
            "\u001b[0;32m<ipython-input-61-2c4c4f853833>\u001b[0m in \u001b[0;36mforward\u001b[0;34m(self, x)\u001b[0m\n\u001b[1;32m     30\u001b[0m \u001b[0;34m\u001b[0m\u001b[0m\n\u001b[1;32m     31\u001b[0m     \u001b[0;32mdef\u001b[0m \u001b[0mforward\u001b[0m\u001b[0;34m(\u001b[0m\u001b[0mself\u001b[0m\u001b[0;34m,\u001b[0m \u001b[0mx\u001b[0m\u001b[0;34m)\u001b[0m\u001b[0;34m:\u001b[0m\u001b[0;34m\u001b[0m\u001b[0;34m\u001b[0m\u001b[0m\n\u001b[0;32m---> 32\u001b[0;31m         \u001b[0mx\u001b[0m \u001b[0;34m=\u001b[0m \u001b[0mself\u001b[0m\u001b[0;34m.\u001b[0m\u001b[0mleaky_relu\u001b[0m\u001b[0;34m(\u001b[0m\u001b[0mself\u001b[0m\u001b[0;34m.\u001b[0m\u001b[0mbn1\u001b[0m\u001b[0;34m(\u001b[0m\u001b[0mself\u001b[0m\u001b[0;34m.\u001b[0m\u001b[0mfc1\u001b[0m\u001b[0;34m(\u001b[0m\u001b[0mx\u001b[0m\u001b[0;34m)\u001b[0m\u001b[0;34m)\u001b[0m\u001b[0;34m)\u001b[0m\u001b[0;34m\u001b[0m\u001b[0;34m\u001b[0m\u001b[0m\n\u001b[0m\u001b[1;32m     33\u001b[0m         \u001b[0mx\u001b[0m \u001b[0;34m=\u001b[0m \u001b[0mself\u001b[0m\u001b[0;34m.\u001b[0m\u001b[0mdropout\u001b[0m\u001b[0;34m(\u001b[0m\u001b[0mx\u001b[0m\u001b[0;34m)\u001b[0m\u001b[0;34m\u001b[0m\u001b[0;34m\u001b[0m\u001b[0m\n\u001b[1;32m     34\u001b[0m         \u001b[0mx\u001b[0m \u001b[0;34m=\u001b[0m \u001b[0mself\u001b[0m\u001b[0;34m.\u001b[0m\u001b[0mleaky_relu\u001b[0m\u001b[0;34m(\u001b[0m\u001b[0mself\u001b[0m\u001b[0;34m.\u001b[0m\u001b[0mbn2\u001b[0m\u001b[0;34m(\u001b[0m\u001b[0mself\u001b[0m\u001b[0;34m.\u001b[0m\u001b[0mfc2\u001b[0m\u001b[0;34m(\u001b[0m\u001b[0mx\u001b[0m\u001b[0;34m)\u001b[0m\u001b[0;34m)\u001b[0m\u001b[0;34m)\u001b[0m\u001b[0;34m\u001b[0m\u001b[0;34m\u001b[0m\u001b[0m\n",
            "\u001b[0;32m/usr/local/lib/python3.10/dist-packages/torch/nn/modules/module.py\u001b[0m in \u001b[0;36m_wrapped_call_impl\u001b[0;34m(self, *args, **kwargs)\u001b[0m\n\u001b[1;32m   1551\u001b[0m             \u001b[0;32mreturn\u001b[0m \u001b[0mself\u001b[0m\u001b[0;34m.\u001b[0m\u001b[0m_compiled_call_impl\u001b[0m\u001b[0;34m(\u001b[0m\u001b[0;34m*\u001b[0m\u001b[0margs\u001b[0m\u001b[0;34m,\u001b[0m \u001b[0;34m**\u001b[0m\u001b[0mkwargs\u001b[0m\u001b[0;34m)\u001b[0m  \u001b[0;31m# type: ignore[misc]\u001b[0m\u001b[0;34m\u001b[0m\u001b[0;34m\u001b[0m\u001b[0m\n\u001b[1;32m   1552\u001b[0m         \u001b[0;32melse\u001b[0m\u001b[0;34m:\u001b[0m\u001b[0;34m\u001b[0m\u001b[0;34m\u001b[0m\u001b[0m\n\u001b[0;32m-> 1553\u001b[0;31m             \u001b[0;32mreturn\u001b[0m \u001b[0mself\u001b[0m\u001b[0;34m.\u001b[0m\u001b[0m_call_impl\u001b[0m\u001b[0;34m(\u001b[0m\u001b[0;34m*\u001b[0m\u001b[0margs\u001b[0m\u001b[0;34m,\u001b[0m \u001b[0;34m**\u001b[0m\u001b[0mkwargs\u001b[0m\u001b[0;34m)\u001b[0m\u001b[0;34m\u001b[0m\u001b[0;34m\u001b[0m\u001b[0m\n\u001b[0m\u001b[1;32m   1554\u001b[0m \u001b[0;34m\u001b[0m\u001b[0m\n\u001b[1;32m   1555\u001b[0m     \u001b[0;32mdef\u001b[0m \u001b[0m_call_impl\u001b[0m\u001b[0;34m(\u001b[0m\u001b[0mself\u001b[0m\u001b[0;34m,\u001b[0m \u001b[0;34m*\u001b[0m\u001b[0margs\u001b[0m\u001b[0;34m,\u001b[0m \u001b[0;34m**\u001b[0m\u001b[0mkwargs\u001b[0m\u001b[0;34m)\u001b[0m\u001b[0;34m:\u001b[0m\u001b[0;34m\u001b[0m\u001b[0;34m\u001b[0m\u001b[0m\n",
            "\u001b[0;32m/usr/local/lib/python3.10/dist-packages/torch/nn/modules/module.py\u001b[0m in \u001b[0;36m_call_impl\u001b[0;34m(self, *args, **kwargs)\u001b[0m\n\u001b[1;32m   1560\u001b[0m                 \u001b[0;32mor\u001b[0m \u001b[0m_global_backward_pre_hooks\u001b[0m \u001b[0;32mor\u001b[0m \u001b[0m_global_backward_hooks\u001b[0m\u001b[0;34m\u001b[0m\u001b[0;34m\u001b[0m\u001b[0m\n\u001b[1;32m   1561\u001b[0m                 or _global_forward_hooks or _global_forward_pre_hooks):\n\u001b[0;32m-> 1562\u001b[0;31m             \u001b[0;32mreturn\u001b[0m \u001b[0mforward_call\u001b[0m\u001b[0;34m(\u001b[0m\u001b[0;34m*\u001b[0m\u001b[0margs\u001b[0m\u001b[0;34m,\u001b[0m \u001b[0;34m**\u001b[0m\u001b[0mkwargs\u001b[0m\u001b[0;34m)\u001b[0m\u001b[0;34m\u001b[0m\u001b[0;34m\u001b[0m\u001b[0m\n\u001b[0m\u001b[1;32m   1563\u001b[0m \u001b[0;34m\u001b[0m\u001b[0m\n\u001b[1;32m   1564\u001b[0m         \u001b[0;32mtry\u001b[0m\u001b[0;34m:\u001b[0m\u001b[0;34m\u001b[0m\u001b[0;34m\u001b[0m\u001b[0m\n",
            "\u001b[0;32m/usr/local/lib/python3.10/dist-packages/torch/nn/modules/linear.py\u001b[0m in \u001b[0;36mforward\u001b[0;34m(self, input)\u001b[0m\n\u001b[1;32m    115\u001b[0m \u001b[0;34m\u001b[0m\u001b[0m\n\u001b[1;32m    116\u001b[0m     \u001b[0;32mdef\u001b[0m \u001b[0mforward\u001b[0m\u001b[0;34m(\u001b[0m\u001b[0mself\u001b[0m\u001b[0;34m,\u001b[0m \u001b[0minput\u001b[0m\u001b[0;34m:\u001b[0m \u001b[0mTensor\u001b[0m\u001b[0;34m)\u001b[0m \u001b[0;34m->\u001b[0m \u001b[0mTensor\u001b[0m\u001b[0;34m:\u001b[0m\u001b[0;34m\u001b[0m\u001b[0;34m\u001b[0m\u001b[0m\n\u001b[0;32m--> 117\u001b[0;31m         \u001b[0;32mreturn\u001b[0m \u001b[0mF\u001b[0m\u001b[0;34m.\u001b[0m\u001b[0mlinear\u001b[0m\u001b[0;34m(\u001b[0m\u001b[0minput\u001b[0m\u001b[0;34m,\u001b[0m \u001b[0mself\u001b[0m\u001b[0;34m.\u001b[0m\u001b[0mweight\u001b[0m\u001b[0;34m,\u001b[0m \u001b[0mself\u001b[0m\u001b[0;34m.\u001b[0m\u001b[0mbias\u001b[0m\u001b[0;34m)\u001b[0m\u001b[0;34m\u001b[0m\u001b[0;34m\u001b[0m\u001b[0m\n\u001b[0m\u001b[1;32m    118\u001b[0m \u001b[0;34m\u001b[0m\u001b[0m\n\u001b[1;32m    119\u001b[0m     \u001b[0;32mdef\u001b[0m \u001b[0mextra_repr\u001b[0m\u001b[0;34m(\u001b[0m\u001b[0mself\u001b[0m\u001b[0;34m)\u001b[0m \u001b[0;34m->\u001b[0m \u001b[0mstr\u001b[0m\u001b[0;34m:\u001b[0m\u001b[0;34m\u001b[0m\u001b[0;34m\u001b[0m\u001b[0m\n",
            "\u001b[0;31mTypeError\u001b[0m: linear(): argument 'input' (position 1) must be Tensor, not numpy.ndarray"
          ]
        }
      ]
    },
    {
      "cell_type": "code",
      "source": [
        "\n",
        "\"\"\"\n",
        "Vincent's ANN model with first layer projecting to 256 neurons\n",
        "\"\"\"\n",
        "import torch\n",
        "import torch.nn as nn\n",
        "import torch.optim as optim\n",
        "from torch.utils.data import DataLoader, TensorDataset\n",
        "\n",
        "# Convert data to tensors\n",
        "x_train_tensor = torch.tensor(x_train_pca, dtype=torch.float32)\n",
        "x_test_tensor = torch.tensor(x_test_pca, dtype=torch.float32)\n",
        "\n",
        "y_train = torch.tensor(y_train.values, dtype=torch.float32).view(-1, 1)\n",
        "y_test = torch.tensor(y_test.values, dtype=torch.float32).view(-1, 1)\n",
        "\n",
        "# Create datasets and loaders\n",
        "train_dataset = TensorDataset(x_train_tensor, y_train)\n",
        "test_dataset = TensorDataset(x_test_tensor, y_test)\n",
        "\n",
        "train_loader = DataLoader(dataset=train_dataset, batch_size=32, shuffle=True)\n",
        "test_loader = DataLoader(dataset=test_dataset, batch_size=32, shuffle=False)\n",
        "\n",
        "class HousePriceModel(nn.Module):\n",
        "    def __init__(self, input_size):\n",
        "        super(HousePriceModel, self).__init__()\n",
        "        self.block1 = nn.Sequential(\n",
        "            nn.Linear(input_size, 256),  # Changed from 512 to 256\n",
        "            nn.BatchNorm1d(256),\n",
        "            nn.ReLU(),\n",
        "            nn.Dropout(0.5),\n",
        "        )\n",
        "        self.block2 = nn.Sequential(\n",
        "            nn.Linear(256, 256),\n",
        "            nn.BatchNorm1d(256),\n",
        "            nn.ReLU(),\n",
        "            nn.Dropout(0.5),\n",
        "        )\n",
        "        self.block3 = nn.Sequential(\n",
        "            nn.Linear(256, 128),\n",
        "            nn.BatchNorm1d(128),\n",
        "            nn.ReLU(),\n",
        "        )\n",
        "        self.block4 = nn.Sequential(\n",
        "            nn.Linear(128, 64),\n",
        "            nn.ReLU(),\n",
        "        )\n",
        "        self.block5 = nn.Linear(64, 1)\n",
        "\n",
        "    def forward(self, x):\n",
        "        x = self.block1(x)\n",
        "        x = self.block2(x)\n",
        "        x = self.block3(x)\n",
        "        x = self.block4(x)\n",
        "        x = self.block5(x)\n",
        "        return x\n",
        "\n",
        "# Initialize model, loss function, and optimizer\n",
        "input_size = x_train_pca.shape[1]\n",
        "model = HousePriceModel(input_size)\n",
        "criterion = nn.MSELoss()\n",
        "optimizer = optim.Adam(model.parameters(), lr=0.001, weight_decay=1e-5)\n",
        "\n",
        "# Train the model\n",
        "train_losses = []\n",
        "test_losses = []\n",
        "num_epochs = 200\n",
        "\n",
        "for epoch in range(num_epochs):\n",
        "    model.train()\n",
        "    running_loss = 0.0\n",
        "\n",
        "    for batch_x, batch_y in train_loader:\n",
        "        optimizer.zero_grad()\n",
        "        outputs = model(batch_x)\n",
        "        loss = criterion(outputs, batch_y)\n",
        "        loss.backward()\n",
        "        optimizer.step()\n",
        "        running_loss += loss.item()\n",
        "\n",
        "    train_loss = running_loss / len(train_loader)\n",
        "    train_losses.append(train_loss)\n",
        "\n",
        "    # Evaluate the model\n",
        "    model.eval()\n",
        "    test_loss = 0.0\n",
        "    with torch.no_grad():\n",
        "        for batch_x, batch_y in test_loader:\n",
        "            outputs = model(batch_x)\n",
        "            loss = criterion(outputs, batch_y)\n",
        "            test_loss += loss.item()\n",
        "\n",
        "    test_loss /= len(test_loader)\n",
        "    test_losses.append(test_loss)\n",
        "\n",
        "    # Print progress every 50 epochs\n",
        "    if (epoch + 1) % 50 == 0:\n",
        "        print(f'Epoch [{epoch+1}/{num_epochs}], Train Loss: {train_loss:.4f}, Test Loss: {test_loss:.4f}')\n"
      ],
      "metadata": {
        "colab": {
          "base_uri": "https://localhost:8080/"
        },
        "id": "rOLLKxIq3klI",
        "outputId": "1a67a02a-1f2a-4812-f744-744dd0f04dfc"
      },
      "execution_count": null,
      "outputs": [
        {
          "output_type": "stream",
          "name": "stdout",
          "text": [
            "Epoch [50/200], Train Loss: 5286496269.8378, Test Loss: 6079252736.0000\n",
            "Epoch [100/200], Train Loss: 2044279636.7568, Test Loss: 2186583827.2000\n",
            "Epoch [150/200], Train Loss: 2091583797.6216, Test Loss: 2226297216.0000\n",
            "Epoch [200/200], Train Loss: 1875612608.0000, Test Loss: 2189930284.8000\n"
          ]
        }
      ]
    },
    {
      "cell_type": "code",
      "source": [
        "plt.plot(range(1, num_epochs + 1), train_losses, label='Train Loss')\n",
        "plt.plot(range(1, num_epochs + 1), test_losses, label='Test Loss')\n",
        "plt.xlabel('Epoch')\n",
        "plt.ylabel('Loss')\n",
        "plt.title('Training and Testing Loss over Epochs')\n",
        "plt.legend()\n",
        "plt.grid(True)\n",
        "plt.show()"
      ],
      "metadata": {
        "colab": {
          "base_uri": "https://localhost:8080/",
          "height": 472
        },
        "id": "797sb-1h4b_2",
        "outputId": "428cfe96-26aa-4f63-a105-658522634235"
      },
      "execution_count": null,
      "outputs": [
        {
          "output_type": "display_data",
          "data": {
            "text/plain": [
              "<Figure size 640x480 with 1 Axes>"
            ],
            "image/png": "[encoded data removed]"
          },
          "metadata": {}
        }
      ]
    },
    {
      "cell_type": "code",
      "source": [
        "# Vincent ANN model score\n",
        "test_running_loss = 0.0\n",
        "with torch.inference_mode():\n",
        "      for batch_x, batch_y in test_loader:\n",
        "          test_outputs = model(batch_x)\n",
        "          loss = criterion(test_outputs, batch_y)\n",
        "          test_running_loss += loss.item()\n",
        "\n",
        "test_loss = test_running_loss / len(test_loader)\n",
        "\n",
        "ANN_score = -np.log10((10*pca.n_components / 79)) * np.sqrt(test_loss)\n",
        "print(f\"ANN test_mse loss: {test_loss: .2f}\")\n",
        "print(f\"ANN model score: {ANN_score: .2f}\")"
      ],
      "metadata": {
        "colab": {
          "base_uri": "https://localhost:8080/"
        },
        "id": "Cl1KkiLabFoM",
        "outputId": "85fb9318-9191-4359-a77b-6ba6beff3d4c"
      },
      "execution_count": null,
      "outputs": [
        {
          "output_type": "stream",
          "name": "stdout",
          "text": [
            "ANN test_mse loss:  2189930284.80\n",
            "ANN model score:  66474.97\n"
          ]
        }
      ]
    },
    {
      "cell_type": "code",
      "source": [
        "#Temi ANN model score\n",
        "# Evaluation and scoring\n",
        "test_running_loss = 0.0\n",
        "with torch.inference_mode():\n",
        "    for batch_x, batch_y in test_loader:\n",
        "        test_outputs = model(batch_x)\n",
        "        loss = criterion(test_outputs, batch_y)\n",
        "        test_running_loss += loss.item()\n",
        "\n",
        "test_loss = test_running_loss / len(test_loader)\n",
        "\n",
        "TEMI_score = np.log10((10*pca.n_components / 79)) * np.sqrt(test_loss)\n",
        "\n",
        "# Print final scores\n",
        "print(f'ANN test_mse loss: {test_loss:.2f}')\n",
        "print(f'ANN model score: {TEMI_score:.2f}')\n"
      ],
      "metadata": {
        "colab": {
          "base_uri": "https://localhost:8080/"
        },
        "id": "7-FOCuPAQoYy",
        "outputId": "d4398057-e586-4fea-a3a2-fc8d93a7caa7"
      },
      "execution_count": null,
      "outputs": [
        {
          "output_type": "stream",
          "name": "stdout",
          "text": [
            "ANN test_mse loss: 2189930284.80\n",
            "ANN model score: -66474.97\n"
          ]
        }
      ]
    },
    {
      "cell_type": "code",
      "source": [
        "# LightGBM Dataset Preparation\n",
        "train_data = lgb.Dataset(x_train_scaled, label=y_train)\n",
        "test_data = lgb.Dataset(x_test_scaled, label=y_test)\n",
        "\n",
        "# Define parameter grid for GridSearchCV\n",
        "param_grid = {\n",
        "    'num_leaves': [31, 50, 70],\n",
        "    'max_depth': [-1, 10, 20, 30],\n",
        "    'learning_rate': [0.01, 0.1, 0.05],\n",
        "    'n_estimators': [100, 500, 1000],\n",
        "    'min_child_samples': [20, 50, 100],\n",
        "    'subsample': [0.6, 0.8, 1.0],\n",
        "    'colsample_bytree': [0.6, 0.8, 1.0],\n",
        "    'reg_alpha': [0, 0.1, 1.0],\n",
        "    'reg_lambda': [0, 0.1, 1.0]\n",
        "}\n",
        "\n",
        "# Initialize the LightGBM regressor\n",
        "lgb_model = lgb.LGBMRegressor(random_state=42)\n",
        "\n",
        "# Initialize GridSearchCV\n",
        "grid_search = GridSearchCV(\n",
        "    estimator=lgb_model,\n",
        "    param_grid=param_grid,\n",
        "    cv=3,  # 3-fold cross-validation\n",
        "    scoring='neg_mean_squared_error',  # Use negative MSE as scoring\n",
        "    verbose=1,\n",
        "    n_jobs=-1  # Use all processors\n",
        ")\n",
        "\n",
        "# Perform grid search\n",
        "grid_search.fit(x_train_scaled, y_train)\n",
        "\n",
        "# Best parameters and model\n",
        "print(f\"Best parameters found: {grid_search.best_params_}\")\n",
        "best_model = grid_search.best_estimator_\n",
        "\n",
        "# Predictions and evaluation\n",
        "y_pred = best_model.predict(x_test_scaled)\n",
        "rmse = mean_squared_error(y_test, y_pred, squared=False)\n",
        "print(f'RMSE of the optimized model: {rmse}')"
      ],
      "metadata": {
        "id": "I9aKopgMVEhW",
        "colab": {
          "base_uri": "https://localhost:8080/",
          "height": 216
        },
        "outputId": "42563299-86fb-4ca2-f633-f8ecc0289d6c"
      },
      "execution_count": null,
      "outputs": [
        {
          "output_type": "error",
          "ename": "NameError",
          "evalue": "name 'lgb' is not defined",
          "traceback": [
            "\u001b[0;31m---------------------------------------------------------------------------\u001b[0m",
            "\u001b[0;31mNameError\u001b[0m                                 Traceback (most recent call last)",
            "\u001b[0;32m<ipython-input-67-00bd865ba091>\u001b[0m in \u001b[0;36m<cell line: 2>\u001b[0;34m()\u001b[0m\n\u001b[1;32m      1\u001b[0m \u001b[0;31m# LightGBM Dataset Preparation\u001b[0m\u001b[0;34m\u001b[0m\u001b[0;34m\u001b[0m\u001b[0m\n\u001b[0;32m----> 2\u001b[0;31m \u001b[0mtrain_data\u001b[0m \u001b[0;34m=\u001b[0m \u001b[0mlgb\u001b[0m\u001b[0;34m.\u001b[0m\u001b[0mDataset\u001b[0m\u001b[0;34m(\u001b[0m\u001b[0mx_train_scaled\u001b[0m\u001b[0;34m,\u001b[0m \u001b[0mlabel\u001b[0m\u001b[0;34m=\u001b[0m\u001b[0my_train\u001b[0m\u001b[0;34m)\u001b[0m\u001b[0;34m\u001b[0m\u001b[0;34m\u001b[0m\u001b[0m\n\u001b[0m\u001b[1;32m      3\u001b[0m \u001b[0mtest_data\u001b[0m \u001b[0;34m=\u001b[0m \u001b[0mlgb\u001b[0m\u001b[0;34m.\u001b[0m\u001b[0mDataset\u001b[0m\u001b[0;34m(\u001b[0m\u001b[0mx_test_scaled\u001b[0m\u001b[0;34m,\u001b[0m \u001b[0mlabel\u001b[0m\u001b[0;34m=\u001b[0m\u001b[0my_test\u001b[0m\u001b[0;34m)\u001b[0m\u001b[0;34m\u001b[0m\u001b[0;34m\u001b[0m\u001b[0m\n\u001b[1;32m      4\u001b[0m \u001b[0;34m\u001b[0m\u001b[0m\n\u001b[1;32m      5\u001b[0m \u001b[0;31m# Define parameter grid for GridSearchCV\u001b[0m\u001b[0;34m\u001b[0m\u001b[0;34m\u001b[0m\u001b[0m\n",
            "\u001b[0;31mNameError\u001b[0m: name 'lgb' is not defined"
          ]
        }
      ]
    },
    {
      "cell_type": "code",
      "source": [
        "if(ANN_score <= TEMI_score):\n",
        "    print(f\"VINCENT model performs better with score of {ANN_score: .4f}\")\n",
        "else:\n",
        "    print(f\"TEMI model performs better with score of {TEMI_score: .4f}\")"
      ],
      "metadata": {
        "colab": {
          "base_uri": "https://localhost:8080/"
        },
        "id": "wgNhWCYLeDFM",
        "outputId": "7c848cad-31a8-4714-af5e-3c71b407f15a"
      },
      "execution_count": null,
      "outputs": [
        {
          "output_type": "stream",
          "name": "stdout",
          "text": [
            "TEMI model performs better with score of -66474.9726\n"
          ]
        }
      ]
    },
    {
      "cell_type": "code",
      "source": [
        "1098042381 * (np.sqrt(79)/79) > ANN_score"
      ],
      "metadata": {
        "colab": {
          "base_uri": "https://localhost:8080/"
        },
        "id": "O1yHGYeuXAYN",
        "outputId": "ae2447a6-5ccb-4c67-f5f7-0ae1854f9bcb"
      },
      "execution_count": null,
      "outputs": [
        {
          "output_type": "execute_result",
          "data": {
            "text/plain": [
              "True"
            ]
          },
          "metadata": {},
          "execution_count": 69
        }
      ]
    },
    {
      "cell_type": "code",
      "source": [
        "import pandas as pd\n",
        "from sklearn.preprocessing import MinMaxScaler\n",
        "from sklearn.decomposition import PCA\n",
        "\n",
        "# 1. Convert categorical data to numerical using one-hot encoding\n",
        "categorical_cols = eval_data.select_dtypes(include=['object']).columns\n",
        "eval_encoded = pd.get_dummies(eval_data, columns=categorical_cols, drop_first=True)\n",
        "\n",
        "# Align with the original training features (x_train_encoded)\n",
        "eval_encoded = eval_encoded.reindex(columns=x_train_encoded.columns, fill_value=0)\n",
        "\n",
        "# 2. Impute missing values using median for numerical columns\n",
        "for col in eval_encoded.select_dtypes(include=['float64', 'int64']).columns:\n",
        "    median_value = x_train_encoded[col].median()  # Use training medians for consistency\n",
        "    eval_encoded[col].fillna(median_value, inplace=True)\n",
        "\n",
        "# 3. Normalize the data using the trained scaler\n",
        "eval_scaled = scaler.transform(eval_encoded)  # Use the same scaler from training\n",
        "\n",
        "# 4. Apply the trained PCA for dimensionality reduction\n",
        "eval_pca = pca.transform(eval_scaled)  # Use the trained PCA model\n",
        "\n",
        "import torch\n",
        "import numpy as np\n",
        "\n",
        "# Assuming `eval_pca` is the PCA-transformed data and `model` is your trained model\n",
        "eval_dataset = torch.utils.data.TensorDataset(torch.tensor(eval_pca, dtype=torch.float32))\n",
        "eval_loader = torch.utils.data.DataLoader(eval_dataset, batch_size=32, shuffle=False)\n",
        "\n",
        "# Initialize variables to store predictions\n",
        "all_predictions = []\n",
        "\n",
        "# Inference loop\n",
        "with torch.inference_mode():\n",
        "    for batch_x in eval_loader:\n",
        "        batch_x = batch_x[0]  # Extract the data from the DataLoader\n",
        "        outputs = model(batch_x)  # Get predictions from the model\n",
        "        all_predictions.append(outputs.numpy())  # Collect predictions\n",
        "\n",
        "# Concatenate predictions from all batches\n",
        "all_predictions = np.concatenate(all_predictions, axis=0)\n",
        "\n",
        "pd.DataFrame({'ID': np.arange(1461,2920), 'SalePrice': all_predictions.flatten()}).to_csv('submission5.csv', index=False)\n",
        "\n"
      ],
      "metadata": {
        "id": "Al0DzPK1ACUa",
        "colab": {
          "base_uri": "https://localhost:8080/"
        },
        "outputId": "43000c84-c277-4ba2-f485-e61dae27f132"
      },
      "execution_count": null,
      "outputs": [
        {
          "output_type": "stream",
          "name": "stderr",
          "text": [
            "<ipython-input-73-d3ae40cf6524>:15: FutureWarning: A value is trying to be set on a copy of a DataFrame or Series through chained assignment using an inplace method.\n",
            "The behavior will change in pandas 3.0. This inplace method will never work because the intermediate object on which we are setting values always behaves as a copy.\n",
            "\n",
            "For example, when doing 'df[col].method(value, inplace=True)', try using 'df.method({col: value}, inplace=True)' or df[col] = df[col].method(value) instead, to perform the operation inplace on the original object.\n",
            "\n",
            "\n",
            "  eval_encoded[col].fillna(median_value, inplace=True)\n",
            "<ipython-input-73-d3ae40cf6524>:15: FutureWarning: A value is trying to be set on a copy of a DataFrame or Series through chained assignment using an inplace method.\n",
            "The behavior will change in pandas 3.0. This inplace method will never work because the intermediate object on which we are setting values always behaves as a copy.\n",
            "\n",
            "For example, when doing 'df[col].method(value, inplace=True)', try using 'df.method({col: value}, inplace=True)' or df[col] = df[col].method(value) instead, to perform the operation inplace on the original object.\n",
            "\n",
            "\n",
            "  eval_encoded[col].fillna(median_value, inplace=True)\n",
            "<ipython-input-73-d3ae40cf6524>:15: FutureWarning: A value is trying to be set on a copy of a DataFrame or Series through chained assignment using an inplace method.\n",
            "The behavior will change in pandas 3.0. This inplace method will never work because the intermediate object on which we are setting values always behaves as a copy.\n",
            "\n",
            "For example, when doing 'df[col].method(value, inplace=True)', try using 'df.method({col: value}, inplace=True)' or df[col] = df[col].method(value) instead, to perform the operation inplace on the original object.\n",
            "\n",
            "\n",
            "  eval_encoded[col].fillna(median_value, inplace=True)\n",
            "<ipython-input-73-d3ae40cf6524>:15: FutureWarning: A value is trying to be set on a copy of a DataFrame or Series through chained assignment using an inplace method.\n",
            "The behavior will change in pandas 3.0. This inplace method will never work because the intermediate object on which we are setting values always behaves as a copy.\n",
            "\n",
            "For example, when doing 'df[col].method(value, inplace=True)', try using 'df.method({col: value}, inplace=True)' or df[col] = df[col].method(value) instead, to perform the operation inplace on the original object.\n",
            "\n",
            "\n",
            "  eval_encoded[col].fillna(median_value, inplace=True)\n",
            "<ipython-input-73-d3ae40cf6524>:15: FutureWarning: A value is trying to be set on a copy of a DataFrame or Series through chained assignment using an inplace method.\n",
            "The behavior will change in pandas 3.0. This inplace method will never work because the intermediate object on which we are setting values always behaves as a copy.\n",
            "\n",
            "For example, when doing 'df[col].method(value, inplace=True)', try using 'df.method({col: value}, inplace=True)' or df[col] = df[col].method(value) instead, to perform the operation inplace on the original object.\n",
            "\n",
            "\n",
            "  eval_encoded[col].fillna(median_value, inplace=True)\n",
            "<ipython-input-73-d3ae40cf6524>:15: FutureWarning: A value is trying to be set on a copy of a DataFrame or Series through chained assignment using an inplace method.\n",
            "The behavior will change in pandas 3.0. This inplace method will never work because the intermediate object on which we are setting values always behaves as a copy.\n",
            "\n",
            "For example, when doing 'df[col].method(value, inplace=True)', try using 'df.method({col: value}, inplace=True)' or df[col] = df[col].method(value) instead, to perform the operation inplace on the original object.\n",
            "\n",
            "\n",
            "  eval_encoded[col].fillna(median_value, inplace=True)\n",
            "<ipython-input-73-d3ae40cf6524>:15: FutureWarning: A value is trying to be set on a copy of a DataFrame or Series through chained assignment using an inplace method.\n",
            "The behavior will change in pandas 3.0. This inplace method will never work because the intermediate object on which we are setting values always behaves as a copy.\n",
            "\n",
            "For example, when doing 'df[col].method(value, inplace=True)', try using 'df.method({col: value}, inplace=True)' or df[col] = df[col].method(value) instead, to perform the operation inplace on the original object.\n",
            "\n",
            "\n",
            "  eval_encoded[col].fillna(median_value, inplace=True)\n",
            "<ipython-input-73-d3ae40cf6524>:15: FutureWarning: A value is trying to be set on a copy of a DataFrame or Series through chained assignment using an inplace method.\n",
            "The behavior will change in pandas 3.0. This inplace method will never work because the intermediate object on which we are setting values always behaves as a copy.\n",
            "\n",
            "For example, when doing 'df[col].method(value, inplace=True)', try using 'df.method({col: value}, inplace=True)' or df[col] = df[col].method(value) instead, to perform the operation inplace on the original object.\n",
            "\n",
            "\n",
            "  eval_encoded[col].fillna(median_value, inplace=True)\n",
            "<ipython-input-73-d3ae40cf6524>:15: FutureWarning: A value is trying to be set on a copy of a DataFrame or Series through chained assignment using an inplace method.\n",
            "The behavior will change in pandas 3.0. This inplace method will never work because the intermediate object on which we are setting values always behaves as a copy.\n",
            "\n",
            "For example, when doing 'df[col].method(value, inplace=True)', try using 'df.method({col: value}, inplace=True)' or df[col] = df[col].method(value) instead, to perform the operation inplace on the original object.\n",
            "\n",
            "\n",
            "  eval_encoded[col].fillna(median_value, inplace=True)\n",
            "<ipython-input-73-d3ae40cf6524>:15: FutureWarning: A value is trying to be set on a copy of a DataFrame or Series through chained assignment using an inplace method.\n",
            "The behavior will change in pandas 3.0. This inplace method will never work because the intermediate object on which we are setting values always behaves as a copy.\n",
            "\n",
            "For example, when doing 'df[col].method(value, inplace=True)', try using 'df.method({col: value}, inplace=True)' or df[col] = df[col].method(value) instead, to perform the operation inplace on the original object.\n",
            "\n",
            "\n",
            "  eval_encoded[col].fillna(median_value, inplace=True)\n",
            "<ipython-input-73-d3ae40cf6524>:15: FutureWarning: A value is trying to be set on a copy of a DataFrame or Series through chained assignment using an inplace method.\n",
            "The behavior will change in pandas 3.0. This inplace method will never work because the intermediate object on which we are setting values always behaves as a copy.\n",
            "\n",
            "For example, when doing 'df[col].method(value, inplace=True)', try using 'df.method({col: value}, inplace=True)' or df[col] = df[col].method(value) instead, to perform the operation inplace on the original object.\n",
            "\n",
            "\n",
            "  eval_encoded[col].fillna(median_value, inplace=True)\n",
            "<ipython-input-73-d3ae40cf6524>:15: FutureWarning: A value is trying to be set on a copy of a DataFrame or Series through chained assignment using an inplace method.\n",
            "The behavior will change in pandas 3.0. This inplace method will never work because the intermediate object on which we are setting values always behaves as a copy.\n",
            "\n",
            "For example, when doing 'df[col].method(value, inplace=True)', try using 'df.method({col: value}, inplace=True)' or df[col] = df[col].method(value) instead, to perform the operation inplace on the original object.\n",
            "\n",
            "\n",
            "  eval_encoded[col].fillna(median_value, inplace=True)\n",
            "<ipython-input-73-d3ae40cf6524>:15: FutureWarning: A value is trying to be set on a copy of a DataFrame or Series through chained assignment using an inplace method.\n",
            "The behavior will change in pandas 3.0. This inplace method will never work because the intermediate object on which we are setting values always behaves as a copy.\n",
            "\n",
            "For example, when doing 'df[col].method(value, inplace=True)', try using 'df.method({col: value}, inplace=True)' or df[col] = df[col].method(value) instead, to perform the operation inplace on the original object.\n",
            "\n",
            "\n",
            "  eval_encoded[col].fillna(median_value, inplace=True)\n",
            "<ipython-input-73-d3ae40cf6524>:15: FutureWarning: A value is trying to be set on a copy of a DataFrame or Series through chained assignment using an inplace method.\n",
            "The behavior will change in pandas 3.0. This inplace method will never work because the intermediate object on which we are setting values always behaves as a copy.\n",
            "\n",
            "For example, when doing 'df[col].method(value, inplace=True)', try using 'df.method({col: value}, inplace=True)' or df[col] = df[col].method(value) instead, to perform the operation inplace on the original object.\n",
            "\n",
            "\n",
            "  eval_encoded[col].fillna(median_value, inplace=True)\n",
            "<ipython-input-73-d3ae40cf6524>:15: FutureWarning: A value is trying to be set on a copy of a DataFrame or Series through chained assignment using an inplace method.\n",
            "The behavior will change in pandas 3.0. This inplace method will never work because the intermediate object on which we are setting values always behaves as a copy.\n",
            "\n",
            "For example, when doing 'df[col].method(value, inplace=True)', try using 'df.method({col: value}, inplace=True)' or df[col] = df[col].method(value) instead, to perform the operation inplace on the original object.\n",
            "\n",
            "\n",
            "  eval_encoded[col].fillna(median_value, inplace=True)\n",
            "<ipython-input-73-d3ae40cf6524>:15: FutureWarning: A value is trying to be set on a copy of a DataFrame or Series through chained assignment using an inplace method.\n",
            "The behavior will change in pandas 3.0. This inplace method will never work because the intermediate object on which we are setting values always behaves as a copy.\n",
            "\n",
            "For example, when doing 'df[col].method(value, inplace=True)', try using 'df.method({col: value}, inplace=True)' or df[col] = df[col].method(value) instead, to perform the operation inplace on the original object.\n",
            "\n",
            "\n",
            "  eval_encoded[col].fillna(median_value, inplace=True)\n",
            "<ipython-input-73-d3ae40cf6524>:15: FutureWarning: A value is trying to be set on a copy of a DataFrame or Series through chained assignment using an inplace method.\n",
            "The behavior will change in pandas 3.0. This inplace method will never work because the intermediate object on which we are setting values always behaves as a copy.\n",
            "\n",
            "For example, when doing 'df[col].method(value, inplace=True)', try using 'df.method({col: value}, inplace=True)' or df[col] = df[col].method(value) instead, to perform the operation inplace on the original object.\n",
            "\n",
            "\n",
            "  eval_encoded[col].fillna(median_value, inplace=True)\n"
          ]
        }
      ]
    }
  ]
}